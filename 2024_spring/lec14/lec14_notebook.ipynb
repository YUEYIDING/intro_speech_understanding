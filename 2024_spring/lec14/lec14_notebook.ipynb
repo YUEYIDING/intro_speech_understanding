{
 "cells": [
  {
   "cell_type": "markdown",
   "id": "6a424b44",
   "metadata": {},
   "source": [
    "# Speech Understanding \n",
    "# Lecture 14: Personal Assistant\n"
   ]
  },
  {
   "cell_type": "markdown",
   "id": "b3983e7c",
   "metadata": {},
   "source": [
    "### Mark Hasegawa-Johnson, KCGI"
   ]
  },
  {
   "cell_type": "markdown",
   "id": "0b8ca0a6",
   "metadata": {},
   "source": [
    "1. <a href=\"#section1\">What time is it?</a>\n",
    "1. <a href=\"#section2\">Tell me a joke!</a>\n",
    "1. <a href=\"#section3\">Show me my calendar for today</a>\n",
    "1. <a href=\"#section4\">Personal assistant</a>\n",
    "1. <a href=\"#homework\">Homework</a>\n"
   ]
  },
  {
   "cell_type": "markdown",
   "id": "731a115a",
   "metadata": {},
   "source": [
    "<a id='section1'></a>"
   ]
  },
  {
   "cell_type": "markdown",
   "id": "59f8148f",
   "metadata": {},
   "source": [
    "## 1. What time is it?"
   ]
  },
  {
   "cell_type": "markdown",
   "id": "52fb605c",
   "metadata": {},
   "source": [
    "We will use the `datetime` package to find out what time it is.  We will get the date and time in ISO standard format, then parse them, and read the result back to the user.  First, let's see what the ISO standard format looks like."
   ]
  },
  {
   "cell_type": "code",
   "execution_count": 1,
   "id": "9a148c64",
   "metadata": {},
   "outputs": [
    {
     "name": "stdout",
     "output_type": "stream",
     "text": [
      "2024-07-23T10:22:48.776655\n"
     ]
    }
   ],
   "source": [
    "import datetime\n",
    "\n",
    "print(datetime.datetime.now().isoformat())"
   ]
  },
  {
   "cell_type": "markdown",
   "id": "cb760385",
   "metadata": {},
   "source": [
    "You can see that the ISO standard format has the date, followed by the the hour, minutes, and seconds.  Our personal assistant will only read to us the hour and minutes.  We can use `split` to split the string at the `T` character, and then to split it at every `:` character, then read out only the relevant part:\n"
   ]
  },
  {
   "cell_type": "code",
   "execution_count": 2,
   "id": "fb5e8124",
   "metadata": {},
   "outputs": [
    {
     "name": "stdout",
     "output_type": "stream",
     "text": [
      "10時22分です\n"
     ]
    }
   ],
   "source": [
    "(date, time) = datetime.datetime.now().isoformat().split(\"T\")\n",
    "\n",
    "(hour, minutes, seconds) = time.split(\":\")\n",
    "\n",
    "print(hour+\"時\"+minutes+\"分です\")"
   ]
  },
  {
   "cell_type": "markdown",
   "id": "92947fe7",
   "metadata": {},
   "source": [
    "Let's create a function that tells us the current time."
   ]
  },
  {
   "cell_type": "code",
   "execution_count": 3,
   "id": "e14f2a8e",
   "metadata": {},
   "outputs": [],
   "source": [
    "import datetime, gtts\n",
    "\n",
    "def what_time_is_it(lang, filename):\n",
    "    '''\n",
    "    Tell me what time it is.\n",
    "    \n",
    "    Parameters:\n",
    "    lang (str) - language in which to speak\n",
    "    filename (str) - the filename into which the audio should be recorded\n",
    "    '''\n",
    "    (date, time) = datetime.datetime.now().isoformat().split(\"T\")\n",
    "    (hour, minutes, seconds) = time.split(\":\")\n",
    "    if lang==\"en\":\n",
    "        text = hour+\" hours and \"+minutes+\" minutes\"\n",
    "    elif lang==\"ja\":\n",
    "        text = hour+\"時\"+minutes+\"分です\"\n",
    "    elif lang==\"zh\":\n",
    "        text = \"现在是\"+hour+\"点\"+\"分\"\n",
    "    else:\n",
    "        text=\"I'm sorry, I don't know that language\"\n",
    "    gtts.gTTS(text,lang=lang).save(filename)\n",
    " "
   ]
  },
  {
   "cell_type": "markdown",
   "id": "323c3007",
   "metadata": {},
   "source": [
    "If you've created that file, you can now test it by running the following block:"
   ]
  },
  {
   "cell_type": "code",
   "execution_count": 4,
   "id": "4321b525",
   "metadata": {},
   "outputs": [
    {
     "ename": "ModuleNotFoundError",
     "evalue": "No module named 'librosa'",
     "output_type": "error",
     "traceback": [
      "\u001b[0;31m---------------------------------------------------------------------------\u001b[0m",
      "\u001b[0;31mModuleNotFoundError\u001b[0m                       Traceback (most recent call last)",
      "Cell \u001b[0;32mIn[4], line 3\u001b[0m\n\u001b[1;32m      1\u001b[0m what_time_is_it(\u001b[38;5;124m\"\u001b[39m\u001b[38;5;124mja\u001b[39m\u001b[38;5;124m\"\u001b[39m, \u001b[38;5;124m\"\u001b[39m\u001b[38;5;124mtime.mp3\u001b[39m\u001b[38;5;124m\"\u001b[39m)\n\u001b[0;32m----> 3\u001b[0m \u001b[38;5;28;01mimport\u001b[39;00m \u001b[38;5;21;01mlibrosa\u001b[39;00m\u001b[38;5;241m,\u001b[39m \u001b[38;5;21;01mIPython\u001b[39;00m\n\u001b[1;32m      4\u001b[0m x, fs \u001b[38;5;241m=\u001b[39m librosa\u001b[38;5;241m.\u001b[39mload(\u001b[38;5;124m'\u001b[39m\u001b[38;5;124mtime.mp3\u001b[39m\u001b[38;5;124m'\u001b[39m)\n\u001b[1;32m      5\u001b[0m IPython\u001b[38;5;241m.\u001b[39mdisplay\u001b[38;5;241m.\u001b[39mAudio(data\u001b[38;5;241m=\u001b[39mx, rate\u001b[38;5;241m=\u001b[39mfs)\n",
      "\u001b[0;31mModuleNotFoundError\u001b[0m: No module named 'librosa'"
     ]
    }
   ],
   "source": [
    "what_time_is_it(\"ja\", \"time.mp3\")\n",
    "\n",
    "import librosa, IPython\n",
    "x, fs = librosa.load('time.mp3')\n",
    "IPython.display.Audio(data=x, rate=fs)"
   ]
  },
  {
   "cell_type": "markdown",
   "id": "5e65b702",
   "metadata": {},
   "source": [
    "<a id='section2'></a>"
   ]
  },
  {
   "cell_type": "markdown",
   "id": "f238c7ab",
   "metadata": {},
   "source": [
    "## 2. Tell me a joke!"
   ]
  },
  {
   "cell_type": "markdown",
   "id": "c4536070",
   "metadata": {},
   "source": [
    "If you want your personal assistant to tell jokes, you need a good source of jokes.  There are many lists of jokes on the internet, though most of the jokes are not very funny."
   ]
  },
  {
   "cell_type": "markdown",
   "id": "75584005",
   "metadata": {},
   "source": [
    "### 2.1 Jokes in English"
   ]
  },
  {
   "cell_type": "markdown",
   "id": "31d2958d",
   "metadata": {},
   "source": [
    "In English, let's use this list of jokes from the `yesinteractive/dadjokes` app:  https://raw.githubusercontent.com/yesinteractive/dadjokes/master/controllers/jokes.txt"
   ]
  },
  {
   "cell_type": "code",
   "execution_count": 5,
   "id": "6a35cd33",
   "metadata": {},
   "outputs": [
    {
     "name": "stdout",
     "output_type": "stream",
     "text": [
      "What did one pirate say to the other when he beat him at chess?  Checkmatey.\n",
      "\n",
      "I burned 2000 calories today  I left my food in the oven for too long.\n",
      "\n",
      "I startled my next-door neighbor with my new electric power tool.   I had to calm him down by saying “Don’t worry, this is just a drill!”\n",
      "\n",
      "I broke my arm in two places.   My doctor told me to stop going to those places.\n",
      "\n",
      "I quit my job at the coffee shop the other day.   It was just the same old grind over and over.\n",
      "\n",
      "I never buy anything that has Velcro with it...  it’s a total rip-off.\n",
      "\n"
     ]
    }
   ],
   "source": [
    "import requests\n",
    "req = requests.get(\"https://raw.githubusercontent.com/yesinteractive/dadjokes/master/controllers/jokes.txt\")\n",
    "\n",
    "texts = {}\n",
    "texts['en'] = req.text\n",
    "with open('jokes_en.txt','w') as f:\n",
    "    f.write(texts['en'].replace('<>','  '))\n",
    "    \n",
    "jokes = {}\n",
    "jokes['en'] = []\n",
    "with open('jokes_en.txt', 'r') as f:\n",
    "    jokes['en'] = f.readlines()\n",
    "\n",
    "for n in range(6):\n",
    "    print(jokes['en'][n])"
   ]
  },
  {
   "cell_type": "markdown",
   "id": "a23e7783",
   "metadata": {},
   "source": [
    "### 2.2 Jokes in Japanese\n",
    "\n",
    "Here is a web page containing some jokes in Japanese: http://www.gujo-tv.ne.jp/~circleband/oyaji%20gag.htm.  \n",
    "\n",
    "Open the page source, and look at `content` at the top.  Notice that this file is stored in `Shift_JIS`, which is a pre-unicode encoding for Japanese characters.  So the first thing we need to do is to convert it to unicode.  One way to do that is by saving the raw binary to a file, and then reading it back in using the `Shift_JIS` decoder:\n"
   ]
  },
  {
   "cell_type": "code",
   "execution_count": 6,
   "id": "d127602e",
   "metadata": {},
   "outputs": [
    {
     "name": "stdout",
     "output_type": "stream",
     "text": [
      "<!DOCTYPE HTML PUBLIC \"-//W3C//DTD HTML 4.01 Transitional//EN\">\n",
      "<HTML>\n",
      "<HEAD>\n",
      "<META name=\"GENERATOR\" content=\"IBM WebSphere Homepage Builder V6.0.1 for Windows\">\n",
      "<META http-equiv=\"Content-Type\" content=\"text/html; charset=Shift_JIS\">\n",
      "<META http-equiv=\"Content-Style-Type\" content=\"text/css\">\n",
      "<TITLE>おやじギャグ</TITLE>\n",
      "</HEAD>\n",
      "<BODY text=\"#FFFF00\" link=\"#00FFFF\" vlink=\"#00FF00\" background=\"st09_bg.gif\">\n",
      "<P align=\"center\"><IMG alt=\"直線上に配置\" width=\"512\" height=\"50\" border=\"0\" src=\"st09_l1.gif\"><FONT color=\"#00cccc\"><B><FONT size=\"+3\"><BR>\n",
      "おやじギャグ</FONT></B></FONT></P>\n",
      "<CENTER>\n",
      "<TABLE border=\"1\">\n",
      "  <TBODY>\n",
      "    <TR>\n",
      "      <TD align=\"center\">1</TD>\n",
      "      <TD align=\"center\">１年生</TD>\n",
      "      <TD align=\"center\">トマトを食べるの　ちょっと待っとって</TD>\n",
      "    \n",
      "    <TR>\n",
      "      <TD align=\"center\">2</TD>\n",
      "      <TD align=\"center\">１年生</TD>\n",
      "      <TD align=\"center\">お金を取られた　おっかねー</TD>\n",
      "    \n",
      "    <TR>\n",
      "      <TD align=\"center\">3</TD>\n",
      "      <TD align=\"center\">１年生</TD>\n",
      "      <TD align=\"center\">スイカを積んだ　せんすいかん</TD>\n",
      "    \n",
      "    <TR>\n",
      "      <TD a\n"
     ]
    }
   ],
   "source": [
    "import requests\n",
    "\n",
    "rawbinary = requests.get(\"http://www.gujo-tv.ne.jp/~circleband/oyaji%20gag.htm\").content\n",
    "with open('jokes_ja.htm','wb') as f:\n",
    "    f.write(rawbinary)\n",
    "    \n",
    "with open('jokes_ja.htm', 'r', encoding='shiftjis') as f:\n",
    "    texts['ja'] = f.read()\n",
    "\n",
    "print(texts['ja'][0:1000])\n"
   ]
  },
  {
   "cell_type": "markdown",
   "id": "59fd5803",
   "metadata": {},
   "source": [
    "Notice that each joke is the third `<td>` tag under a `<tr>` tag.  Let's use BeautifulSoup to find those.\n"
   ]
  },
  {
   "cell_type": "code",
   "execution_count": 7,
   "id": "832e9140",
   "metadata": {},
   "outputs": [
    {
     "name": "stdout",
     "output_type": "stream",
     "text": [
      "トマトを食べるの　ちょっと待っとって\n",
      "\n",
      "お金を取られた　おっかねー\n",
      "\n",
      "スイカを積んだ　せんすいかん\n",
      "\n",
      "トイレでバッタが　ふんばった\n",
      "\n",
      "このアジ　とっても味がある\n",
      "\n"
     ]
    }
   ],
   "source": [
    "import bs4\n",
    "soup = bs4.BeautifulSoup(texts['ja'], \"html.parser\")\n",
    "\n",
    "jokes['ja'] = []\n",
    "for tr in soup.find_all('tr'):\n",
    "    tdlist = tr.find_all('td')\n",
    "    jokes['ja'].append(tdlist[2].text + '\\n')\n",
    "\n",
    "for n in range(5):\n",
    "    print(jokes['ja'][n])\n",
    "\n",
    "with open('jokes_ja.txt','w') as f:\n",
    "    f.writelines(jokes['ja'])"
   ]
  },
  {
   "cell_type": "markdown",
   "id": "ccb945d3",
   "metadata": {},
   "source": [
    "### 2.3 Jokes in Chinese\n",
    "\n",
    "As in Japanese, we need to somehow extract jokes from a web page.  Let's try this web page:  http://www.ziyexing.com/files_8/xiaohua_01.htm.  This file is encoded in gb2312, so we will have to convert it to Unicode, just as we did with the Japanese jokes."
   ]
  },
  {
   "cell_type": "code",
   "execution_count": 8,
   "id": "f2f850b4",
   "metadata": {},
   "outputs": [
    {
     "name": "stdout",
     "output_type": "stream",
     "text": [
      "\n",
      "<html>\n",
      "\n",
      "<head>\n",
      "<meta http-equiv=\"Content-Type\" content=\"text/html; charset=gb2312\">\n",
      "<title>百花园・笑话集锦〔一〕　-- 子夜星网站</title>\n",
      "<link href=\"xiaohua.css\" rel=\"stylesheet\" type=\"text/css\">\n",
      "</head>\n",
      "<body bgcolor=\"#F2F3FB\">\n",
      "<div align=\"center\">\n",
      "  <center>\n",
      "\t\t\t<tr>\n",
      "\t\t\t<td width=\"100%\">\n",
      "\t\t\t<div align=\"center\">\n",
      "\t\t\t<center>\n",
      "\t\t\t<table id=\"table1\">\n",
      "\t\t\t<tr>\n",
      "\t\t\t<td width=\"100%\">\n",
      "\t\t\t<div align=\"center\">\n",
      "\t\t\t<table border=\"0\" cellpadding=\"0\" cellspacing=\"0\" width=\"98%\">\n",
      "\t\t\t<tr>\n",
      "\t\t\t<td width=\"70%\"><span style=\"font-size: 10pt\">　<a target=\"_blank\" href=\"http://www.ziyexing.com/\">首页</a> &gt;&gt; <a target=\"_blank\" href=\"baihuayuan_index.htm\">百花园</a> &gt;&gt;\n",
      "\t\t\t<a href=\"xiaohua_01.htm\">笑话集锦</a> &lt;1&gt;</span></td>\n",
      "\t\t\t<td width=\"30%\">\n",
      "\t\t\t<img border=\"0\" src=\"../material/midnight.gif\" align=\"right\" width=\"167\" height=\"14\"></td>\n",
      "\t\t\t</tr>\n",
      "\t\t\t</table>\n",
      "\t\t</div>\n",
      "\t\t\t</td>\n",
      "\t\t\t</tr>\n",
      "\t\t\t<tr>\n",
      "\t\t\t<td id=\"td_01\">　</td>\n",
      "\t\t\t</tr>\n",
      "\t\t\t<tr>\n",
      "\t\t\t<td width=\"100%\">\n",
      "\t\t\t<div align=\"center\">\n",
      "\t\t\t<table id=\"table2\">\n",
      "\t\t\t<tr>\n",
      "\t\t\t<td>\n",
      "\t\t\t<p align=\"center\">　</p>\n",
      "\t\t\t<div align=\"center\">\n",
      "\t\t\t\t<table id=\"table3\">\n",
      "\t\t\t<tr>\n",
      "\t\t\t<td><div align=\"center\">\n",
      "\t\t\t\t<table border=\"0\" cellpadding=\"0\" cellspacing=\"0\" width=\"80%\">\n",
      "\t\t\t<tr>\n",
      "\t\t\t<td width=\"30%\">　</td>\n",
      "\t\t\t<td width=\"40%\">\n",
      "\t\t\t<p align=\"center\">\n",
      "\t\t\t<span style=\"font-size: 8pt\">\n",
      "\t\t\t<img border=\"0\" src=\"font_xiaohua.gif\" width=\"187\" height=\"39\"><br>\n",
      "\t\t\t<font face=\"宋体\" style=\"font-size: 9pt\"><br>\n",
      "\t\t\t〔一〕<br>\n",
      "\t\t\t<br>\n",
      "\t\t\t</font></span>\n",
      "\t\t\t\t<span style=\"font-size: 10pt\">\n",
      "\t\t\t<a target=\"_blank\" href=\"http://www.ziyexing.com/\">\n",
      "\t\t\t子夜星网站</a>整理编辑</span></td>\n",
      "\t\t\t<td width=\"30%\">\n",
      "\t\t\t<p align=\"center\">\n",
      "\t\t\t<span style=\"font-size: 8pt\">\n",
      "\t\t\t<img border=\"0\" src=\"../material/xiaohua.gif\" width=\"128\" height=\"128\"></td>\n",
      "\t\t\t</tr>\n",
      "\t\t\t\t</table>\n",
      "\t\t\t</div>\n",
      "\t\t\t</td>\n",
      "\t\t\t</tr>\n",
      "\t\t\t\t</table>\n",
      "\t\t\t</div>\n",
      "\t\t\t<p align=\"center\">　<div align=\"center\">\n",
      "\t\t\t\t<table id=\"table2\">\n",
      "\t\t\t<tr>\n",
      "\t\t\t<td>\n",
      "\t\t\t<p style=\"line-height: 150%\">　　<b>○丈夫回家见媳妇在揍孩子</b><br>\n",
      "\t\t\t<br>\n",
      "\t\t\t　　丈夫回家，见妻子在揍孩子，忍了忍没理她，走到厨房看见桌上煮好一锅馄饨，于是吃了一碗。吃完见老婆还在揍儿子，终于忍不住了：“\n"
     ]
    }
   ],
   "source": [
    "import requests\n",
    "\n",
    "rawbinary = requests.get(\"http://www.ziyexing.com/files_8/xiaohua_01.htm\").content\n",
    "    \n",
    "with open('jokes_zh.htm','wb') as f:\n",
    "    f.write(rawbinary)\n",
    "    \n",
    "with open('jokes_zh.htm', 'r', encoding=\"gb2312\", errors=\"ignore\") as f:\n",
    "    texts['zh'] = f.read()\n",
    "\n",
    "print(texts['zh'][:2000])"
   ]
  },
  {
   "cell_type": "markdown",
   "id": "2786fd47",
   "metadata": {},
   "source": [
    "* All of the jokes are in one long paragraph.  This paragraph is distinguished from other paragraphs only because it has `style=\"line-height: 150%\"`\n",
    "* Each joke begins with a line in boldface (`<b>...</b>`), starting with the character `○`.  We can probably just discard the `<b>` and `</b>` tags using the python string `replace` function, and then split the paragraph at the `○` character.\n",
    "* Each joke contains several lines, with lots of extra whitespace.  We can split on `\\n` characters, eliminate `<br>` tags, and then use `strip` to get rid of extra whitespace.\n"
   ]
  },
  {
   "cell_type": "code",
   "execution_count": 9,
   "id": "9b388f8b",
   "metadata": {},
   "outputs": [
    {
     "name": "stdout",
     "output_type": "stream",
     "text": [
      "Joke number  0 :  丈夫回家见媳妇在揍孩子: 丈夫回家，见妻子在揍孩子，忍了忍没理她，走到厨房看见桌上煮好一锅馄饨，于是吃了一碗。吃完见老婆还在揍儿子，终于忍不住了：“教育小孩不能老用暴力，要多讲道理嘛！”妻子说：“好好的一锅馄饨，他居然撒了一泡尿进去，你说气人不气人。”丈夫听后马上说：“媳妇你歇一会，让我来揍！”\n",
      "\n",
      "Joke number  1 :  姐夫的车牌号00544: 一乡镇企业领导中途遇见了小姨子，赶紧刹车。小姨子：“姐夫又换新车了，够威风啊！00544，车牌号也换啦？”姐夫：“这个车牌号才硬呢，意思是──动动我试试！”某日，这位乡镇企业领导因车祸住进了医院。小姨子来病房探视，见到姐夫头缠绷带、还吊着腿的窘相，不禁扑哧一声笑了。小姨子：“你不是说你的车牌号硬吗，咋弄成这模样啦？”姐夫：“妈的，那个肇事车的牌号比我的还硬：44944 ！”\n",
      "\n",
      "Joke number  2 :  院长跳楼: 医院院长因股市暴跌而跳楼，好不容易抢救过来。家人纷纷围在床前，问他想要什么。院长虚弱地道：“我…只想要…沪…市…涨！”老婆一耳光过去：“我一直怀疑你和护士长有关系，到死还想着她！”\n",
      "\n",
      "Joke number  3 :  朋友戒烟: 一友总想戒烟，总是戒不掉。一日途中犯瘾，掏出火柴点烟。由于风大，点了两次都没点着，便念念有词道：“点烟不过三，过三不吸烟。”结果第三次还没点着，索性把烟放回兜中，不抽了。可一会儿又掏了出来，嘴里又念叨着：“点烟不过七，过七我不吸。”未料到七次又没点着，便急了：“管他三七二十一，啥时点着啥时吸！”\n",
      "\n",
      "Joke number  4 :  测谎: 某领导儿子爱说谎，领导买了台测谎机器人。一日儿子晚归，父问：“去哪了？”答：“图书馆看书。”机器人一巴掌拍了过去。儿不得不说：“去同学家看黄片了。”父大怒：“好大胆子，我长这么大都还没看过呢！”啪！机器人给了其父一巴掌。妻子怒斥丈夫：“活该！对儿子这么苛刻，不管怎么说他都是你亲生的啊！”啪！机器人又给了妻子一耳光。\n",
      "\n",
      "Joke number  5 :  打官司: 一位移居海外的原中国官员，在美国摊上了官司。他与自己的律师商量：“是否可以用钱打点一下法官和陪审员们？”律师说：“若那样，你就死定了。”这位原中国官员心领神会，便雇人冒充对方当事人关系，对法官和陪审员行贿。于是，他赢了。\n",
      "\n",
      "Joke number  6 :  屁大的事: 局长与科长共乘电梯时，禁不住放了一屁。面对众人目光，局长尴尬地对科长说：“你放屁了！”科长说：“我没放。”不久科长被免职。局长在会上说：“屁大的事儿你都担待不起，要你何用？”\n",
      "\n",
      "Joke number  7 :  化妆品店: 小李结婚不久，开了家化妆品店，生意好的不得了！朋友感到奇怪，于是前去探秘。正赶上一位40多岁女顾客问小李：“这款化妆品效果怎么样？”小李：“哦，这款我不熟悉，请等一下，让我妈给你介绍一下。”说着把他老婆拉了过来。顾客惊诧地直视着他的老婆，什么也没问就掏出了钱包……。\n",
      "\n",
      "Joke number  8 :  醉眼: 两个人喝酒喝多了，其中一个口齿不清地说：“现在我看所有的东西都是两层的。”另外一个赶紧从口袋掏出一张一百元大钞说：“这是我欠你的两百块钱！”\n",
      "\n",
      "Joke number  9 :  恶作剧: 火车进隧道，一片黑暗。只听得一声亲吻，接着响起一记耳光。火车出了隧道，四个不相识的人都没吱声，唯有 A 男的眼圈发青。老太太心想：“小姑娘人美心也美。”姑娘心想：“奇怪，A 男宁愿亲老太太也不亲我。”A 男想：“ B 男真狡猾，偷着亲姑娘嘴，我却挨揍！”B 男想：“我吻了自己手背，又打了 A 一耳光，竟没有人吭声。”\n",
      "\n"
     ]
    }
   ],
   "source": [
    "import bs4\n",
    "soup = bs4.BeautifulSoup(texts['zh'], \"html.parser\")\n",
    "\n",
    "ptag = soup.find(\"p\",{'style':'line-height: 150%'})\n",
    "jokestext = ptag.text.replace('</b>','').replace('<br>','').replace('<b>','')\n",
    "\n",
    "jokes['zh'] = []\n",
    "for rawjoke in jokestext.split('○'):\n",
    "    lines = rawjoke.split('\\n')\n",
    "    joke = lines[0].strip() + ': '\n",
    "    if len(lines) > 1:\n",
    "        for line in lines[1:]:\n",
    "            joke += line.strip()\n",
    "        jokes['zh'].append(joke + '\\n')\n",
    "\n",
    "for n in range(10):\n",
    "    print('Joke number ',n,': ', jokes['zh'][n])\n",
    "\n",
    "with open('jokes_zh.txt','w') as f:\n",
    "    f.writelines(jokes['zh'])"
   ]
  },
  {
   "cell_type": "markdown",
   "id": "8f692b51",
   "metadata": {},
   "source": [
    "### 2.4 Tell me a joke!"
   ]
  },
  {
   "cell_type": "markdown",
   "id": "6c62f3d3",
   "metadata": {},
   "source": [
    "Let's ask gtts to tell us a joke chosen at random from one of these lists.  Add the following to your `week14.py` file:"
   ]
  },
  {
   "cell_type": "code",
   "execution_count": 10,
   "id": "92b7f5b3",
   "metadata": {},
   "outputs": [],
   "source": [
    "import gtts, bs4, random\n",
    "\n",
    "def tell_me_a_joke(lang, audiofile):\n",
    "    '''\n",
    "    Tell me a joke.\n",
    "    \n",
    "    @params:\n",
    "    filename (str) - filename containing the database of jokes\n",
    "    lang (str) - language\n",
    "    audiofile (str) - audiofile in which to record the joke\n",
    "    '''\n",
    "    filename = 'jokes_%s.txt'%(lang)\n",
    "    with open(filename) as f:\n",
    "        jokes = f.readlines()\n",
    "    joke = random.choice(jokes)\n",
    "    print(joke.strip())\n",
    "    gtts.gTTS(joke.strip(), lang=lang).save(audiofile)\n"
   ]
  },
  {
   "cell_type": "markdown",
   "id": "e307e741",
   "metadata": {},
   "source": [
    "Let's try it:"
   ]
  },
  {
   "cell_type": "code",
   "execution_count": 11,
   "id": "5576ca5d",
   "metadata": {},
   "outputs": [
    {
     "name": "stdout",
     "output_type": "stream",
     "text": [
      "お茶を飲んでるのは　おっちゃん\n"
     ]
    },
    {
     "data": {
      "text/html": [
       "\n",
       "                <audio  controls=\"controls\" >\n",
       "                    <source src=\"data:audio/wav;base64,UklGRtqlAQBXQVZFZm10IBAAAAABAAEAIlYAAESsAAACABAAZGF0YbalAQAAAAAAAAAAAAAAAAAAAAAAAAAAAAAAAAAAAAAAAAAAAAAAAAAAAAAAAAAAAAAAAAAAAAAAAAAAAAAAAAAAAAAAAAAAAAAAAAAAAAAAAAAAAAAAAAAAAAAAAAAAAAAAAAAAAAAAAAAAAAAAAAAAAAAAAAAAAAAAAAAAAAAAAAAAAAAAAAAAAAAAAAAAAAAAAAAAAAAAAAAAAAAAAAAAAAAAAAAAAAAAAAAAAAAAAAAAAAAAAAAAAAAAAAAAAAAAAAAAAAAAAAAAAAAAAAAAAAAAAAAAAAAAAAAAAAAAAAAAAAAAAAAAAAAAAAAAAAAAAAAAAAAAAAAAAAAAAAAAAAAAAAAAAAAAAAAAAAAAAAAAAAAAAAAAAAAAAAAAAAAAAAAAAAAAAAAAAAAAAAAAAAAAAAAAAAAAAAAAAAAAAAAAAAAAAAAAAAAAAAAAAAAAAAAAAAAAAAAAAAAAAAAAAAAAAAAAAAAAAAAAAAAAAAAAAAAAAAAAAAAAAAAAAAAAAAAAAAAAAAAAAAAAAAAAAAAAAAAAAAAAAAAAAAAAAAAAAAAAAAAAAAAAAAAAAAAAAAAAAAAAAAAAAAAAAAAAAAAAAAAAAAAAAAAAAAAAAAAAAAAAAAAAAAAAAAAAAAAAAAAAAAAAAAAAAAAAAAAAAAAAAAAAAAAAAAAAAAAAAAAAAAAAAAAAAAAAAAAAAAAAAAAAAAAAAAAAAAAAAAAAAAAAAAAAAAAAAAAAAAAAAAAAAAAAAAAAAAAAAAAAAAAAAAAAAAAAAAAAAAAAAAAAAAAAAAAAAAAAAAAAAAAAAAAAAAAAAAAAAAAAAAAAAAAAAAAAAAAAAAAAAAAAAAAAAAAAAAAAAAAAAAAAAAAAAAAAAAAAAAAAAAAAAAAAAAAAAAAAAAAAAAAAAAAAAAAAAAAAAAAAAAAAAAAAAAAAAAAAAAAAAAAAAAAAAAAAAAAAAAAAAAAAAAAAAAAAAAAAAAAAAAAAAAAAAAAAAAAAAAAAAAAAAAAAAAAAAAAAAAAAAAAAAAAAAAAAAAAAAAAAAAAAAAAAAAAAAAAAAAAAAAAAAAAAAAAAAAAAAAAAAAAAAAAAAAAAAAAAAAAAAAAAAAAAAAAAAAAAAAAAAAAAAAAAAAAAAAAAAAAAAAAAAAAAAAAAAAAAAAAAAAAAAAAAAAAAAAAAAAAAAAAAAAAAAAAAAAAAAAAAAAAAAAAAAAAAAAAAAAAAAAAAAAAAAAAAAAAAAAAAAAAAAAAAAAAAAAAAAAAAAAAAAAAAAAAAAAAAAAAAAAAAAAAAAAAAAAAAAAAAAAAAAAAAAAAAAAAAAAAAAAAAAAAAAAAAAAAAAAAAAAAAAAAAAAAAAAAAAAAAAAAAAAAAAAAAAAAAAAAAAAAAAAAAAAAAAAAAAAAAAAAAAAAAAAAAAAAAAAAAAAAAAAAAAAAAAAAAAAAAAAAAAAAAAAAAAAAAAAAAAAAAAAAAAAAAAAAAAAAAAAAAAAAAAAAAAAAAAAAAAAAAAAAAAAAAAAAAAAAAAAAAAAAAAAAAAAAAAAAAAAAAAAAAAAAAAAAAAAAAAAAAAAAAAAAAAAAAAAAAAAAAAAAAAAAAAAAAAAAAAAAAAAAAAAAAAAAAAAAAAAAAAAAAAAAAAAAAAAAAAAAAAAAAAAAAAAAAAAAAAAAAAAAAAAAAAAAAAAAAAAAAAAAAAAAAAAAAAAAAAAAAAAAAAAAAAAAAAAAAAAAAAAAAAAAAAAAAAAAAAAAAAAAAAAAAAAAAAAAAAAAAAAAAAAAAAAAAAAAAAAAAAAAAAAAAAAAAAAAAAAAAAAAAAAAAAAAAAAAAAAAAAAAAAAAAAAAAAAAAAAAAAAAAAAAAAAAAAAAAAAAAAAAAAAAAAAAAAAAAAAAAAAAAAAAAAAAAAAAAAAAAAAAAAAAAAAAAAAAAAAAAAAAAAAAAAAAAAAAAAAAAAAAAAAAAAAAAAAAAAAAAAAAAAAAAAAAAAAAAAAAAAAAAAAAAAAAAAAAAAAAAAAAAAAAAAAAAAAAAAAAAAAAAAAAAAAAAAAAAAAAAAAAAAAAAAAAAAAAAAAAAAAAAAAAAAAAAAAAAAAAAAAAAAAAAAAAAAAAAAAAAAAAAAAAAAAAAAAAAAAAAAAAAAAAAAAAAAAAAAAAAAAAAAAAAAAAAAAAAAAAAAAAAAAAAAAAAAAAAAAAAAAAAAAAAAAAAAAAAAAAAAAAAAAAAAAAAAAAAAAAAAAAAAAAAAAAAAAAAAAAAAAAAAAAAAAAAAAAAAAAAAAAAAAAAAAAAAAAAAAAAAAAAAAAAAAAAAAAAAAAAAAAAAAAAAAAAAAAAAAAAAAAAAAAAAAAAAAAAAAAAAAAAAAAAAAAAAAAAAAAAAAAAAAAAAAAAAAAAAAAAAAAAAAAAAAAAAAAAAAAAAAAAAAAAAAAAAAAAAAAAAAAAAAAAAAAAAAAAAAAAAAAAAAAAAAAAAAAAAAAAAAAAAAAAAAAAAAAAAAAAAAAAAAAAAAAAAAAAAAAAAAAAAAAAAAAAAAAAAAAAAAAAAAAAAAAAAAAAAAAAAAAAAAAAAAAAAAAAAAAAAAAAAAAAAAAAAAAAAAAAAAAAAAAAAAAAAAAAAAAAAAAAAAAAAAAAAAAAAAAAAAAAAAAAAAAAAAAAAAAAAAAAAAAAAAAAAAAAAAAAAAAAAAAAAAAAAAAAAAAAAAAAAAAAAAAAAAAAAAAAAAAAAAAAAAAAAAAAAAAAAAAAAAAAAAAAAAAAAAAAAAAAAAAAAAAAAAAAAAAAAAAAAAAAAAAAAAAAAAAAAAAAAAAAAAAAAAAAAAAAAAAAAAAAAAAAAAAAAAAAAAAAAAAAAAAAAAAAAAAAAAAAAAAAAAAAAAAAAAAAAAAAAAAAAAAAAAAAAAAAAAAAAAAAAAAAAAAAAAAAAAAAAAAAAAAAAAAAAAAAAAAAAAAAAAAAAAAAAAAAAAAAAAAAAAAAAAAAAAAAAAAAAAAAAAAAAAAAAAAAAAAAAAAAAAAAAAAAAAAAAAAAAAAAAAAAAAAAAAAAAAAAAAAAAAAAAAAAAAAAAAAAAAAAAAAAAAAAAAAAAAEAAQABAAEAAQABAAEAAQABAAEAAQAAAAAAAAAAAAAAAAAAAAAAAAAAAAAAAAAAAAAAAAAAAAAAAAAAAAAAAAAAAAAAAAAAAAAAAAAAAP///////////////////////wAAAAAAAAAAAAAAAAAAAAAAAAAAAAAAAAAAAAAAAAAA////////////////////////AAAAAAAAAAAAAAAAAQABAAEAAgACAAMAAwADAAMAAwADAAIAAgABAAEAAAAAAAAAAAAAAAAAAAAAAAAAAAAAAAAAAAAAAAAAAAABAAAAAAAAAAAAAAAAAAAA///+//7//////wAAAAAAAAAAAAAAAAEAAAAAAAAAAAD////////+//z//P/9//3//f///wAAAAAAAAEAAQACAAEAAQABAAEAAQABAAIAAgABAAAAAAD//////v////////8AAAAAAAAAAAAAAAAAAP////////7/AAAAAAAAAQABAAAAAAD+////AQACAAIAAQAAAAMABQABAAAA/v/8//z///8AAPz/9//5//z/+//8//////8AAAMAAgAAAAAAAAABAAQACAAKAAgABwAFAAMAAwAHAAkACAAHAAgABAADAAMA/P/2//r//v////r/9v/3//f/+v8AAAAA//8DAAMABQAIAAQAAQACAAIABAADAAIACAAHAAEAAAAAAP//AQABAAMABAAAAAEABAABAP3//P/9//z/+v/5//r//P8CAAYABgAEAAMABAADAAEABAAFAAQACAAHAAYACwAIAAYACQAAAPn/AwAKAAgAAAD+/wcAAQD0//v//f/z//r/AQAAAP7/+f/7/wEAAgAKAA8ACQAMAA8ABgD///n/8v/z/+7/5P/r//7/CAAEAP3/+v/0//L/+v/6/+b/0f/T/+X/6P/h/+f/9v8AAAAA9f/+/wcA+//1//f/6//p//X//P/4/+z/5//c/7r/uf/g/+H/yf/N/+D/8P/x/+H/2P/n/w8AMwAoABQAJQAuAB0AGAAdABwAFwAEAOX/2/8IADwALwAQACUAPgApACIATABVABwA9v/u/7v/d/9W/xP/f/72/Z397vzN+wT7tvrm+Yv43Pc5+OL4rfkn+y79B//PABADQwXTBkUI5AnxCgkLygqMCsAJLwiFBv8ELAMqAZz/k/6t/er8oPzU/FP9Jf5P/3YAagFjAn4DfAQ3Bc0FTwa+Bj4H2QdNCI8I8widCUEKsQoaC4gLxgvNC6ALCgv9CdEItgdpBtAEXQNhApIBxgBLAC0ABgCs/0f/1P4L/tb8UPto+QH3P/RP8TruCevC52HkBuEC3n/bTtk011bVUtT11I3XfNsJ4HvldeyI9Jf8ZARRDOETBRp7HqAhXyN9IzMinB9aG6MVoQ8kCuYEjv+E+mT2TvMx8SPwGvCq8ILxu/JC9Jz1tfYL+JH5cvqF+q76aPtb/HH91P5HALwB3wP9BlIKQw0oEEITIxZ2GGIa9xveHM0c7RukGhwZShdQFVATDhGFDnQMYwvKCgUKQwnJCGEI+Ae5B24HvQa4BXoE7AI6AcL/df7//EX7bvnP98P2IvZI9fjzj/JD8f3vn+7c7Gfqiuev5LLhbd4T24zXAtQL0hXTK9aM2Z3d7eOZ7Ib25gAbC34U2Rz4IwEpcivPK3AqwyaJILoYlxDNCJUB2vp19O3uZ+tY6tvq4utm7cvv1/LU9Vj4W/rh+8X8u/yj++/5avh79/f2ivYp9l72Dfhm+2L/FgPVBhILXw82E30W6hg0Gq8afBoSGZAWGhQqEgwQXg2tCrsIDQiHCDIJegkkCs4Low3GDn8PHhBMEOEPBw+yDfoLTwrICBUHSgXbAwgDwALGAs8C0wL7Ai4DJQPBAs0BGgAD/tf7Mfnq9bjy4e+37ALpUuXP4U3eBNvV1wnU4M8CzdDMKM/I0rTWn9s843vtP/hxAq8MsBYcH5glLCoxLOArYyoBJw8gBRc9D/4IMALC+n30FfBV7Vvsv+xs7VPuVfAu80b1+fVr9nn3HfgX9x712vOQ85zzCfQE9UD2PPgC/PMAWQU1Cb4NhhIFFisY4RkXGy8bKhpNGMAVDxMBEZAP+w0XDNwKJAtzDKwNnQ7fD40RIhMzFJgUURSxE+ASaREVD6UM2AprCckHBQa0BDUETQRzBIQErgTDBHsEBQRwA0UCggC1/rD83vm69g/0jvG57sHrkejE5MTgAd3T2LTTO84ryZLFB8V8x9PKwc6a1dXfRusw9woEMRDzGXMiMSq0LjAvHC7kKwwm3RzVE0YM8QTX/QL4XfPb74/uoe+P8VPzOPVm9zT5//nT+Sf5C/jx9cHyeO8c7fbr9evJ7ALuKPBv9JH6xwBlBg8MiRHgFQ8ZZBt4HC0c+RqpGOsU0RDRDd4LFgpVCEIHoQexCZUMCg8IEWgTDxb1F7gYrRj6F5wWqBQJEtMO2gv0CcIIXgfrBXwFcgb3BzIJDwq2Cg4L9QpLCtYImAb6AwwBbf1S+cT1SfNG8Q7vuuyp6sTomebZ42vgJ9wT15fR/8trxhzCHMGFw2/HkMzX1LHgNu4d/AgK0RaPIYwqKDHfMz0z+TB5LGEkNBqwEHQI/ABk+s30gPCS7lrvZ/FN8/D0n/ZS+G75xfg39njzSfEe7ofpv+VG5H/kF+ZA6VPtWPKC+SMCugndD94V8xpKHYkdJR2VGzoYRRR/EFAMMgjlBasFIQbXBrUI/gvWD5wTMRcuGgMczxz2HCkc8xnsFhUUbhF1DpoL1gk7CScJbAk9CnwL5AxbDn0Plg+pDoMNSQwrCvoGlwOAAIf9zfp4+Cn2GPQZ85ryGfHL7t/sx+pC533ixdzo1drOcciVwdu6e7gGvG/BlMa9zorbO+o5+aMIRhZHIJEo5C/tMqEwoyyPKOchKhhxDuMGUgFi/a36hfhJ9yz41vob/Wn9Z/yD+0763vY58Q3sueio5Qvitt8E4Hri9uaW7ef0jfuRAvYK1xLSF1Aa2hsYHPQZGBYdEnEOygqXB4AFowRgBUcIkAyFEOUTyRcTHDcffSB5IKIf0x37Gn4XEhRNEToPoA2VDEcMxgwgDvkPZhEeErwSCxPyEZIPFw11CvoGRAMxAGX94/qz+ZX5DvkY+ND33fcH9zT1pPLb7tTpVeRN3hHXPM8VyFvBb7qDtTm2b7xCxBzMftaY5A70FgOJEb4d0CXpKlwudi6UKqwl/CAEGrQQGAkjBcgC2gA/AK8A5AAwAUACpAKKAJL8WfiB8/HsF+aG4QLflNzp2nDcJuFE55HuMfd5/zoGcwxsEnIWvhdlF+8V5hKjDoAKlgcABhcFjARTBVcIvQwnEVcVChlrG9YcUx7MHp4cURlOF6AVmhLpD4QPIBBxEIwRjBO/FD8VaBYTF1wVghJrEAYOJApQBtADkgFS/4f+Hv9v/6T/AQGjAr0ChgHk/3r96fly9fXvk+lY44HdPdfC0PHKdcXPv/O6lbg8ujXAO8j4zwnZ+eWv9H8BwAyVF9wfGiQWJqUmsiQoIb8dTBncEnsNqQstC5cJJAjkB0QHgAWKA+kAXvzI9m3xputa5Wbgsd1c3BbcXt2D4P7lpe2Q9Tb8AgI4BzILBA69D2sPgw3kC2cK1Ae3BT8GRQiyCf4KYQ2pECwURRf9GAsZdRgoGLAXFBbAE14SOhL1EZMRkxKaFDsW4he/GecZQRg3F40WwRNuDwMMNwkPBqIDrgJ0AqUCOQO6A3QEyAW7BooGnQWxA0UAYvza+Nn0KvC260PnMeJn3W3Z/9Rgz13JSMNEvXC5T7ouvzHF9sve1V/jsfHx/qELOBeFH/8j5SWwJYIjWSBfHMkWuxABDRQM3gtsC4cL7QsgC8YIugX7Aaz83fWp7t/n4uFx3WLbntsS3UnfdeNN6tXx0Pff/O4BXgVQBuAG8gfJB40GVgbCBoIGOwd7CjgOnxD6EhYWbRg3GW0ZRRnwF+QVlxQAFPoSGxIIEwwVHhauFiwYhBlpGegYXBhEFgATjxCqDgwMoQlzCJ4HzwYZB4gIqwmUCacIswesBs4EdAK5APL+y/uG+Pr2I/Za9B7y6+/E7D7oJOPr3RfY79DJyFbB7btJuQ27p8H4yU3Sld1R7M75XQSJDv8WTxpKGvEZDBijFNkSKxK9D6ANYw8bEzoV7xUGFjYUChC8CpMEFv1I9bnuC+mU41DgO+Eo5PHloeda67vv8fKi9db3ZPgb+Gb40vhu+ZD74v4QAl4FIAndDNsQqhQlFocVnRU3FgsVRBMlE2ETsxILE0MVdxcGGdcaThxZHKwbFRvqGaoXLxVYE9wRMhDbDpYOtg4XDiANwAxlDD8LFAqBCXcIWQZZBEUDUQIUAT0A3f88/03+Nf2h++H5kfiS9pPy5+0N6pvlRd+a2OXSX83Mx1/DiMGxw6/J5dBA2NHhbO1W94D+LAUcC+gN7Q07DXMMCgzmDG0OcA+zEH4T0BZ/GEkYgRfDFRURCgqwA5D+3vhL8+fvHe7w7JDt1+9j8cTxWPLO8j7yPfFs8N3v++/v8Kby2/Wm+oH/gAPrBpwJqQuPDX0O9g27DYIOvw7ZDs0QsxO1FagXLxrxG/kcUR7fHrcdMRzaGgAZHRe/FYcUyROqExgTFBKwET0Rkw+eDSQMZQrJCEIIwAeXBhUGOQaXBXUE2ANlA6wCuAExAG7+XP1Y/Gj6e/gU9wf1KvJj72Pssujz5ODgWNut1SrSF9CeztDPNdQ82UneOuV/7Qr0hvgK/WsAFQB9/kP/kQAvAOMAWAR3BzkJagyCEBYStRGYESUQ8AukB90EjwF2/cj6kfnM+Lr48vje+A35JvkJ+Db2GfWD9DzzGPLG8lL0sPUM+AX7pvyP/WH/AgH1AN0AdgLyAxUEFwXyB/EKaw3SD+YRhxPwFKoVkRWxFfwVaRWLFO8TMBM8ExcUQxMBEYcQ6RBbDsEKjgrhCrsHLQURBpoG+AWrBn4H1gZNBnUGhAWpAxgDFAOFAdj/6v/HAGMBSQE2AHr/0v9E/yr9fPzZ/Ur99vkk+Pz4cvgP9djyTPMH8rbuiu6Q8E/w7O/X8d7yC/LX8gT1nPTv8iv0fvWl8/fyIfW69eD03fWE99f3HPjb+Lb4OPia+Nb4lfi/+Lv4aPi++BP5z/hA+Yf6ovqk+TX64/sB/KD7XfzB/Fr8FPwW/Hj85Pwc/Yf99/1s/jj/IwA1ARMCrQL9AzoFSAWABW4GJgeeB+MHQAg3CfsJ8AknCj0L/Qu1C4sL5wv+CwgMUQx1DGEMJAwVDDIMBQwpDI4MPwzqC8ELPwsuCwYLFAqhCW4J1gjXCPkIfwgUCKoHCAeEBjEGCgatBRMFtwRNBLkDigN6A9MC1AFiAUABigDj/8D/Wf/Z/mj+xf2V/X393Pxv/Df88/u/+zD72Prx+o76W/q6+p36IPqg+S/5FvnW+I/4u/iv+In4pPio+CL5Bvoy+t/58vld+mX6B/pR+v36zvpa+sj6s/v7++X7ufyZ/T79D/2k/eH9sP1r/bT9ev6D/pj+Zv+N/73/pgDeAPcAqgHfAZcBYgGSATACHwKNAdIBRAIFAvIBowJRAzAD0gLxAjYDQQMQAyUDlgNdA9wCDQMjAwkDBAN5AisCRALWAa0B0QGJAYYBeAEQATABUwEcASQBFAHpAOQA2QD3AOUAjgCbAKUAZgBoAJMAtQDAAK8AtwCpAJYAsQCXAG8AWQAVAOz/nf8Y/wD/0/5E/u/9tf2D/UH95vwC/df8JPw0/Dz8n/uz++37t/vg+/X71vv7+wL8FvxD/D38ffzK/Mb87fwX/Rr9XP2Y/W79Tf2R/Zz9N/1J/YP9Sf1P/Ur9A/1b/ZD9VP2j/a79Tv1u/Wf9K/0w/SP9Vv1z/Rv9Yv3i/cn96f02/lH+pf7U/rv+8f5O/1X/Pf+H/7//i/+7/xkA7/8AAGMAXAA4AEAAXwB2AGEAfACBADkAfQDFAHwAtQA1ATEBJAEuAU8BcAFAAS4BJwHqAA8BLwEFAUgBdgFFAVUBUAElASwBEAHbAKYASQAJAOv/qv9J//T+zf6Z/kv+Dv7R/cr9tf0N/bj86vyz/GT8OvwV/Ef8I/y9+xP8Tvwb/Ef8Qvwh/HP8YvwA/An8Gvzu+7r7wPsa/En8G/wU/F78kvxs/Fv8pfzi/P/89/z1/H392v19/XH9yv3i/ej91/3x/WD+XP4j/k7+b/6P/s/+4P75/jz/jf/K/7b/wP8RAAMAwP/I/wAAMwAyADYAdwCOAJIAxgDZAOwAHAEfASwBbQGeAaoBtgHkAesBtAG5AeMB2AHBAbYBzQHyAfMBIAJNAi4CVgJ4AhcCFgJkAjYC+QH5AfcB7wHIAbEBwAGJAUQBVgFbAR4B+gAFAeYAegAOAOL/1/+K/wH/8f4f/8P+d/6e/nj+NP4o/vT9z/3s/QL+Cf74/fT9Gf75/cP97f37/bn9sv3j/d39vf3f/Qn+7v3c/QD+Lf5V/m3+kv7B/rv+u/7n/uD+2f4F/wj/Bf80/07/Yf+W/7P/pP+o/9j/9v/w//z/EAAcADYASABMAGsAowDAAKEAngD7ACoBBAEiAWABYgF2AZUBiQGgAdMBxQGwAdcB/wERAiUCHAIGAhgCHwL6AewBCwIoAhwCDAI4AlwCQAJBAkcCBALvAR8CBALYAQECFQLwAecB7gHrAfIB4gHAAbUBqQGUAYMBYgFLAUIBEgHqAPkA8wDJALgAqAB/AF0ARgAzACUABgDf/8b/sP+i/53/df9V/3X/dP9J/2X/h/9l/1f/YP9G/0P/bv+G/4D/jv/D/+b/3f/e//z/CQAAAPz/BwApAFYAZABTAGUAgQB8AIgAmQCEAJEAsQCXAIkAtwDSAMQAvADKAN0A5gD2AAEB+QAGAR4BGAEZATQBRQE5AS0BNgFBAUcBYAFuAWkBeAF9AWsBcAF0AWABWgFbAVIBUAFeAW4BbAFZAVABVgFRAToBPAFMATEBGQEtAR4B/QAFAQMB8wDxAO0A/QAIAfwABQH5ANQA6QDzAMAAwwDpANAAqQCoALEAowB9AFwAUwBKADMAKgAyAB8ABgAFAPz/6//j/9X/2v/W/7T/w//c/7n/rv+9/6//sv+6/7X/w//Q/9D/z//D/8n/2v/N/8L/zP/O/8n/zf/c/+P/4f/v//L/6P/x//X/8v/8/wAAAQAKABYAJgAlABsAJQApAB8AHQAlADEANQA1AEIARQBHAFwAXABRAF0AZQBoAGoAYwBzAIIAcABrAHgAfACAAH4AdQB6AIQAewBvAHcAfABwAG0AdQB1AG8AaABrAHEAYQBVAFgAUgBSAFMAQAA6AEMAOgAxADIAMAAuACYAIQAnACAADwAHAAIA//8AAPj/6//m/+L/2f/S/8v/xP/A/7n/sf+x/67/pf+h/5v/lP+S/5D/jP+L/4n/hP+A/4H/hf+F/4L/g/+G/4f/h/+K/4v/jv+V/5r/nf+h/6T/p/+n/6f/q/+r/6z/tP+5/7n/v//D/8T/x//D/8L/y//M/8v/z//J/8T/yP/J/8j/y//L/8z/0//T/9H/1P/T/9P/2f/Y/9T/1f/V/9X/1v/T/9T/2f/X/9b/1f/O/8v/z//O/8j/yf/K/8n/yv/I/8f/yP/G/8X/xf/E/8X/xv/D/8H/v/+9/77/vv+7/7n/t/+1/7j/uv+5/7b/uP+7/7X/tP+4/7P/sf+z/6z/pv+k/6P/pP+l/6X/pP+j/6X/qf+n/6X/qf+t/6r/qv+w/7D/r/+z/7P/tv+9/7z/vv/L/87/zf/S/9b/2P/Z/9v/3//f/+T/6//s/+3/8P/x//T/9//8/////v8BAAcABgAFAAYABQAFAAUABgAIAAYABAAEAAYABgACAAIABgADAAQABwAEAAMAAwAAAAAAAAAAAAAA///+//z/+v/2/+//7v/w/+r/5P/l/+H/3v/c/9n/1f/O/8z/zv/M/8r/zP/I/8H/v/++/7v/vP++/7j/sv+0/7P/rv+u/63/p/+k/6b/pv+l/6T/pP+i/6H/pf+j/6H/pP+n/6X/ov+i/6b/pf+i/6X/pv+n/6r/rP+s/6z/rP+x/7j/t/+2/7v/vv+//8P/xf/H/8v/z//V/9z/3f/f/+L/5f/p/+7/7//y//b/+P/6//z//v8AAAQABgAKAA4ADgAPABUAGgAeACAAIAAhACIAIgAlACkAKQArAC8AMQAuACwALgAwAC8AMAAyAC8ALAAqACcAJQAlACQAIgAeABsAGQAWABUAFgAUABEADwAKAAQAAAD9//n/9//1//D/7f/p/+P/3//c/9j/1f/Q/8v/xv/B/73/u/+4/7T/sP+r/6b/o/+h/6H/ov+j/6L/of+e/5z/mf+Y/5j/mP+Y/5j/mP+X/5j/mf+b/53/nv+e/5//oP+h/6T/p/+r/63/rv+v/7D/sf+0/7j/vP/B/8X/yf/M/8//0v/U/9f/2f/a/9z/3v/g/+T/6P/t//D/8//1//b/+P/8/wAABAAIAAwADgAQABIAFQAXABoAHQAfACEAJAAmACkALAAuAC8ALwAuAC0ALAAsAC4ALwAxADEAMAAuACwAKgAoACYAJQAjACAAHQAaABgAFQATABEADgAKAAcABAABAAAAAAD+//v/+P/z/+7/6f/l/+L/4P/d/9v/2P/W/9P/0f/Q/87/y//J/8b/w//B/7//vf+8/7r/t/+0/7H/r/+t/6z/rf+t/63/rP+s/6v/q/+r/6v/qv+q/6r/q/+s/6z/rf+u/6//sP+x/7L/sv+0/7X/uP+7/73/v//B/8T/xf/H/8r/zP/N/9D/0v/U/9b/2P/Z/9z/3v/g/+H/5P/n/+r/7v/w//H/8//3//f/+P/6//r/+f/7//z//P/7//v//P/7//v/+//5//b/9P/1//n/9v/v/+7/7f/t/+v/5v/j/+H/2//a/9n/0//N/8r/yP/L/8n/xv/G/7//uv+8/7z/uP+1/7T/sf+s/6r/qP+j/6L/nP+V/5X/kv+P/5T/k/+P/47/if+J/43/h/+E/4j/gv9//4P/g/9+/37/g/+H/37/eP+B/4P/ev98/4X/if+H/4L/hf+M/4b/hv+N/4r/jP+V/5D/jv+S/5D/lf+Z/5T/k/+S/4//mf+m/6b/m/+b/63/tf+u/6f/pP+t/7X/r/+v/7j/u//C/8v/x//B/7v/tP+3/7v/uf+8/8D/xv/I/8r/z//B/7T/wP/D/8r/2P/A/7f/yf+2/6z/s/+r/7//xf/E/+b/0v+t/7z/rv+g/7H/ov+R/4b/ff+L/6j/8//r/1j/ZP/s/9//qv+P/17/af+B/4v/of+h/7r/uv+q/+X/2/+s/7n/cf9n/6P/XP+g/xcArP/L/zEAtf+l/9z/j/+z//j/zf/j/woAv/9q/3z/a/8S/4j/KADZ/w0AiADu/9f/KwCU/6X/9v81/1L/2f85/3z/NQCY/6v/NQBq/wv/QP82//P/IwCw/x0A0v91/1sAhQDqAIYBaQAkACIApf79/uD/df82AI0AIABuAL//hf8DAED/m/8yANb/xACBAJP/WAAJ/9b9cf9R/2D/QgEmAd4AAwH8/yAAfwAWALAAygA0AOT/Gv9O/9b/Jv8CACABcP/G/ggAX//T/gAAe//e/vH/Sf9D/6wBGwHj/3MBSQD5/eD++/5Q/mH/0/+5/zAA3f/7/h7/jf+D/qj++ACkAOf/jwFmAJT+DP9M/kz/LwEeAF4BdwKU/8v/wgFbAfwBTQLhAK7/3f6E/8MCZQhODG8MaQ11CpsBv/5o/qv7pv4KAf//eQEE/9783/8n/+P/pAJCALr/t/4r/CD/+f5e/oUCv/+T/QoAGf0z/vEALP49ARwCcf1ZAIQBvv57ALIAGwC2/zD/3AE+APz/mQSY/xj+hASP/6v+rgXNAVUAXAO6/7r/AAGF/9gBygGh/5YAaADR/hv+///KAAX+0//WAMH9MQGDABT8cgJoAaT5LwDhAhX8HP9VAjf+zP57AD/90P4IAw3/W/7hAxEAtf3aAeT+IAAwA4D9JwGCBAz9wQAIBD/+hgH2Arj/6QFrAS4CIAOh/wMDawNb/pEBvwB7/nICdf6G/tIDBP4r/9YC7fxWArUCTfk4BAMFW/VRAQsIc/bL/LkIrvy2+n0EwwGV/Ab/cwLWANH9yQDnAkT/4f8uAjj+jv7OA2X/Svz6BHUDMfuSAmYFe/ySAd4FyPyaAa0Hd/ua/lkKjv1S+yUKPAG8+hMF0P98/DICVP5qAG8Chv5AAzoA1fsFAw0BV/5D/1D91wP3/t32dAVCBFf42AI3Awv7vgGkAf38wAGjAer8uQEPA8L5bgA+Bmr30ACRCzT2I/3FDBT8Ov0XBkAAWgCM/QcDQAW/9wwF1wji8+0CmQmS+DwE6AQ8+TEFMAUI+y4AfARS/8n8GQSfACv5WAPi/S/4OgpjAD72CAmnATT47ALFAcECfwAj/QwHc/5U++EIGfvz9scH2wBF+Nr+eAarAj/4VgWAB4v0NQW5Cpr3RglwCrP2qARZBF/5HgM4AlT/VP5V/X4Ekfug/p0Ljvba+/QQavq+/FsL4PlDAv4GnPf0BWEDrfTuBXkCvfWABLsDA/vLAa0AHQCIBjEAufpgA88C8/nxAXAH6fok/JYEIv2q/ocDOfhT/zcPHf5R9uwLHgbo84YCEQzv+675jwd7ASjyzgFUD+r4w/dGCPP43PnDDGr+NPrQB7D8cvtWCIj+lPxACDP74PVWC50Eg/WmBoYEbfcTAi/50PaJCrv52fU8DkH90fVVCeH8z/e8B9cFM/9u/O8APQWF+U/9OAc+9XPzvgY8AGD52QUyAwn5gP5NAYr9FgHhA0AByf71/z8CA/wD/d4I6v+m99YFUwVs/UcCGwH+/lcCcwSV/7X1MALmDEn3j/ZDBC355/3vB4X8ZP+yBXv/HP41+/n98QdVBcz88/g+/6IGd/zw9U39+P0v/HP8bAAkB0EA4fynBMv8cPoqCAQB5/beAsICWviAAWYDfvb5/1wH4PdCAAgRBQH59wkHdAlt/FP+GAzi/rvzZAu0A2Pw0QtJCXrzjAcmAv/4aBHSAF3y3QsEA1L1gwIAAPP7PgGTAvP/YvmPAo4KHfoC+bMEKwFp/ir7d/0tCV/+aPLlAmIHj/d/+x0H6fuF+TsLbQAz780CXgj99Fb6qwTz+2H7hwTU/jj02/96Cmv7YPZ+ApIAHPuxAfYFB/zn800AJAdT+835X//s/7v/l/x7/5gAXP0rClIJQ/fSAAwKXgBnAmwDZgBZBHUEqQV4Aun7cAF7ATAAMAaP/rH/Kg2/A3/7EQN/ADj83f8mAz4C6vqh+M8ANQML/HL+rAig/nf2uQrwB1TxTP6GCMr6W/qp+xL+3gfK/wj36/1NAsQCEgAAAdMCOPls/4YMkP0u+xwNXgPV9vMFdgyJ/H771QqsAW33YwpgBzD2uAYNDBj6kPwqBWgESgDk/IUEDga1/n8C5gE8+5/8cwBaBB38SvfeBywAe/FVBGsBFva9B+f/R/ebClgCLPmXAbf6gANBCzX6agHFCLT9TAX9/yX1ywcEB7D46ACHANL9EgZxArb/SgRBA/gB5/8UALYCBP/e/hsAovtZ/uoABvxg/QICHgKr/+L9ogFpBWr/KfYp/IUJxwEj/DEM+gRt9J8EfAn39xz6BQbABkv9DP3RCw0D9vYlCvsFUvSoBhQKTvkpAkMIn/4A/s4EQAa2+i/6aQwJBTbz4/9pBOv0F/yGCTH/BvpGBbUDsftm/0EAcf3S++73q/8EBn78if4kAvn3JfsKAIn8UQT3BE/9fwAnAHUBEAgUAhoAhwYKBWkG3gUY/k0C2ATs+pD+GgYw/Xj+Ewkr/Wv1HgYuBjv50P65ACz5Tv15Aev8HftzAsEIyf1R9tcCVAPZ+dUAiwWyAIwCLwVZAXf9/AIhCNP8n/obCqIF1fnIAjsGUAAxBD0DK/tzAA8LfQVH++8BQAgB/tL5ogA3AQYAHQC5/F37IPya/K38UPqB+wz+jvnr9yr7q/kF+Pj1M/Hu85X6QPls8wnytfV79H/u9PCR9QD0AveZ+s/11/M8+IH5G/fj9wr9OwCvAJAAOP4vAN0G8wYwBo0KWQpFCJ8J9wgMCR4NFxBoEGUQWRJxE5UOEgttD8AQ4wzVEKgVsg+SDUcS2Q4pC9wM+AnTCBoMeQusCasGdATUB68FfP6z/jUAF/0I+KXzkPRQ9AHtsuak4nHf596I2+/TJs3zyc7J08nLzgfa0d7f3APdf93V34blAOnS7IX0ePpX/QoCdAc4CRUJUAnwCsgQiBcNGykcRRkjFpkWzBScE5YW/hVAE4wRCw67DCMMkwe4BB4EpwA3/VD+CgH7AKoB6QIM/6D+ZAWABnAEYwflCR0MJxAyEn8T5xVCGQgdqh6TIO4kzCasJS4l6CMoItMjIiVXIY0eeh0WF+8PQAujAyX9SPqz80Dp1+Bp23jTiMfHvyS8arXorf+oLKoktZjCbcuEziDO4NKr2kveZ+Vh8iH/ggp4EZIX1CA9JKMjPiZXJnsnmS+SNDIzJDGAK/EhbBsCGLUTcQ/OCggEwf3R+LDz6u4p67zplOgt5e3lmuo76yrtKvPm8zryQvcWAM8GxwtiEZYVxxc1HYMkeii6K8IvazIZNGc1Azc5N6wzLDDXLZQpiiZ9Jnwk1B3yFNYNkQYU+03x2Owy5/Dfitnx0DnGtbtzsvypB6DbmGqXVZQqkw+hSLmGzHTXqd+/5UrpSvHJ/S0JOBmGK9MzjzdjPMI8qjvPOd4yOC3QLTcwuC5RJ+sdYxNXBvL7AvWK7qHrquty6d3j+N2r3NHeHeDC4mLmHOnV8Jz83gMmCPQMgA/GEjQath+VIkUolizdLEQuFy+YLTkteSxSK7ArWSt+KgYoUSLTHfYZuxTuEqcTERNhEBYJ2/+5+I7xgetk6PTk399o2RnResd2vRG0U6tTo2GcgZXMkROZQ6+Rza3koe3E8Ob13v14B3sRtR1LLUY8O0bESZxJHEg3QfIyhSQcHigf2x6iGDYQLwaQ+PvqxOEp3cXbt9si2wzaptva4ajnmuil6RbwvvjLAM4KMhavHrAj5ybiJ/UmSSfYKZcrpSvOK0EriigcJEkehhhHFcgU1RVAF2gXwxXxE9MSHBGbDzARtBNpEusOqwzNCGAACvck8AfqAOT93lbY8M0Cw4y5Ya/fpOac3JWZjT2LYZnPttPWQ+9M/soFJAnsDIcT+Rw5Ks8620jZTrlOz0sHQwoy7h5nEKEG0ABX/zL+xffS7G/h9tYmz8LM983Kz9fUBd8f6TXvZfTi+pUA4wWnDakXLiJrLA00pzZ/NXcy9izSJWQgYB1cGn8W+hKKEM4OhAwCCVkG9Qb5CaIN3xHNFQIY6xkWHXEfMh9nHTkaMhX5D00KFgEP9nHus+id3+TUsMxKxam8mLTCrDGji5kdkTOKG42XpKnL9/ANC5MagCAjIB4hxyY4L5A6m0doT9FOw0pDREY1XR2mBHfxauVS4SfjheQk4U7aaNL6yiXHyckU0dnY8+C27Ev8VAs8Fqgcth/MIRcmWSzSMKQyXTQQNZ0wWye7HVQV4gyVBLz9U/m5+OH7gv/9ANIBbgQOCRUPIRYpHeQi/ib7KUosHy2CKpQjvRmYDv0Ci/i08FzqLeM22sfP88Qyu52yFqq/oeGZBpGjiMCIS5n+udvikwj+IXguNjTvNgI3UTgtP4lIiE7ST/5L8EB6L1sa5wGP6MjVYc14yzbMZ84vz7LMMcoky2bPwdaE4fft7vqbCWcZxyY/L30ytDFcMBIxxjERMKAtTys7Jlgd+hI1CHb9FPXc7zPsVOv179X3t/4tBTkNABW5Gj8g7iY6LcUxXTRONB8xvCvfJNgbDxCJAkP1q+lI4CvZdtMnzQnFI7yOs/KqcKK7mp2Smon6hUmSwbIo4AkNTy55QNRGVEaEQhs/3D+XRItIq0c4Qsk5qSzPFl/4I9m7wlm4v7ZUulXBoslD0M3TItYA2+3jhe6X+CUEWRTUJ8g4x0G7QUo8LjYUMUIssydZI5QdhRVeDN8CE/l18HnqcuZz5NDmb+5b+X4FFxEqGssgGCdmLR8y+zR2Ni02RzRsMVQsFiPlFe8FzfQU5rzcU9cf09DPGcx2xNm4Wa3mozib3ZK8i36IdZA0qxzWjwRwK2JGHlSAVX5PY0h4QxJBJEBFPlU5gjG1JioVmvmz2Eq9RK5lqvGtB7e0w6XQb9u643TqVfGe+YcCVgtmFkImHTgpRUhJjEXdPDUxRSR6GL0PhQnTA//92/iV9KfwAe1b6bjlKOX562z58gd4FPsfVCqtMfo1oje8NckxCjA+MAAt5CTdGzwSJwT08szkWNv60+7OUc3Xyy3HccBUuC6tpaBclomNxIbrjOKqQdtcDek1Z1H0XdNcaFSFSoJBXTu0OLo1Mi8GJ9Adow1h8h7SXrdvpzeimKbYsn7DltSN43jvt/hxAOIHmg+FFyUgGSuIOJREG0pgR2Q9WS18GnsKyv8J+KTyEPKN9NT07vK78sbypu+N7V3zHADNDhseuyzLNhk8UD+wPb4zCCgwI9chORx0FHgPNQmZ/Kft7OEg2e/Sm9Dozo7JGsPNvly4BKxQnkGTGYk2hMKSf7sQ864nfE7NY5hoBWKYVVhG9jcjL3YrVSd2IG0Z2RA3/3bhF8DXp4OemKGnrCe98dD25Lf2GAWMD1IWvhrCHREguSQSLyE86EPWQng7yy76G3AHLPjH7hboUuWf6IfuHvMb9wz6r/hw9dT3AwEKDFYY3idNNiU+RkHxQfw7Qy5QICoXyw/NCMQEZAF1+dfuAedG4Rnb8Naz1QPSa8mZwMS5RLG5pYSZzo22hkyQmrOK6cggMExlZtNuV2kJXMhKbDjZKfAhRR13F/UQjgqr/9jq9c1csrahuJ+XqUO6cs5R5FH5qQpYF/sfPCUWJ7kllCODJdstwjeAO7k2FCwzHeoK9fhu6/3iXd+L4YDo0/Di+Mn/MAIw/xv99AGsC0gWuSI9Mb48HUECP4437itBIEUXVQ5pBE/+kf3P+9L0P+yf5UTgS9xm2mDXAdBwxqe927Rfq+Oh6Zagi56LPaQb1LUL9TtUXeht8m9hZ15W7z9dKwEeKhXFDJ8GQwT0/3ryoNu5wQetAqSAp3OzOsUC3cL31Q4cHzgqnTDWMA0sVCapI2UmOC1FMnUwlyiRHXUPpv7v7p7jMN1U3NnhsOuv9i0Bugh7CowIuQjVDOUSVBskJ9cyLTrSPMU6nDIoJm4Z5AxQAP33fPao9o3zPu/w63PnOeFR23rUoMoGwei6UbVwrRelbpybktSPsaGPyuv+ijG8WKptqnA6aS5chknENP8j5Bb9Cfj/ifyv+vPxluCYypu1x6jNqNuy8sEL1mTv1whqHSMt6De/Omw1nCx4JSQjIiaGKpwqQCUfHbQS9AQV9tjpi+Fy3Z7eVuX+8GUA4w6cFfUTHBEmEmcV3xhoHT0j7SmMMQg3rDQdKuwc5w+aAir4RvTP8+vxwO9h7wTuiOmc4wDcfdAQw1+3q6zloeCZHZXvkEaSyaWXz30EZTXVWAFryW0nZ4xaLEjIM2Ij4RZvCr7/3/pd+LTv192vx0O156w2r1m3fsKF08Pr+QWJHFouxjotP/k6szGvKHUkpyVhJ8kkNR/RGcQSAgfQ+Ijsc+ME3hXeeuSS8OwATxAhF54UsBAEEcIT4Ra4G0IinihbLikyXDCQKPgeORVsCSD92fQB8dXuqe0T7bnqnuZA4+PedtQwxNqzJafXncuWqJDTjNuTi69Q3vISU0CUX1tuYm6dZPpUpEE7LgAeNRDUA5b7kvhh9ebr/Nv5yRm74bNUtaG8hsgR27bzTQ20I441akCrQew6qDBoJiofHB2RHn4fWh45G34Ufwk2/SzyOejL4OzfDuei82QCzQ/EF2YZEBiRFngVRRZnGrcfVSPxJcEoyiniJlYgrhZmChz+ZPTa7MTmJeOh4RLggt7R3ZvaCdAZv6itp58tlQeNz4eTi1+iRs/2Brg4oVsSbzZ0xWw+XKpGPjAeHWgOOwIY+cv13vUp8ZrjltHDwfO3aLVsucrCm9Ib6poFtx6gMtdAqkYnQtA2hyrSIDYbsRmxGaIYxxYZFPINZwOZ90PtGeVP4erkMu+A/O0J+RQeG+gcWB00HWMbPBlIGZ0bSh8kJBsoZSdfIasYgQ61AuL27ezA5KLePtw93dre795o2z7RtMA9r9ygGpQNiBKCn4owpwLWagwNPAddKHD3dktwyF2LRdcs+hX8Av713O8E8N3ySvHs5uPXY8tWw0e+k709xNfS2ufUAAsa7i8mQHRH20KTNVkoMSALG3gWgRMxE0wUfhQmESAJCv9m9h/vbugJ5knsRfntBqERCxnUHfUgYyJ2IJEbBBjFGLobEx7EH5ogtB5SGSERMwZa+WztZ+QP3rDa6dpC3KLa19T0yx3AWbHyoGCQyoIBgImQdrU+5zgbqEcJZjt1hHcQbrZZwD41I9oKSvii7iDu9/E39JHxdenz3bnSp8mhwgfAk8Yb1xztcAS4G+Qw4T8NRYQ/rzLKJSceKRqjFRkR+w8QEnwTXxFBC0MCw/jB8Orqwejf7H72nQBLCIMP/ReTH1UjuiJxH3Ec2xtlHFkbLxk9GG4XQBMjC5sBQfgQ7wrmad3z1UPREs+ryzfENLq9r9ej2ZXciW6HepVsthflVRZ0QMFfYnMNer1zzmItSjQt4xBe+o7sFOjS6hDv6u6F6SHi1NqG08XMjchOyYbRQOI5+VIS7SkXPGxEDUJ9OfwvKSdpHusVPA9aDLwNbBAQELIL4wUsAAL6HfQG8ebxlfWQ+mMAwwd4Eesb9iJeJK8iNyGfHy0cxxfXFN8T1BIOD80HTP8K+PzwROfG2wLTrM5HywjF/LuWsgqqAqFjljKOu5Gfp63MJ/d3H7ZC417PcL11dW3oWqhCPygeDjj4TuvH51Lon+ca5dLiPeGM3iTZQtItzqLQXdn75R/2fApxICYymDtePYU6QDXBLbkj/xhiEbIOqQ5MDmkN0wxsC0EHugDf+nL4M/ky+rD5QvoiAGkLORciHwIjDyUfJvgkeCCWGdASaQ0mCJ4BlvqQ9G/vCuo85I/eiNjN0ATH3rxrtCytA6TZlxCO7Y+OoqTCX+jPDb4wnk/XZhFy1W96YmJNHjMUF+7+re936cbnNuZZ5E3kRub55ljjqNxG1/DVRdjI3fXnEfj6C7YecixXNZ47Uj+KPYc0KCfXGq8SCw5GC+cJwQmOCdQH+wQmA1IDWwMsADb6VfZD+X0C9QykFBAazR/eJTIpZid9IUIaCxMcC+kBovgc8cvra+eg4indKdfRzwzGbLrtrjWk95jtjRGJJpKuq2fQt/e5GzM7d1Yxa3l0h2/VXm5H8SwsEqb76u0n6a/o0ucg5kHmJOl368joouCi1znTSdVs3HPnvfaACd0b0ClTM9Y6JkDSPwE4XyuzHhwVsg7kCRoGtwR6BhYJrwm0CEcI0QeVBIj+lfmF+Tj+mgRlCjcQtRcpIC0m7CanIpEbCRPdCDb9QvKH6rflLOG022/Wt9H6yx/EYLqYrraggZPSjIOS9qYbx8Lr6A6WL1BOVGf+c5BxUWMuTgY12BmSAHfu4OXM42PjeONh5ojsuPHa8FnpHeC62h7awNu8397pKvuQDqweRCt/NrQ/f0OhP8U1oSqZIWMZMw+tBPz+z/8oA/QEeQUCB1MJVQlDBdH/cf0c/wsCrATiCM8QbxvIJLsoRiYRIJgYJQ/VAiP2+uul4xjbrNLBy0DGh8EAvce2u6zSn8SUlZHgmh2xWM/d7tsMpypDSANhbm6cbR5hlk3mNTscwgSd89/o9eEh3rTeBeQR7LbyZPN37f3l3eFy4KffnuGP6XH2GgWQFOskjzSZQFpGfkSwPPoyuCnTHzYU3wgRAd39oP2U/r0AeAT/B7wIxwZlBLUCswEzAtUECQklDxEYYSE3Ji4l2CCtGjgSCgjJ/KrvcOGP1WPNV8bkvrq4RbRlrp2kOJmJkqWW5KYPv7jZBPUuEi8x5k0BYuppEmdAXNxJMjE9GPoEK/du68vhC91w3sTkbewG8DPt+ucH5XLj6uDI36jj4OvX9XkBIRBxIcoyQkCyRjpG0EF/O8cyyiafGEoLpQE1/L75D/qW/U8C+gR/BSEG/QbOBkEGigY9B9kIbQ1YFOsZeBwAHVEbZRYkD5IGlfvV7dHftNM7yem/RLgcsrurWaOFmdCSkpU3pBO7sNQ17qEHCiL6PAdUZ2HJY/hdRFHCPTAnAhNbAlXzeeZo3mjc9t+n5sjrLOwK6kHpm+mo6N/mO+dc64TyYvv7BZQT0iP8Mjw9QUKmQ+9B7Tx/NFAouBm9DNwDmv0K+SD4qvr//Pn9SACaBHcI2gqcDMcNyA6VEUQW1hmKGr8ZkBgIFu4Q7whG/rXxcuSy11bMUsLfuA6waah9oNCWVo+dkQ+gAbaEzq3nwwBtGrE12k5UXsBho12gVDVFAzGdHT4N3v1K73bkl9+W4HTlOepa63XpBehU6Gfo++Yw5v7oK+889p7+vgtYHa0txTgHQAtFyEaXRGQ+8TJPI9AUdAqXAWX56vW693L5G/kY+2cBXQjNDM0OOA+qD6cS7xdfG1saOxdKFQwUrBAUCkcBxPYd6lLczM8CxSS6EK87pY+b8pDDiqCQSqI5uYbRiep7AxkdlDgfURVeAF51V/9NZz91LEkarArI+3Tu4OUs42DlWepj7p7uOezK6pTr3Osw6QDm1uYX7AjztvuTCKMYOCdFMtQ7K0SKSPBHh0LlNtwm6RgWD0MFJ/uQ9Sv14/UU9/j7SQSaC9QPTxKuE5IUCxc8GvoZrhVWETgPow0MCsoDG/ye83npEd4H0yrIcbyLsASlApkjjpSKVJPqpSG8zdOT7T8I9yJ3PdhS6lysXNJWyUv1Oj4o5hcyCQf6oewa5ezj3Oar60fvdu8o7gvuEO5H7J7pUOhJ6QLswvDY+e4HQRcIJKEutTizQYFHKEh4Qgw3SSkiHeUSpgiv/4X6p/cx9Xn1Ovr9AG8Hcw1wEkYVrBZIGJ4Zqhh/FfQRJg4xCbkDN/6X9zTvY+WE2irP58MJuW6utaK3lbKMoo4hnMevKsWl2xT03A60KmBDZ1NeWYpYO1LLRNgySyLAEwIEGfRP6OvizOPa6LDtE+/A7k3w9vK18hLvdet86ZHodun57Rb3VAT0EvIfkyuqN1VDU0uPTBRGtToVL3EkaRizCvb+kffj8u/vvvDW9Qv9agU6DpYU/xfJG+Ef7B9lG3EWZhLTDBsFB/359HDsGOSz23DRMsYZvVW14KrSnaGTp5FpmWWoc7rXzU7kJv/WG10130eZUthWKFVqTOw88yrNGtsL5fso7V3k7OJ65lvrIe5g7qrv3fPL9kD0w+4P6zTpk+cG6GftnPeiBJsSNCChLR48JUpeUjRRb0n4P4s1NSh3GE0JA/0O9EXuJ+x07sX0af1WBgoOpxQ/G60g1SExHpYYHhMeDTYFn/vh8c/oJOCM17XO2MU7voW34a6noxyaw5fCnk6sprumyz3fAPhiE3Es1j4CSkRQ81H0TEZBejIIJH8VmQSW84/op+VP5yTpsuhp5+fppfCk9R719vHT76PuBe077FLvxfZdAMsK+RXcIgMzmEN1TZJOl0sOR3s/tTM7JGkTYQQ2+KTuoujW59HsfPUc/h0Gsg8gGkciHSZsJIIeGRgxEboGpfkn7dPhRteWzb7Eab21t8axuKlgoBqb+Z/6rES6KMYA1e/oWgEGG4wvUTzqRAdL5UvXRS07zi8gJPsUOAOW9G3sCuo06jXoV+Sv5ITqX/CX8n/xTO9+7pLu1O0r7ijyavl9AjcMcRfLJjo4WUXbS3lNpUv7R69BOTXWI+wSbQTG94XtAudo5uzr8fNg/BcG2RDdGzwlcigWJfwf+BlSEGMD6/R55u3ZhM70wjW5iLJCrVintp8xmlKe1auzupDH2NRW5TL7qBNlJws0sjyVQoJE8UBuOEAvzCYhG0MMEv8M9tPx6vBS7nbpiufQ6SbtJO8/7r/r0urk6rzqkuxc8Tf46AAUCiIUTiLiMl5AFkmjTDVLkUgGRbk7jyzwGxsMP/768pLqSeeK6ZvuLvYeABIK3hRTIC8mlyTHIDAcoRTPCQb8Ce1G3/TR1cThuaWwmqhhojmcBpj/nBWrvrqJyODVJeZD/AQUACaUMT45mj0vP5w8yzSjKzsjsxgjDJYASfgp9Wb0aPBp66nqtezV7hHwiO6b63HqB+qZ6f3q9u5C9qf/XgfaD10eRS/BPGBGNEuvS5NLUUlkQOYxMyEYEbIDkvcc7eToDuqz7F/yqftvBlwTgB+EJPsjjiJ3H1MZMg9RAJvwr+K00yzEU7fOrFOkIp1elXmScJvjqza848rQ2NfpTAEBGSopvjL2OIk8Bj2DOGEwMymzIYIWbgqqADz6x/gG+VH1Y/Cr78Dx6PJ+8fjtB+sN6cvlzOJf4xfo8vD2+1EF8w7AHcYvOj8/SepNpk/6Tx5M5EFfM0wjtROqBXP4V+0A6KzohuwC8mT5UwSwEgIfliRsJYIkeCEXGywQ3ABD8LXgtdG+wo60AKn6oOGZWpPrkyGffa9ev/3NAN3E7+gGbhyXKuMx5DXAOL44YTOgKy0lWR07EpYHDgA8/Cz8p/s199/yo/Kl9Kb1YvN77tTqruhQ5d3if+SE6WfxwvpiA7oOCiAzMuU/nUiQTFdO309PTMdA7DHkIgEUXgac+SDv+ura6yfuBvMQ+4IF4xKAHokirCJEI0AhUxq7Dq/+nu0h3nrO/L5Osb+kkJo/lH2RKZbZpJe2iMUm1I7l7/qmEvYlxjDxNRg47zeuNfEv0SdFIIMX6QusAUT8dfsF/Tz8yven9Dv19vZT9zj0Uu6m6dXmTuSk4w/mWOuc86n87AWUE1IljDXNQUNJEEzOTRhO9UejO5ks4BwgD+kCM/Ya7azqk+st7zv2kf5kCZwWZB8dIjEjVCJJHvMWgQnp9/fn0NjMyAe6kav/nYKVhpFvkgOd1K19vdLM+91a8cIInh/SLVk0njeCOMs3EjTiK3Yj6xsjEakF5P5I/Kb88f1N+372H/ap+bv7UvkL8zPtJ+r55lrj9eJd5prsbfX//rMJCxm7K3I7xkTVSRROwlCUTbBDZDYoKBAaWgyf/u7y0uxz7PjuX/L+99oCthC3GkEfdiHjIdkfgRqYDzwAjvBZ4dPRJsJZsqqkAZuLk2WQPZeSpcu0BMQ51KHmUv2QFIwley/dNLc3QjneNlAvmSejIP0VuQkjAab8t/tx/D369PUU9Uv4w/uE+5n2R/FS7orqkeWp43nlneli8J346AF8D4MhdjIpPrJF7kuLUCJQmkl7P2czMCWQFRkGpvjT7+XsQO3w7UTxBvt5CLcTVxtNIH0iJyKoHhsW6ggY+Qro7taUxT203aWemoWQ/IsUkl6fQa+1wF/SUOX8+yITtyVPMiI5XTxQPeo48y8OKEEg3hTACNP+vPfy9eT3B/hY9oP2lPn0/VX/iPvf9orzmu4i6TLmIeXF5qrsI/R+/DAJWxrKK3A5ZEKLSQxQZVK7TlhGzjmwKrYbFQ3G/prz8e197J7sJ+8H984C2g1PFhgcDh8WILseaxhiDIf8outW21XKE7iapxia+45NirKPEJzBq3y9mc9Q4xf7tRMPKB82Tj0lQDBBTT0QNI8qZiBUE9IGdvx+9HLydPQC9fr0dfZk+UH+aQE8/5X7hPhu80DuT+st6WbpkO328vv57wWjFWwl1zKZPG5EJ0x/UEtOzkbmOrMrDh2FD0UBcPX97tXrN+vI7mf2yABuC7oT7RlIHmMfMB0rF2kLaPvs6l3a+8fmtBWkQZaKjDCLG5Ptnx+vwcAD1YPsOAV0G+wtpDqwQJND1UIoO7UwHSfoGkgMdP/o9e/wVvCu8E3xQPO/9an5z/67AN7+6Pyz+ZnzrO697K3rUuxg7+/zkPz3CTgYFiaxMtU7MUQ3TDNOGErXQvk2aShoGrMLe/739Y/vN+vX61/wN/jwApkM5RMgGgUeoB6SGxETuQUI9kvkz9CRvXyripp5jfKI1Y2cmGumCLd+y/Dj1/3TFYQpuDd+QVtHskZxP9418CvaH30QswCX9UTwM+4M7lfu6+748gb6nP9GAocCdQEFAIb7B/QW72HtZ+xb7WrwCPZNASwQ6R04Klc1bT/JSEdN9Um+Qls66i7uH9kP3wEi+NPxA+2S6gbtM/T5/VkIQBAXFWsa7h4NHRkVwAnu+tXpUddewz6wr55IkC+LtY9ImMCkKraKymXiWf26Fs0qwjgFQpdHDkfZPwo2bisKHsUNZ/6s86rtYOv062Xsiuy/8MD4vP9PA3MDZQKoAUL+LfiF8y/wxe2d7uLxN/clAVsOYxsWJ1sxazv/RHRJcUZZP+w2QCy0Hi8QzQL29/3wTe3r61ruyfSH/YAHfA80FEkZ9xxQGgwTAgjm93PmGtX8weuuHp1yj7+MKpPtmyuoJrmNzUPnowOwG0cunjzvRRJKDEgAQOc1yyqIG3gJRfo48NzqjOkT6eTnPupn8UX59//RA9kD6AOUA7z+9vhw9ffxQfDS8N3xLvjpBIkRBB3uJ64wjjqyRF9Hw0LgOwozPyiyG0ENiQAJ+MDxme2U7U7xLPgoAroLThHEFUEbKB0bGZUQFgN48sjhos84vIupbJjqjsuQYJcsoKiuCsEE1+/x9wsFIcQyO0DfR3pJc0TrO7AyuyVjFNEDhfe17wfsmeoE6QTpC+7D9bX74v+MAj4D3wLj/yz6+PVY87rwLfDY8FHz1vy/CpoWRSGBK6w0JT6CRAFEbD9hOHAu8CLFFSQICv5l9/Hx2O4B8H31If6hB3AP/BTOGT4dExzJFToLYvyA6wHalMaOsnOgBZMVj7aTepsEp7O3FsxL5ZoAbxfHKXY5nETgSS5I9ECIOLktwh2nDJv+ifQZ72bszemd6K3r0vLe+af9FQDsAjgEHAIx/U74OPWg8pPwI/BE8Sv3WQP6DxQaICR9Lpw4VEDiQQE/ZTplMrEnqxsODqUClfuS9drwJPBz85v6gAN+Cg8Q8RWSGj8blhaIDcYBlfMa4wfR473nqgubyJJskw6ZLaJHsNbB/tYG8XkKeB6FLlw7GEQqRw1DoDuPM7omIRaJB4H7rvKd7h7swuk16nTuOPUS+7D92f+oApMC7/7M+vj36vXi88HydfPu9nD/gAsaFsAe1yeWMXU6xD5APZk5PDRQK7gg8BRqCG3/4/m89ALyrfPr+BIBIgmeDoETnhhtG8UZBBN3CPv7ge2a3GzKQbjSpimZApSzlu6cL6dCttXHVN3r9jwOLiBFLuE4HkCpQS881jRsLLkeew85A134qPC67e/r0uqG7PfwVfet/P3+DQH3AmUBfP1k+gn4i/Wv88jzQvbP+3AF9xDyGpMjhSzMNSU9KD9dPMo32TBbJ0Ad0hEUBu79yvjZ9Orz0faj/EcEXQuaEMsU6xe1GJUVAA5CA332uOcw1w/Gc7W1pfmZY5dNnKWjlq4UvunPueWk/gsU/SM9MA05SD5fPSk2KS4BJfgWfggc/UTzL+2t6+Pqp+oQ7fbxLPj3/PX+YwBTAY//Ivx++aP34/UR9Wj2TfqAAR4MXxfHIN4o/TBgOWc/bT+1Oow0iCyFIvQXnQzNAWL6DPaZ8yf0kPis/20HJg4NEzUW/BdEF14S3wnb/oTxueK40iHC9bItpcWaVpk3n/KmTLL5wTbTGOjN/9sT7iJYLs812DlSOKcwVyieH4gSvQT0+erwlusG60DriOs47hvz9/ji/db/aABVAUAAf/x7+Rj49fZR9y365P6tBskRVR11J8QvwDYLPk1DE0JWPKE13ixCIsIX1gxoAmn7pPeh9Wz2/fr1AV0Jsg+2E7QVhBa3FNsOmwV6+bTrwN1hzk2+WbC8o9may5tAo2erMLc+x5/YIu1QA54VoyPQLZUzEzYaM2AqGSLbGdMMYv/p9WXuTOq56mzrKOyb73D0ffnN/d7+q/7F/4r+Ufr696r3qPfV+RH+pwPgDOwYsSRLLzY3tTyyQltGLUMwPEY0+ynBHr4U6Qr+ATv8Tfmj+BD7bwA6B8INlxIbFf4VaBUFEhkLkwDF8kzk49bTyHa6fK1eoS+an51Qp4exe76yzlDgpfSUCV8apSaELqIxHTF1K3IhxRghEMoCePX87LznuubL6fbrru1Q8hb4Yv39AFkAUP7N/dT6b/Uc873ztfVQ+m4AEgjaEwciTy9xOkZB30TCSNBJIUQKO94wkSRkGKQOKgY4/3z7qfoY/CYAiwbODfMTWBf2F/MWexSLD0kHH/sQ7J7dJtGKxNq3ZazooTWcVKCcqra1/MLC0lTjFva1CWwZ6iN2KZ4qMinqI5caPxKDCjr/ZPQI7iHq1ulZ7YTvk/Do8+f3lfv1/cj73vdC9sDzFfDI71vyvvZG/hoH1RDCHdcrbDjJQgRIyEiVSThI30CgNsMrox+NFBkMLwWCAOj+gf86AucGdgxPEvYWbxgcF0YU1g9kCYoA4fSX567aeM7Bwm24Ea/fpcOgfKSPriG6wsZt1LHijfMzBlQVQh6UIlkkryOQHvoVnw72B0v+bPRS7qXr/uwW8Xny9/Be8ab0qvg4+ub2EPKU743tz+uc7V7yiPggAeQLQRhwJlY0oT9YR1xKSUq7SQtGvzxeMYomhRvDEWQLcAe/BD8EswY7C2kQWhUZGU0atxihFcERBgyMA1r5o+6A46jY5M50xVe8S7TgrA2ovqkusSe7x8a50sre5O2u/qQLeBPIF5sZ0Bk1F0oRLwtCBY/9YPaT8bnupu+28oDye/Ds8KfyDPTs80XwxesH6uvpVut27y31J/0QCIcT5R8DLgk6KEJNRx9I4kWTQzQ/eDfeLv0lgR14FzsTehAvEHsQbBC5ESMU9RZpGUwYjRPLDhQKQgQj/tj2mu7C59Lgp9eYzi/H479rt3iufamTrMu0lb33xhzSkODP8joDlgymEcwV2xeQFvkRkQufBXv/6PeV8QrvuO/X8Yby1PAz8Cfys/Pw8gzwB+xW6brooeg46hPwVfnwA2UPoRvXKKU2eEKaSdNL80r0SJJFxT4qNTUsRSV5H9AakBfJFUcWIBhaGPkW/RacGMoYdBVNDwkJiwShAHX7DfVf7pPoqeOi3Q3Wtc4Mx3G9w7N2rYWs67AmuFTA3sq82IHoOvgVBQkNXhFFE9gRSw1oB7QBaPxD9uHvquxg7dbv0/JF9HPyf/Bs8Y/yZvB360DnXOaw5ybqc+9U90UA2gvHGYwmAzLbPHdEvUdBSEpHU0WiQGQ40DATLEEnxCLbIM8fzh6/HpMeCh5BHf8aVhidFUIQOwrHBskCH/1n+bz2YPJr7XDo++Kv3CzUmMqRwai2+KviqNmsa7LYuWvEotHq4YTyxf4RBpYJAQsaDAkK2gIF/Av41PL77EjrQ+7S8hn1BvRD8zD0s/MD8XDswuVZ4d/iP+ad6H7twPbnAaIMdxfcJLQztj6NRK5H/EfkRdJDe0D4OWMz3i9xLtYsNSoWKKEnnCbJIyshmB5pGg0WshI+D8EL1QghBpoDMQEg/979Vvtz9UHuK+dj3gHUfslSvkyy96Zpn8ufPqjcs7q/Zcym2gHr0PplBM8GAAYPBCQBAP1U92Hy3++N7bPrU+4D9SL7Rv26+qT2NfQN8bTqmONY3qbc0d+65bHs4fa8A6kPbhq/JREyyD0/RNFDzEFVQSFAzD12Oxk59jcwOH43rDVfM+kvritcJj8foRl5FxAVRBEID6MO1w76Dt4N2guSCagFWQCP+r3yyOk04rzZo85HxAe8wrPgqkajCaGNpg2wubljxD3Qudw/6mH1P/qA+4/8j/yR+lL32vT99JL1lPQo9Zr4evtZ/An7jPYO8RDtS+kj5Szi6+Gu5SbsuPIJ+3cGWREkGgoj7Cu7MwQ6Gz2HPUc+IUCAQnlEOkTXQnxCwEDJOyk2tDBvKjUkXh5XGQMX0BaiFiMWHhVAFOsUYxSwD4oJOARI/pT3xvDO6YfjT91g1dLMxsT9u+yxz6YlnUKbfaL0qxm0P76izIHdb+ym9Ur6vvxu/NP53vYz9H/zM/WM9TD0E/bV+4wAlQBK/FX38fPi76rqQucq5jjnHeyo88D7uwU9EcsalCGvJ/UudDY8Oi46szvvPxpD4URoRotGfEXYQ21AHjv2NKku7SjuIoQcWxkwGlAavxh5GAAZNRidFf8QFwvyBGT+1Pc88YfpdeJu3czWN82zxJC9urPSpvObG5mhnlymLq2utuPEbtWY5ELuJPK79AP35vVw8lLxbPSn+IL5X/iG+5oCewaqBDAAj/uh91/zve1a6S3psexl8hn5ggASCm4UIhutHpojhSqRMM0z6zRpN9c8/EGmROpFbEZ5RtFFY0J2PBU3djL+LEonFSPUIdEiPSL1HkIcyxoYGJUT7w0ECA8DcP78+F3ziu3R5rXfg9eWzVjEbLyjspemk5xDmeOdcqZzrvu2dsJSz77aj+LD5cXm9+c+6O3ndOrs8Ez4svzz/ZoANwZeCb0GmQHH/ED4QPR38ePwEPPK9lv7TgHtBzMOjBNJFtoWOxmUHhkkvyiqLWgzfznfPk5DG0eQSH5GL0MLQAc8rzcnNKAw9CxrKoEpNimNJ78jch8/GxoWERFpDZMJzQSGAPX88vii89XsJuWp3OLSNMkGweK4xK+Cp3KihKLxp0GvFrVguo3BYcqw0QnVstZN2r7eruFD5T7sHvUr/HX/8ADNAyUHdgdIBCEAQ/0k/HD73/qp/B0BWwVJCFQL6A7SEeISwxIUFOMXnByOIS4n0CycMVE1wjeNOQQ7zjpwOJA1izNxMnExmi93LSgsBCsBKWQmXSPFH70bHxdZEukOEQ1cC6UI1ASLADv8Fve38Gnq2ORP39bZFtXn0JTM3MfEw/TBNsKCwjbCysJoxTrJFMxXzSjP4dKW1nnY99le3Ubi/OWA5y3p0ey38L7yhvME9a73Avrh+pX7BP7UAS4FWQdPCRkMPQ9+EQIT5RQuFyUZyRqZHKkeiiDkIQUjOSQeJVslRCVEJZslWSYTJ2EncSeVJ7UnfifLJgsmvSWIJbEkTCMDIhUh+x8CHkAbkRhBFpIT6A+gC28HgQN1/yT76/bp8sLubupU5mDi/N0q2f/UbtLv0CHPtMyeyl/JR8jHxobFisXOxmXI1smKy7PNxM9O0cbS4dSp15raid3Z4MjkD+lY7aHx9fVN+rf+QgOiB1ELVA5wESUV2RiuG+8dqiD/I7om+id4KIQpNSuELBQtti0UL5swWzFqMaMxRDKAMqsxLDDaLuItwCwZKywpUyd3JT4jkCCcHWwa0hbMEs8OVws0CJ0EMgCR+5T3GvQQ8PDqmeU44bbdBdrU1RjSnc/PzZfL+cjvxtLF68TAwwDDisMkxdrGZMhSytjMUc840QnTitW32OXb3d4g4hnmeeq37qnygPZl+mr+owL0BuoKNg4qEWsUJhjZGwgfvSE0JFom/Cc+KYsqAyxfLXYuiy/oMFwyYTOdMzAzaDKFMZowmi9mLvcsgStIKkgpHShdJvgjNSFTHkUb3BcQFCgQfwwxCfoFfQKq/r361/a88ivuUemh5E/gFdzG17zTitBhzuvMv8uoyn/JIMitxqHFYMXKxX/GdscCyS/Lgs15zy3RI9Oi1WrYKdvb3bbg5uN554TrCvDL9FX5Zv0TAZgEAQgxCzAOOBGHFCEY2RtzH7giYyVCJ3IobimrKi0sjC2BLjMv9C/LMGIxgTFGMeYwTjBGL84tOSzUKqEpfChOJw8mpSTmIsAgNx5QGxYYxBSyEfsOTQw/CbwFCAJP/mb6G/aI8QXtw+ii5GfgBty71/PTF9FVz2fOrM2SzALLWskEyCzH6sZqx8rIx8rVzJXOFtCX0SfTstRc1nvYMNs13jjhTOTM597rVvAA9cr5h/7LAkoGLQnoC7EOcxE0FDoXmhrrHawg0yKtJEsmbicTKK8orCnbKsIrRCyyLD8ttC3YLbstdi3gLNIriCp2KbAo2Se3Jo0lpiTKI2giPyCWHcwa9hcDFQoSOw+TDNYJwgY4AzX/0vpU9hPyKO5Z6lbmF+La3eLZUtZN0/7Qbs9TzjrN5ct5ykrJjMhLyJHIdsn0ytfM2s7I0HzS3dP51CrW5Ndh2nfd7OC15NfoKO1r8Zz13PkI/p0BWASgBiMJCgzvDpsRXBR3F5YaIB3zHmQgnSFwIuwirSMvJScn0ijlKawqYCu6K4ArCivjKhkrQCscK9cqlSokKkwpLygYJwsmwyQPI/AgcR6ZG6IY+RXKE78RUw9SDOIIJwUeAdn8mfic9NTwBu0R6f3k1OCZ3HrY29QR0iHQyc6zzZ3MVcvXyWLIbsdYxyDIgMk0yxLN7M6B0LPRv9IW1AbWidhz27DeO+Ly5a/pgO2l8Sz2uPq8/vgBnQT5BjwJjQskDiERVBRkFyUaphzgHpogsyF1Imoj4iTEJsAojir8K9wsKy0xLUUtbC1lLQUtdSz/K8crqitwK/gqKirzKF4nnSXSI+ohvB9AHaUaMBjxFaoTDRHyDVYKVwYlAv39CvpZ9s7yPO+K67jnvuOG3yLb8dZ40wTRes+AzrLNxMyKyxjKwsj4x/7HucjlyWXLO80/zynRztJC1L7Vbtde2a/bl94P4rXlR+nv7OHwDfUm+ef8OwA7A+oFTQiwCowN6RBMFFMX/RlXHDcebB8bIMAgvyEII2ck6CWcJzQpNSqAKmgqUipLKiMq6CnnKSoqUiodKrIpOymKKGAn3CViJAwjfiFwHxsd7Rr2GPUWqRQTEkAPAgwtCBcEZwA6/Rn60Pah86vwqu0y6hHmkOEx3TDZutVG0wbSX9F+0BnPZM3Oy6bK5cmWyRrKbMvlzDzOu89S0aDSq9PL1FXWkdhL2+/df+CG4wnntuqs7gvzdPds+7D+RwHCA5IGYQnuC7AO5REXFf0XjxqbHA8eGR/TH50gGCIbJMQl2CbLJ7AoUymzKdsp4CnbKaUpMykKKXEp1Cm4KVop/CiDKLAnOCYpJBoiViCBHpQc9hp3GWkXoBSCEWkOXAsZCH0E8QDn/SP7OPg09TvyGe+H63znOuMY3xHb6dYc06zQtM81z2HOJ82zyzTK7MgxyHPIzsmbyyrNnc5d0DnSstO81NLVg9fb2Vvc3t7V4VPl3+h57KbwWPXX+ZD9cQDiAnEFLgjLCnUNoRAJFAIXeRnGG+IdeB9jIAghKCL9I9YlIicwKEkpISqEKpIqZyoWKrUpNynXKBwp3ylAKvcpgykQKVYoPSfdJUckjiKwILUe/hy+G3AagxgMFlETchB1DTgKrAY4AyUANf1K+qz3JfUU8lzuV+pC5kTiVt482ivW4dLI0LTPP8/JzsDNKcxjytLIC8hoyHTJvcpvzIbOk9Bz0gnUA9Wy1erW39ht27beguI55uDp3e0x8rT2GPuo/kABqAM/Bs0IiguyDuwRKBWNGJkb5B3DHxYhdiG5IeoiuCR0JggoNinSKVAquiqcKi8q3SlbKbcooygaKZEp7CkHKqYpMSnVKNcnFyZYJKAimSDQHqsdlBwdGzYZlRZqE20Qhw0yCrYGiwOLAJ792foF+Pz0z/FH7lvqiObb4tbeitp31tbS+89UzpvNHc17zG3LyMkKyPXGysZ4x+7I88o7zYnPl9E704HUedVq1vjXftq83WfhS+UQ6bPso/D+9GP5ff0PAfYDeAb8CJQLRA5BEYcU2BfwGoIdZx/ZIOohfyIIIzMk6CWjJzEpZSr0KvIqqyozKr8pmymgKXopTilYKWwpPynMKDgokie6JoIl+yNeIqsgyh7eHCkbphkLGBkWvRMHEQ0O0gpUB8oDnADl/Ub7b/h39WvyBe8z60TnXuNu35vb8dcx1JjQ4M1EzILLUcsjy1fKJckvyKjHxcfEyFfKLcxpzubQONNH1eXW0tfF2Lfaht2t4EfkSuhB7DzwiPTp+BP9BAFrBAEHWQkDDKQOAhGcE6AWtxmnHCMf+iB+IqUj/yMsJDUl1CZkKMcptCoKKzkrLSuMKuIpnSlGKbQoVihiKJ8ohSjLJwMnjybQJV0kiyKcILMe5xwDGxwZsReGFsUUOBJJDzoM8QhVBcEByf5b/M75zPas88vwzO0h6gzmKOJw3rTa4dbN0iPPHc2DzDjMNsxrzNTLYcocyX/IwcgbyvDLu80I0OvSdtVF15/YttkC2xDdsN+a4jbma+pK7t3xGvbU+hr/2QIpBrMI4QpDDXAPghFtFOUX1BpbHesfIyK2I5UkviTvJPclUSdIKEgpiipWK2grNSvOKhwqXimMKJcnPie8J9onGCeVJq8mfCafJTokRyI9IHMebRxHGtMYtxcSFhcUAxJgDzMMyAj/BD8BTP68++L4PPb68yzxr+1A6rfmteKh3oHaG9YO0uLOlsyry0jMD83rzBTM5cq9yRrJ9shdyePKZs0n0PzS6dV/2FXaYdtZ3EjeN+Fw5MrnRuvN7sHyJPdp+7T/BARXB4kJlQuvDbgPCxKXFDwXTRp+HSsgUiLTI1AkRiSBJD8lZSaRJ4YojimGKsIqPyp4KdQomCg4KCInYCa3Jv4mkiYeJrglYSU6JTAk0SGSH78dWRv+GJYXkBaRFVUU7xHbDj8MUAlkBbEBmP57+5j47PXu8gbwSe2/6YXlkeHU3ebZpNUZ0TfNLcvPyk7L7Mu9y7HKp8nByPTH+scRyQTL6s0f0dXTgtYq2dra6dtW3Sffq+E05bDoqusp71jznfcx/AIBKgVTCK0KXwzRDZAP4RHMFBgYchuEHgchFSOrJCklvyS5JFwlLiZtJ8UocCkiKiQrLiuRKqwqnCpzKWco1CcCJ2ImBiY4JbskNSUnJcgjKSJyICQewBt4GQMXIBURFG4SwQ8kDYoKGAc4A5n/MPxB+dz2KPTm8MHtr+ox50fjHt/12vvWu9Irzp7KMcmkyfHKvctEyx7KA8keyNTHbsigyXnLQ86/0anVednb23XcCN0B39/h1+Tu5yfrUO6t8bD1VPp5/5sEbAiECmYM1w7YECASjhOxFdAYhRyBH7ghKCT0JdklGCVpJaEm4iePKIcoqCiuKd8qICuwKqQq7SpkKv8o0ifuJsIleCRyIyIjvyMBJL0i6SA1H+scNBqtF0UVbBMVEvMPMg0VCxwJMwZnAlL+2vr590z0GPDM7K7p4+Uj4kbeLNqq1q7SZs11yW7IzsjFyanKVcqVyfTIjMfVxo7I0MpOzHPOktEG1WXYddpp22XdkuCY42HmHukK7H7vd/Lp9Er5w/9PBcQIKAtQDdIPEBLzEsQTLBZNGRQckh64INciBSUOJvolmyYMKLEoRSjiJ04oTSnYKaQpuCmKKkErMCuVKukpSymSKJAnjCZuJlsnbidHJYcityC2Hq4beBiVFSQTGhGNDmcL8wjuBqsD6/7I+T31bfEv7XjnPeEh3OnX0NJmzCXGn8Dsu566Cr6/wojGr8qmzp3RvNQ01m/UuNP91Z/XF9l93TrjT+j460/steui7qzx3u/O7OfszO6y8NHyIfYK/C0DTgfRB/IIugx9D8UN5QrrDNsTrxq0HqchviayLXsxXjCqL/gxVDO9MbEvxS/IMlM22DbKNfY24ThiN0IyzCzBKSMo5yTqIMAfqSAZIDkdFBn2FLERVw0bBgX/e/vY+Qr30vKa7lXrDui04mbbfdTIzsnIt8FCu2y3B7VesDao2KA8oa2r07nCxB/OONoa517wd/Q89CTz9fNz9LXztPYc/wcHVQndBmUE/gTABJ3+wfWS8OjvefEJ9Bf4Mf+VB4EMwg0XDxkR7RGUEFYORhBuGZ4kZSxpMuA4+j2hP5Y9Xjk8NbUxHC7yKsEpVSvCLbgtTiv7KK8mOSOaHvAY5RPcEeIRcxJ0FOcWCRfKFCoRUQy9BlwAGflz8lLtaukB54flM+M436fZ5NKpyy3Eqrx+tXCuEqiroo6d9Jxdp7G5T8se2n/nv/Nt/z0HnAZbAfb9L/zK+oT7Wv/iBfALmgy4CGwFPwPD/if2uOtF5c3lOerY78L2m/5AB3UPghOOE5UTvBOlEpgS/BVrHSwobjLGOE88yj7kP7c+CTqCMvgrbCg3JokkASQ6JDIkKyP3IIwemBzeGUgVghAZDlIOAxATErwSNhFODxYNxgfZ/2z4XPHo6V/kaOFw3sraztet1IDP6MhFwqS6O7FCp3mddJYmmYeoL74i073lnvZhBvwSLRfcEa0IcQD3+Uv1r/Na93D/ywWHBvkE2wS2BDgAS/Uq6BzgO99/4o7nM+6T97ADpA7aFMYXjRl0GTsXShXlFiUduiXnLZA0MTmXPL8/P0C9O6k0HS5CKMsi9x2VGtYZxhpbG88bhxxgHBcblxg6FKgPqw3tDQgOKg05DKwLeAp4B40C8vtT9PvsQea335fZKNQrzzTKw8QUv4i5cbI1qKGdGpn1n5KxrcYu2RHq3fv3DEoZ0hwPF1INIgXE/gn5lvVc9uj5gPwJ/R3+twDOARj+NvWD6kPjjeHw4jDlNek78SD99AhzEX8XSBz1Hqwf7h8/Ie4kFioYLsUw2TO6N2o7uzzqObc04y8OK+Ak8x39F3QUMhMAE9kTDxabGEkaEBqkF/AUVRNmETQOhwo5B0IFAATkACj8IPhJ9HLvD+pz4zjbSNMKzBPE6rvitF+u0KbJnjubxKEDsonGYtoh60f6ygpjGYoeoRn6EPkIVQIW/U/5RvfT9uD29/b19336Sf22/Ff2Yu1Z51vlEuVH5bfmcev89GgBuAwWFT4bLyAcJLkmXCg8KtssNy8tMD0wmTEANYo3fjYbM9Uvvyx7KEki+hqkFOoQ5Q+BEJsRaRNaFt4YgxkvGWwYiBaYE7oPvgqOBbMAx/sR95PyB+5o6krnWOJ72+DTTMtbwiK6E7Keqa+gXpmrmteoHr4C04rllvZnCHIaQSXzI3gbBxJWCQUBsPie8nfxQ/Lf8bzyS/bf+qz+kP3M9bLt3+nN5+jl5eTJ5cjrOvdGA6UN/Ra9HkQlgCqULDItPi/VMP8v4y0ELIMskC8LMYov9S2VLCkq3iaJIUYayxRDEkcQjg6vDhMRsBRwFy8YFRj+FzQX+BTOENIKOwTo/ZP3LfFt6wvnxOMq4OzaYtSkzUrGeb1ntLmrxaFGmU2a8qZFuT/NQOI59/4LYh8MLKMtKSatGwESbgfi+gbxO+wT6VXnmum87kT1PPxY/4H8IPc88uTuhuzq6CDmjOlr8k/8hwY5EVsbqSRaLPQxIjZGOBs4gzZOMlUsjyn/Kc8oSCaqJU0mSSb8JNMhzBwzFz4TGhLlERARSxEqE5QUPRWZFlYYYRh+Fb0QfQtKBRz+5/YD74vmRODZ3JbZrtSEzk/IHcKDuquxpqiVn8ea96CPsNrCDdZi6ib/WRRzJm4voC6fJx8ejRQqCb/6RO6w5tThk+Bu5PXqufLU+Ub8Mftb+lv5lPe19KXvu+yu8KP3+/2RBTcOfhfxIj0udjYiPGE+oDxIOfo0RTBgLXUqwSX9Ij4jiiN1IxIiux2VGQcY2xaBFXIUkxL3EPMQQBHaEdwSRxJvEOAOTQwlCBAD4vsz86/rNuW83rLYdtKeyzDF7r5RuDaxAqj+nQCaoKCkr1/CRtXc53386BKwJQcv6y3hJu8e8BXYCYP8APEg6FfiH+Ca4WrnTPDf9yH7VPut+2v94f1J+ur0lPJC9XD77QE4B3cNcxYaIT4sXjYqPa9A70ExQCs89Tc/M4MtFSjRI/ggUh+1HeUb3Rm0FhQUPxQxFTQVcxUXFWETcxIaEpkQGw9IDuoMiwpOBioAH/ql81TrVeO+3B3Wr8/qyGTAO7iSsa2pRKCxmLGXAaJetS7J2Noa7ggEZRr+K4Qywi4uJ6EefxTcB9v4dOsB43PdfdqJ3fXlze/r9977VP23AAYFtAWJAfX6U/c5+nX/UAJcBQgMDhbLIaYskzUaPjxFMkj5RpVC0TwvOAgznSr2IdAchhpbGa0X2RTwEhYTTRQ/FogXqxaNFf0U7xI4ENEOkg07C4wHkALf/ZL5YfOZ6wfk6NwM18vRsskfv+y1Za5IpvWcMZWMlYShN7S6x8TaZO7CBJkcqy0uMtYt3SazH5sWnAjF98/pYuCc2ibZ89vJ4kDt4fbF+5P+zgJ1B+kIhARr/an6Yv0TAb8DUgYlCz8V9SIXL3o4rEB5R2pLY0qcRDo+mTgBMfUnaSBbG/0YtxeRFLoQ2A9qEngWCRl+GL0XuhhCGN0U2RA7DTMKdQcFAwz90/cw89HtC+e+3q7X2NMvzyzGG7uIsOWmOZ5ZljiSTZdapiC7FdFz5d75FhFfJtIxuTKTLTAmth21Ee8Ane8Z4obZ3tXb1VLZb+L27pr4IP7QAiQI1AytDWMJJgToAd0BigJTA/MELwsmFyokfi95OgNF9EyRT7xLAUXsPiw4gC8YJhkdthYOFNgRPQ4rDLgNMRJYF3oa2BsTHZEcRBk9FQgRMwxmB7cBePqx8yDuoOjT4nPcNdZk0RXMT8TfuyezPahjnHSTgJGxmTaqqr2X0YTmSf0rFZgoezFOMeYskyUwG60NZv0f7V/fmtSCzhDP29VO4Z/tXvbj/DYFGA5cEx4Tmg4MCk4IcQfABZgEAQZaDMQXISRjL5M7DUgaUU9UhlFvSw5FkT2VM38oyh0VFfQPoQxoCakI4gtCEcYWyRrrHEweTR7jG0YYphMtDR0GAv/g9rXujufA4H/aCtWqz1PKRsRTvE2zVqm1nRGUA5LfmIemp7fGyTvef/YYD18igiyqLaYqjyZsHiYQyP747dbfHtW8zaHL79BJ22TmMfD/+BwDxQ6TFoIW8BEZDpkMuAvrCGcFwwWvC3AVVyHlLZ46fkdHUYhUBlMFULFLb0QSOYQrUiDpGOsSFw3ZB8YEngbyDKITjhghHHsemh/mHpsbmRZNEOEHXv5X9absxeQt3mTX8c89ydDDGr9RuRmwaqREmhKVOZfHoE+u1L3K0GnnEf/uE08iUynDKqsnriCvFmwJZ/kQ6T3a7s5qynjNUtXf3l3oP/LD/T4JfBFuFYoVUBNSERkQUg5mDOkL9w2pExQdFSlmNrFCkksTUbBTy1LPToFIxD9pNd4qxiDYF2cQKQoSBnAFPgjtDZwUOBlsG28dih+2H+gb1RMQCjABgvhw7l7j/thL0UrMEMcxwMW5ubSyrn6ltJpdlMSXUKNDsfO+U86Y4h/7PRF7HmgjniQuJDggDxacBkD2wecc2x/RKMwZzmnWJuFI6l3yTvwBCMIR4hW0FIUSQBKYEoYRKg+eDbQPZxYGIMwq6TVTQN5IwU7GUV9SMFDpSRRAdTUXLAgkExxYE2YLUQc4CFEMqhB+E7IV4BhMHNMdTxzZF0URPAmB/0/0XOka4DTYEtCsxoW9PbdTs+yteaQ0mVCS8ZQsoJiuqbyby2ze4PTXCcIXwh28Hh4dCBlbEQEGu/g56yve+NJtzLTMGdMI3E3kMuzc9VcByAsBEmoTihIyEtASCRP/EXwQpBB2FJkcWyjENShCxEuUUhRXxVgpVnNOQEPGN/ItESVxGwoRagiKBMkFwwnyDacRuRW2GnEfpCHnH5YaGhO8CroBmfdZ7LPgUtWtykDBi7nGswWvMaleoeuZOZcSnCunaLSAwTzQ9+Ih+GgKIhVeGOwXRBZAEhAKWf6z8eXlztrX0DfLPc3f1QXgs+cO7iX3xQNOD6sUDBRBEukS3xT5FAUTYRL4FU4dPiZcMIU8kUmxU95XAlfUVPBStE5SRRQ4KCteIbwZwBEICkEGJQhrDaUSZRYAGqkePCKoIfYcVRYtDw0HaPxr7+ziZdhgztjDuLmpsTusC6ePnzuYj5YHnYyprbfdxF3TtOUe+ToIFxCZEXoQ4g6+CkkCI/eP6+Pgs9cf0BPMJs4Q1Rnd1uRM7fX3OgTBDRIRaxArEOcRIBRBFJMSVhM5GWQiLCyoNYA/ZEpVVOdZsVqqWLBUMk5zRDA4TSysImYa0BJGDYILrw2cEREVwBhTHp8kHSgqJqof8xcsEEwGSPkx6zzfZ9b3zVDDF7gor2yo+aEimwqX4prfpnO16cJS0EHg2PLQAkQK5wqLCskKCAmoASr0XuZs3ZHXdNIezyXPV9T13UrnPu96+LcBPAi7CzIMJAyhDqQQgw/XDkARAhdqIFUq8jJ8PQNJAlHRVUlY3FcXVv9QiEW0ODYvGSecH3gYCBE4DisSqhZ2GbMcoR9SI7gnOSfFIewbBRQXCcf99vC/49/ZINCOxIS7LbTEqzCkD535l+ObkadatF7Cz9Fe4RfzFQNuCi8MRwznCCAD3/rb7Srhjdjtz0/IOMYtyaXR592P5ifsAPVR/2sHNQxTC6EI2wpbDjgOYg1NDjwTjh7yKj806j6SS8JVE1zIXEBYHlQOUOFGdDqvLnokcx3tF+sQrQzWDrwTyRiUHUEhqiU1KkEpUCLVGR0RDAjV/TTwUuF31cLLS8JbuT2wRKeAoLWczp0gpvayA8DazBfbDewA/qgKDQ4+CwMH7wIe/Z/yieS019XOsMnZx2XJ686a10DgfucU77/3FgC5BR4HtAb6BzAKIQvqCiYLtA4SF54hcixbODNE4E20VNhXLVi5V5pUu0yOQkw4oy5iJiYexBViEUESjBUZGrkeECJjJdgnfSaeItsdqhZdDZ8CqPWr6GXdxtFExsi8o7Nhqt2i952vnlannLOxvwzNnNzf7YT+SwjnCOYFHgOf/7v5N+/24H/U4MsVxQrBw8FIxwPRvdu+48/qwvOZ/IgC0ARZBKMEmgccCiEKSgpzDb0UjR8dKxM2xUFGTUJVvVjpWP5W6VOgTjpFiDlXLzYn/R+yGfQUqRNjF0QdUiGrI3AllyZJJ4clyB4TFSILnQDo9dLqRd0kzwjE7Lpusmaq0aFrnEqgoqtSuZDHA9VG4yz15wRGC44KwgbXAaX9J/a256zY/c3DxZ/AE782wJ/HINS63XDka+xG9OP7NgJ4AkEAAQJABLMEPgZZCDsNVhh0JAgvKjwvSVtSK1lAW5lYHVcpVOlKMkBxNocsuCV6IHwZVRbpGA8c+R8CJN0kcSZ+KVIn0SCDGXoPWAUn/XPx4+Jf1oPKJ8DIuPeu26MDoA2kvK04vIHJm9Qh5Eb2SARYDKUMOwfnApL9G/KA5LbXPcugwga+/rq2vSbHztAU2cLhiOp/9FD9jv8n/s3+RgBnAWoCHQJHBCINfxjGItYtmjlFRYdQt1dtWdlYB1aOT0hHTD4BNQAtvCW7HoUaqRmRGkcdEiGSJIsoNiyaLH0pLiRXHDQSbAff/MzxEeV111XLKcFHt/SszaPvn0ulkbLYwTPPQdyc7OD+Ogy/EN4OFgrMAwj7k+1A3WfPP8XIvIC2cLTwuFPEuNAK2cLgfOuT9n7+IAE8//z9gP+CACAAGQClAoULIBnaJKUvfz1pSvBSdVi2WXVWq1FqSrg/BzVHLBMmRiIaHXcX3he/HLkgJCVeKUoqIiukLI8pGSI6GcAONQS7+bXs+98X1mLL5L8CthqsaaUIqFmxF70xy//Zr+me+wYKeBAOEjkPsweA/0T1g+WF1dzJOsCeuD61D7c4v+PKDtWV3pzovvDv99P9p/1d+jj7u/1X/fv8w/9QBkARaR4uK7w3kkPKTQNWU1m3VihSGUy8QRc2jy0fJ3Ahzxz2GMYXSxviIIQl7yihKkQrbyxVK6okNRsaEkQI8Py48Pfj6dcFzUzC77dMrvKmZqcmsUG9uMg81/bni/fKBcoPqxFRDsUJ9gKo9y/omdjgzNjC07hGtL23dr/SybjUQdyD47fu5fhu/Mn6d/h8+dP8Iv1l+779IQXbD7scpCiBM05At0wvVFVWqlSyUSpOGEboOYgw0irVJJUfthygG5AdYiKlJm0o9CgCK+QtQCvjIcEYbRFACC3+W/Ns5cPXYM42xki7165HpxGqH7T4v7LNidz+6tD7+gvjEqARcg6BCZkB4vXz5bfWTsv4wDa5NrekuUPBB80F1lncKOV/7sj1Nfoc+dn2R/kl+wT61PseAKsFZhBEHQko5zM4QHpJK1BbUh5QFU47SSk/cDdIMlUqMSSoIQMewxw5ILMiNCTiJqwo2io9LG0nTh+hF5sNLQPN+WHsut3T07DKCsAStgOsRKfxrtK8ncnq1ljlNvWcBqgSCxXWEfIL8QS4/IruC90u0c7Iy77tt4S3VLyLxhvSktkE34vmdPDi+Nb5zPWS9S/4xPgY+pr9ZAKZCzYYgCN7Lrs6tUaSUC9UZlG8TrdLYkMUOVsw0iiqJGQiMx6pGwMdvh96JC4opyaCJiYqVChjIGsYwg8xBg/8h+6s4EbWosyGw6q5bawIp12yhMHjy0vYXefy9pQIdRVeF0ATXg2qBgr+gu6z3I3SLcrFvQ23yLiXvXzHZ9Ox2Rjfyegt8uL3Ivh19Or01Pji+F75/f66BeQO7RsXJyoxzD2ySERP0VH3ToBKm0bCPfMxjip9JQsgkBy3GfgWoxdbG5YfFyI+IcQgkyJ3IJgZiBPVDAkDTvmU7+DjX9h5zknEIbhIrXasWbe/xLTQLt5o7Jb7QwzuFsQWnhFdDCkGPPxX7X3e4tMfypDBAL8pwWbHbtIT26newOSQ7S/z4/Tb8vTv7vEf9jv47fuXAmYLZBi5JVcv0jnPRIhKbkynS7VGdkEgPKIyfykEJbIhIB+qHVgaDBhQGhIdCh5VHgUdaBtnGrsW6hBXC3sDj/nC8P7mX9s70crGnLlQr3atNrMYvu7LjdqL6T35aAiGE7IWwxLTDAUGl/sp71PkuNm6zvHHRsePyrbRDtsm4ebjg+gc79PybPHa7RbtBvDJ84b40/96CK4S9x73KTQzpT0PRnlHf0TDQQhAXD3hNtMtuifOJYgkGSJVHnAaGxm7GRMZHBfbFZUV3BQYEjwOvAtFCTADjPkh727lYNzN0sHGlrg1rjGumbaIwCHLG9mK6Vj69AjsEFoR2A1zCKAA8fW96hHjL93F1HPOP9CX1mbdueNT5pvmQerX7rfuPOu56D/qdO+F9GD6qgRnEBsb7SbHMdo5/UFzR8JFNEFtPlY8cjmXNOUuaiyFLCwrAyhXI7QdixrJGX4XBxQAEvsQcw+SDBcJxAZQBKP+7fVc7P3i29myz9bCy7S1q9OsVbX5vtHJO9gs6FD37wOhCuIKeAfDASz6J/GM6H3jWd/r17nT79jd4KflOuhY6Hno7uvp7XTqyuUO5aDq//Ld9079iAkgFqMe3ieWMYY5ikAPQxNAxj04PVg7azcHMYwslS59MBYtXCkhJjYhRh02GsAWzxQEE8AQrBD4D5sM/QlMBlf/1/jG8XznNd0p0yHH0LpbsIysALOJvNLEqdHi4djvu/vMAsoCyQCW/RD3BvA76Z7jheH93fPY5dsv5J3o3eqy6+fpmuo+7FfpEeaM5brnou/i+Pj+ZgiUFLkc+yTVLik1gDrePhQ+RT2WPvo8tzrCOCU0NDJ7Mz4wKStHKLsjMB9tHA4YWhW3FZkTahGxESUPJAshCJ0Bp/mn8wTrIOCC1uvLTcG6uC2xzq9wt//AFstQ2NnktO9i+Sf9vfte+cb0Uu/C6+3nxOSZ4znhfeBf5bvqfO3r7pztouub6z3qNOjS6BHqAe2G9DX93QXAD5kXDx63JsEuVDRkOCk5yjitOkA7ADqdOtA6Jjn/N6o1qzFvLiYqYiQBIF8c1hnJGWsY9RRdExgSvg4MC04G9P/d+YryB+mz32jWvsyxw0q6SLNttNy7K8TezL3W4+Ew7Sr0EvVf89bwt+3N6ljnV+Qs5IPkK+OB48HnUu0w8ILulOta69nrTepE6NPncOrA8Dz44P7kBY8NfRRkGicg4iZ7LdowtTHXMzg3Yzk6OtE6mTsKPPc6bTguNSAxZCxDJwEibh5ZHS8cTRlmFuMUhhMNEJcKqgWDAfj7AfXa7Z3mWN9x1wHOucSiviK9hr+kww3JjdHI29nj4ehk61frK+rZ6OzmEOXz45vjWuQm5eLlK+kT7pbw2PDC8DvwZe/K7STrLeqG7Pnw0faA/C0BcQfmDgoUCxgxHSYiVibxKccsKjB9M9s0KzZNOB05ODnPOOQ1VjIRMBEtZyl5JrojtCELICod3hpxGdMVZxFdDmgKYAW8ACT71fSz7mHnut+02ADRvcokyEfH08gqzhvUfdkx36ziNOPZ4rrhluC934ndftxX31XiqOPK5V/oBetI7ujv1u9j8FLw9+4E7qDtUe8P9NX3CPrM/hsFzAlQDRAQ+xJEF7wa7RwrIEsjVSUWKI4qHCyzLqkwOzDWL9IvqC7zLNgq8ih2KCcnRyQoI/kiiyAuHUUagRd8Fe0Spg7XCtAHsAOH/h/43fA26yvmst8L23jaUNv024fcWd0o3yzgKt4l29HYZdbG1HDUX9TR1RnZpdt63UPgNeNA5fHlieU15hDojuh46APqNOya7hLy5vXn+V3+ygHfA/YFYwhlC58OdBDzEVUVJBn5GxIfYSITJZYnuCl1K3wt7y5IL3cvbi+hL0QxcTIyMWcvWy4jLYkrNSnrJcUiwh9RHB8ZgRVZEL0K2wQD/tH3v/Lp7NLmf+Jc4OnfVt8Q3VjazNc91JnQ6M1CyznJoMiCyGPJHswOzyDRx9Jy1DHXbNqx29fbCt1t3rHfFuI75f7oqe3Y8Uj1Cfmy/DAAuQM0BpUItAwNEYYUThgBHCwf2CLCJocqVS7+MHkyEjQHNUI1TzZLNzQ3STdiN8w2RDZFNSoz3jBWLpgrWilDJrYhuh0oGnUVNRCYCj0EAP6Z94bwJ+oh5W3hlt8r3pzb59jw1aTRXs00ypjHrMVaxKLDtMQPx//Irso/zJDN1M+00mbUbdXC1iLYHNo43TbhG+by6sru2vJ69yb71/1aAAIDwQaJC+oP4hMrGJ0cGiEqJWgovSsfLzQxezIsNNM14jZdN4Y3UzjhOeU62joEOoc47zYpNVwyEC9GLJwpoCZuI8UfcRtZFnIQZQp6BP392fa57ybpCeT84B3fId1U2oTWJtLqzRnK58ZSxDnCLsG7wV3DOcXGxsfHmsjuyfrLX85k0LzR9dLB1H7Xe9ui4DHmaOsP8Fj0a/j6+8H+KQEYBEAIkg0WE+AX5xuMHw0jkyY2KsUtuDCZMsQzJDUMN/A4NDrHOiU7tztHPFM8lzsSOuc3XDXIMmgwDS4/K9snPSSUIIkcphf+EQ4MCgah/4X4BfH+6VbkZuDk3fnblNkD1nXRy8zPyJ3F38KewHK/zr9iwUfDrcR1xRzGP8cfyXbLs814zwHR+tL/1TjaVt/P5CfqIO+v87b3Cfuu/REA+gIVB08M8RFbF0ccjCAbJDYnUiqzLQYxjTMANQg2bTcbOY86ozuQPGo97j3BPdc8cjuWOQw3NzT1MWAwjS6kK7QnYiMTH14arhRVDicIKQKp+2n0/Ow65tDg6twf2s3XJ9VL0TTMJcdSw8jACb/ovbO9074RwT7DXMS8xEzFgcZnyMbKJc1Lz4DRGNR/10HcHeLg577s5fCu9Dn4gvtp/k0BMAVqCi0Q1hVaG2UgdCSEJ/wpcixlL3gy2zTANvo4bDtbPaM+gD8WQGxAMED4Ph89STtZOTw3iDVINJMyxy/2K4En8iJbHgYZtRJGDEIGRgDv+f/yRetz4/Dcdti+1ezTpdH6zXjJMMWCwZi+wbzeu8u72LzmvgfBicJUw8LDw8QOxwTKqMwCz4PRVtTi14vcAeKc59LsNvHy9MH4sfwkAFgDRAdJDBQSLhjtHcIikiZjKXcrsy2oMLczRDaeOCI7kD2FP75APEFtQYxBRUF1QFw/3j3LO6s5GTjQNv80FzIiLqwpDiXhH8sZRRPlDLgGoACS+ir04+zb5CDdJteO01vR4s5zy3PHWsNpvxC857knuXG5RLqZu4a9h7+0wPrAY8EDw9fFCskTzC7PnNJH1kDa8t5x5BPqDu878yf3Qfs3/6YCJwa5CnsQuha/HAQiNCZHKYkrny1QMKwz3DZuOdA7PT5GQKJBW0KOQoNCVULHQeVA+D+wPrU8kTq9OLY24TMtMLMrwSasISgc+xXDD9sJwQNT/dX24O8N6AXg4diL03DQhs7cy+3HnMNrv667LLkLuLa3EbgmuaS6ibyhvtG/5795wJTCscUsyY/MbM9Q0i/W6dof4Pjlyet/8HL0evhX/OH/owPeB9YMAxOXGRUfdCNAJywqaiwALw8yMDWTOAA8yj4VQfVCoENGQyBDJkOhQtdBC0HWP2M++DwdO+g43DY0NBgwVSuOJjEhSBuFFeIPWQoPBTf/J/iC8H7oqd831yzRk80ky+TI8MUTwk6+BLvbt6K1ULUMtu62hLjmuhq9j75Av66/TsG1xFTIIssazsbRpdX42VTfcuXD64zx5fU3+eL8wwD0A1gHUQyPEvoY2R6pI4on/yrGLckvWDIgNto5njz3PjJB8kL7QydExUO1Q/BDXUMCQuNA4T8jPsY7VTnTNv0zUTB9K0QmbSFlHI4WoBA/C+gFAABq+SbyV+om4rzZFtKqzGvJyMa9w2bABL3BufG28rQdtHe0ZLVutg24lLoovc6+tr/ZwO7C6MU1yY/MO9Bf1NTYxd2T4/bp++/49Cf5Ov1kATwFnghFDP8QwRbQHG0iOScHK7wtrC/LMdY0dTjSO5E+10DLQkRE50TARGVEIESTQ6BCqkHAQH0/pj1LO5441TWeMmEuTSkjJP4eohlLFCAP0gkhBOH94fZ57wzoSuA62AzRpsvKx/bEh8KlvzO8yri8tXWzubJWs0m0grV/t/q5ebzOvpXA7MHbw7LG18lbzYrR39VE2mrfSOVH6znxn/bm+r3+8gIFB7sK5A63E+EYhR40JNYoViwcL/IwZTLWND44iTuJPihB00LFQ3lEbUSkQxBDjEJhQSBAPD/vPQI83DkqN98zoDD3LBgo2CISHjAZDhQrDwMKEQTU/UH34O9R6Org8dj10MbKtMbgw8jBir8+vJe4nrVKs/2xebLys1e1I7e1uUm8er4/wF/BoMJHxQLJ6Mw60R3W5dq03zPlF+vW8DD2k/oC/rkBQQbYCmQPcBSyGaYeRiNbJ7oqvC1cMFUyczSXNzE7Tj7MQJdCiEPKQ29DhEKoQSxBd0BcP30+0z2jPJs61zeSNDAxoS1cKZYkCyCmG+cW7RHZDFEHHwFV+hjz3uvY5HXdq9WyznXJucXtwoLA173HuqC3sbSfsjmyRLPgtOu2nbl8vOC+kcC0werCBMUTyLTL/M/q1NXZet5Z47LoSe7S8+n4Yv2fAd4F3QnBDR4S8xazGyogVCQCKBgrlC2JL3gxCDQoN006Mj2nPzxBtUFiQbRA7T8xP3k+wT0wPbc80DsCOm43djRCMe4toypMJ6Ijjh8xG6kWChI5DcYHhwH2+nr08+1J553g6tlN02HNlcjYxPrBi7/gvPS5gLfatfG0E7Vhtla4pLpHvdC/3sGowzrFmMaVyN/LC9Cf1K3Z2t6646bo2O3w8vD38fxlAT0FQAmKDZ0RsxUQGjseCCKrJcQoIytqLcUv3TEgNPc2tznpO809Iz98PyM/Tz72PM87jTucO1M7wDqLOT43UjRXMTAu8yrTJ2kklCDhHDsZ7hT1D6cK6ATe/vj4H/MR7fXms+AM2obT5s0+yWTFYsLhv1293LqeuN62Kbbbtoa4j7rTvDC/XcFIwwTFoMZsyN/KJ85G0ibXWdxF4bvlCuqX7ojzqfii/U8CwwYKCyUPGhPrFpwaGR4/ISUk/SanKeUr3i3zL1gyAzWsN805LzvxO/07SztnOtY5ezklOdE4VjiKN2k2rTQvMmovzywdKjkneiTGIZ0e0RpiFmURQww5B+wBWvwF9+fxduyt5tPg29rZ1DnPScpYxqrDtcGXv129nrtxutG5Gbpduz69cr+zwbjDr8XVx9XJlsvZzTDRStXB2XDeFeON5wTsgfAG9eD57v59A2oHSQtEDwoTihbeGf8c/h/XIj0lNScyKUErJC0mL5wxHDT/NR83jzeDN1s3MDfTNnA2TDYONk81SDQiM4kxYy/yLGgq7CeiJUUjdSBOHdkZtRXlEAUMUAeSAtD9HflR9GvvbeoP5UjflNkx1B7Pzsqxx2fFWcNkwYa/1b26vHa87Lwpvj/Aq8LyxC/Ha8lVywPNAM+Z0eXU6NhH3aHhCeaN6uHuFvOU90f8uwDpBPYIzQxmEMoT4xbFGbMceh+xIYojcCVQJwYpzirSLOYu0TBPMiEzdTOcM4MzMTMlM44z2jOKM6EyQDGCL5UtgCtPKUgnciVYI9AgJx5FG7AXbBP7DrkKxAb4Au7+ePrZ9Qrxwes35uzg19vG1g3SHs4Py8DIzsbKxN3CicHHwF/Ap8DhwajDlsWfx6PJess0zc7OZ9Cn0vjV2tnR3f7hV+aD6oTui/KV9sD6H/9QAyEH7QqzDvgRwhR9FyIahRy+HsMghyJYJEgm/SeKKVsrMy2OLm8v9S8MMPQv/i8RMCIwTjA1MF8vES65LDwrgym8J+Ml6iMDIhIgsh3vGvoXlRSrELIM7wg/BZYB4P3Y+Yj1JvGI7JjnveI+3vfZ+dWZ0ufPwc0AzE7KgcjwxvjFjcW7xbnGV8gXyr3LUM3gzo7QZdJH1FfW/NhF3N3fneOQ54zrUe/o8oX2XPqA/rYCoAY5Cr0NHREUFKcWDhlCGykd2h6FIEUiGCTCJQknHShNKXAqMCujKwosZSypLN0s9izlLKcsDSz8Ks0pxyihJyQmmiQtI6sh6x/RHUgbfxisFaISUQ8UDPwIogX9AVb+o/rE9tLy0+7L6v/mauOw3/vb2dhC1tzTrtHFz/vNdsx/ywjLHMvhy/7MBM41z8XQSNKI09HUUNYk2Jnal9214PHjVeeG6oTt0/CB9Dn4B/z9/9UDcgfUCrsNKhCREvoUExcAGQQb7ByVHjMguSH9Ih4kHyXbJY0maiciKIAoyCgVKTcpNikpKecobijWJ/4m4yXSJNIjnSI7IdEfOB5JHB4ayhdQFdESQRByDX4KkweNBEEB1P1c+tL2SfPi75zsdull5kLjDeAS3YDaQNhC1o7UF9PO0brQ9M+Xz7bPQdAK0QLSKdNo1JLVpdbZ12fZa9vk3cPg4OML5yfqLO008HDz7PaA+g3+ngEiBV0INAuwDdoP2xHiE+oV4RfaGcEbWh2wHvYfICEYIvYivSNaJOgkZSWZJZElkyWJJTslyCRGJJkj3yI9Io0hvSDyHwcfwB1UHOMaJBkKF9sUphJpEEUODAxpCYkGrQOzAKf93fpJ+Kf1B/Ny8LPt2OoM6C3lWeIF4C7edNzU2mfZ/Neb1ofVwdRN1GrU9NR51fXVhtb11kzX/dcs2b/axtwj34vhEeTX5pXpN+we72fy3vV7+SD9bQBRA/0FbAiwChENfA+eEZATiBVnFxMZohoAHCAdOh5PHyIgwSBXIcIh9SEkIksiOSL4IZohFiGNICcgwB9BH80eYB6/HdocwBtzGgkZoxcuFosUwRLNEKIOWAwPCroHSQXLAlYA+v21+2/5DPeU9CPywu9y7Srr5+iz5pvkrOL44HzfGt7D3Irbf9qo2RHZrNhk2EPYV9iB2LzYJ9nJ2Z/ay9tV3RbfDOFA45Dl8OeA6jLt4++x8q31o/h/+03+6wBKA6YFCAhCCmUMiw6HEFgSMBTyFWgXuBj2Gfga2RvCHH4d7R1HHooekR6NHp0ehx5LHige/x2nHU0d7xxOHIsb1Rr/GQEZGxguF/0VrhRZE8MR/g9EDnIMdwqRCLkGtgSuAsUAuv6I/HP6cfhl9n/0wvLy8CHvde296+7pSejH5jflu+Nr4h7h39/c3vvdNN273I3cc9yB3NTcPt2v3U/eIt8l4HzhIePf5LPmr+i36sLs9+5X8cbzRPbS+Fv72/1IAIACeQRdBkIIGwrgC5INKA+bEOwRGBMkFBoV+RXCFoMXQhj2GIoZ7BkjGkwaaBpkGksaNhokGg0a5xmcGSYZkBjXF/0WJhZaFXAUYxNXEkoRJRDuDpcNDQx7CgUJgwffBUAEqQIIAXP/8f1p/OD6YPnS90b27vSl8zHyvvBw7xXuouw869DpVugI5/Ll6eT54z3jkuL84avhkOGJ4aPh2+Ef4pziauNC5BblNOab5w3pnupi7Cru7O/R8c7zyPXU9+P5zfum/YH/PgHiApAENwbDB1oJ8ApLDH8NvA7hD9AQuBGjEmcTCBShFCYViRXSFfMV9hUFFiAWJBYVFv8VzhWJFVEVFhWzFEAU1hNaE7kSBxJEEWIQYg9WDkMNKwwKC90JpwhkBwQGlAQ1A/IBswBy/zb+/fy5+3H6MPny97P2gfVp9FrzQPIq8SnwLu8i7hLtGOw262Pqnenp6EPoqucw5+fmyea+5svmBudo59vnaegr6RrqIutB7H7tyu4h8JLxIvO49Eb24Pea+WD7Ef2r/j0AxgE5A6EEBwZfB54Izwn4CgIM4QyqDXcOOA/YD2QQ8BB1EeIRNxJ1EpQSmBKeEqwSqxKLEl8SNhIAEq4RShHjEG4Q4A9CD5wO5w0jDV0MjguaCn4JWQhCBywGBwXZA6oCdQE9AA3/5/3G/Kr7n/qj+ab4p/e69uT1EPUv9E3zefK58Qzxb/Db70Xvr+4o7rLtRe3h7JjscOxa7EvsTuxt7KTs8OxR7cTtR+7j7p/ve/Bs8W3yhvO99AL2RPeL+N/5OvuV/PH9Rv+QANMBEgNIBGwFeQZzB2AIOQn1CaEKSQvmC28M5AxHDZgN2w0ZDk4OcQ59DngOaw5ZDjkODQ7fDacNWw35DIkMEAyQCwkLcQq+Cf8IOghrB5wGywXuBBAENQNQAmcBjwDD//z+R/6R/cr8C/xa+6T6+/ls+en4c/gV+Ln3VfcC97j2YPYb9uf1pPV29XX1cfVg9V/1bfV99ZD1qfXG9fz1TfaP9tD2LPeJ9933Pfit+Cn5o/kh+qD6KvvU+2v82vxg/e/9cP79/oT/DwCtADkBuwFBAsMCOwOZAwMEcwS5BAcFYAWZBdsFEwYvBl0GiQaZBqIGowamBqUGhwZbBj4GFAa6BXgFVAX1BJcEXATnA28DGwOrAjYCuwE7AdIAWADo/4T/Bf+v/l7+0f17/UT9wvxT/Cj85ft/+z77EfvP+qH6h/p7+n/6XvpI+mT6a/qF+qz6rPrd+h37OvuH+9T7Gvxv/Iv8vfwZ/VT9sv0n/pL+Bv8//4H/EgBiAGUAkwDqADEBUQFpAaAB/gFRAl8CaQKoAsgCmwJxAp8C1wLMAs4C1QLGAtMCvwKQApAClAKUApACfwJfAh4CKQIrAqsBrAHQATsB8QDiAI4AWAAIAOD/2f9W//b+3f6h/kL+sf2O/YT94/zJ/PP8bfz7+8b7t/uc+y37M/tU+xD7Ifsw+xf7KPsR+xr7TPtr+2D7F/tJ+4H7Ofud+0H8hfy3/MT8Vf2n/VD92/05/ib+yv46/xAAvQA/AA8BOwKiAlkEYwYlCUMOPxMvFJ8PMgsiCl0IgQhpCq4IawihCCIERQTGCTkLCwyMEa8WpxTEDykQDREDD50NcQqzB9EInQhaBhEDLP7o+oT6x/vj+gD4z/l++kX1UvQ/9SDxTe7D7lLwy/G18fbyrfRF9BjzT/A97wvyW/PM9DL3x/TL8TD02vY99bXzNvaC+AX5nPr7+jv7kv3M/AT7fP2D/6P/9gBzAgEDSwLiAe8D2wSdAwUFugZ6BAYEYwglCm8HFgeACbsJTwkJCzwM5AxtDkEN3gpXDZARpRFgD9UO1g/RD9oP7RCJEGsQuxEIEaEPoA8xEDcQiA2RDHQQrRBkDHoKDArUCOME/v6j/ZD/MP7I+db1bfMw8GHsHOrR5kLjmOBB2zbXsNjN28vdgdwC2oXaY9pM2RDaHttN323lAOea5wTrkO4U8dLx3/Lz97b+wgJkBPMGEQo7C70LBQwcDR4SeRbJFTYUABRaFIATMxCwDmoQZxGiEJcORg3FDWILcAb9BDcGFQcQCN8H+QWHBZoGGwZoBSQH4AkxDJ8NXw6GEBATnhMaFPIVdxhlG58d/B5GIKAgnR9CHrEd6R18HXgbORdeEf4MgAmQAz397vgx9NftbOag3V3VKc83yN2/krnItuO4sL9zwz/B878nwDi/PcHUxzjRI9yc48PlQOhm7u/1h/tb/4IFrg6dFg8bwh0SIXUkLSWMIx8kaSm0Ljcu3ikdJrIiOB5OGfoVrxX5FZkSxAtyBtQEawKt/Az4kffs+GT5dfgz97T29PbJ9o72O/ooAkYI1wpQDUgQZBMcF+EaPx/CJLspriziLekuOzBKL9IroikyKcEnXSTOHZcUlAxcBfb82vWZ72/n2d3J0WHEZrq7sZuovKOSooekR6wWsn6wzq+Usa+yQ7mAxWjRB96j6D/tiPLd+kgCQwstFZ8cqiVyL9MzjDVKN4k2ijV3NpM3YTkOOso0SCtKIrAa/hTbEUUPgQu+BnMAwfj68jPwx+we6Qfpdeo76yLtpe146+TrLu+v8h35AgLICZMQzxRFFlUawiAGJmYsLzP4NvQ5AzyUOhs5LzmQN5E0SzHnLJ8nWyCNFjINWgW5/fv1A+004qbWkMpkvtGyIai6nzCYFJFqk0Kh+asBrmqvWbDIsFG4I8XF0dnhs/Jk+3X/sQY8EPQZuiIsKY0wiDoeQaNBq0C+PxE9zjmmN6U2VjZBM6Ep8BwBE7ALwAW7AeT9r/lt9pPxTOp45UHkAOTh5G7m3OcZ6/XuivAC8oP1Efqq/y8GgQ1VFtkdbyG5JFwq2S/RMxE3CjrrPJ0+mT18Ojk3WjQAMEsp4SLkHdEXkA//BYP8pvQ17LDgeNVLzEjCu7dtrcOiIZoHk1CNv5LBpJKz5LgYu6O6Fbqkwe3PbeBA9CYG4A1GD4sTbBylJUMskTIrO+5Cs0WSQ/E+JjoGNYYuMirZKkArsSV8GsMM8AB3+Tz0APEg8cTwhuz65pLiYOCC4cHjY+VA6dXvHfUn97r3n/ny/YMDRArpEr0bKSMjKPgo5ighLfcyrjZsOko9XDwNOoM3XDPWL/osdyckIUQc3hXyDE4DQfnq71LoxuAs2O7OIMW8ukmvpKOSmmyUdZKFmt2qYLd8u968fb4BwizLdtkz6gr9SA0OFPwUdhnIIYAoqi0pNJA7okF4Q9U+rTY6ML0ruCcNJrcmnCSLG+gMM/5h9PzvnO5r7kru7ewB6bHint2L3T/hl+UE6t/uIfQn+SH8h/2PAJ0F7gqiEDQXvh5bJiUqpykgK4MwbTWVODM6KjmHNzs2czLLLUIrwCe+IU8cGhfOD3UG8/v58lLtl+eW317Wr8qvvbuzV6teolSba5XwkoOdwbBqvIG/QsHiwQrG5dIp4+f1RAyJGRUYqhZfHeAmLzDZNtU5Ej42QjE/LjcrMJ8qwyUNIV0dthw+GoAPHQB08jbp6eYI6ejpTOon6gTlq93O2irde+Nx6zrx3/WF+6//sAHzA4EHYg27FJ0aWyCSJyQsKSyeK7Yt7TIkOdw7vDn1Nbcydy/fK8ooCSbCIaEbxxTIDHwDFPpF8UHq5eQ+3s7V9cslvzOzfaxgpnWeipfOkQGVoqh5vWLFUMjyyYPJedHk4ajyewhqHcIgDhwKICooYjAUOOg4Kzj7PB0+ADhzMeApcSFEG2oVaRIjE0QNNP+B8Q/m7d8K4lTk3eMl5QfkNt/83YzgtuSL66jxtPaf/iAGSAp+DWcPCRLGGE4fRiRWK1Mwyy9CLuctEDDfNSs59zYwNBkxQixgKA8lCCGSHQsZlhKVDAoG3fw08pHonOJe38La5NMjymO9/7IOrJakoJ5ImiKXPqCMtfzEH8zZ0QbSx9Jv3lztPf7uFQYl8yM2InIkKCgqMT84HzgiOkw8mzbuLtwn7B67GGEUkA7hC1cJDABO9OboHt7m2mneBeGj4xnmR+Rx4R3hTuMv6rfzbvtcAj0IgwuqDgQSjRXmG1AiKCZ1KgIuLy/yMOowHy5PL+EydDLwMDQvlylzI/cfTR06G0MYshLqDIMGMf1W81brqOU34hLefdfkzrDDAbk2scConqGsnjWbrp0AsOvEuM8R1tnXOdbo3SLtiPzYEa0lVynrJTwmUCiZLxA5oDk5NxE50jYKL0Unoh4rF7ESLA2bCKQGhQBb9SvpHN041w7bVuBq4nDkluVE5CHj5eSR6uDy4PtmBAIK2g0wFBkZ/hh0G58iFijmLO4xMTIQMHQvli0ULAQuji/wLg8tJygZIh0eZxrJFvMUkhLIDTYHgf5O9JHriebx48zfHdkc0UbGW7oyssyrBaU4oKWbg5tXq5DDcNJw2JPZaNWY1+DmufmjDnMldS/tKY4k/yV2K7YyLDchONo4rzZfL0gmlR3RFhcSCwzkBnkGsQP395HoGdwA1qPYCeBA5TPnVeft5Nvgh+CG6Bn16P6WBdoL/RBqFV0Z4xmcGfcehSdWLYEwaTESL3Qrcih6JwkrdzBJMR0teicnIYUb1xjPF9cW0xXJEagIIf589cXuP+ow5gPgW9lb0qvHzbvZsvypzaDfm3ebAKGbsajHmNUL2IzV49RP2+jqmwDZFTEkuCnVKNklACf9LbIzsTTXNU43iDSlLZkkFBvcE2MO9wiKBWIDu/1E81HmItsa1wLaN96C4dzk3+ac5TDjCeX17Nn2SQCJCTQQKhS2GGMblBkwGigi7ivbMXMzKDE+LB8oCSiHK94u6S+FLgYq4SN8H9wcxBnjFdwSuhEGD58GBPyJ8xvrX+No3/bb6tVUzbLA/LJSqc2hJpxPm9+dRqj8vrrS6Nbu1WvXgdrk5ff51gyUHKYo1St7KSspNi3eNMQ50jd7Nkg32TFqJ3MdqRPlDOIJOwWkAOD9hvVk537bYNRl0zzZB+C14xDlYeRx41fkA+nU9D8C4gf5C/AUQhk9GJgcWSPdJg8sBjFLMAgv2S8iLg4rQSp0K6Atdy1uKBYjuSCRHZ4Y1hVZFdQSGAz8Apr5gvBg6dzl8OK925fQJ8U1upCv7Ke/oomat5OQnPCzmsjw00/Zgdc/03fZyOvUAbcXVikiL9Qp0iTzKBkz1jrXPcs9+jnXMqwqZiGpF7APkgmnBcQDRwCt+Rnw2uGG1MbRB9fn3A3jVuds5unjUuNz5vbvtPs2BPwLwBLLFdoZUh8vIUAkXyt5LqUtxi7MLows3SupK5AskzB+MdMrLiUhIPwbbBk1F74UKRKmDDkEz/uN8wbtB+nE4vTZ/tGVxzC6Za+mph2eG5hvldabprDxxiPRJNS01IjTcNlw6c78qRKkJzIw6iueJmgorjFbOyM+GT3jO1M2aSwaI4gaWhJdDFsHewIx/2375/Kf5UDZVNRN1xDd9OEI5RnmfOUA5H7lfe4I+w0EDQvSETEVORjfHisjUSP2JhAtYS7fLSkw+jCCLnstoi5FL14vny1lJ60fFBttGGAVPRKIDpYJUgOj+vPw9enx5KHefNWAyMi6LLImrAuj1Jnyk4aSQZ2etd7L7dQM1qrUI9Tt3OTxawr6HgAt1DAiKwEnaC34ON0/00ABP8Y6wjMTK0IiVBo3EzoMbwUJAMP8VviD7QHfbtZ11hLamN4w4yHmJucS5jTkwOeS80QBqQr+D7ETRBegGk8dQyAGJBooMCwGL2UwszG8MFQsjSo9LVcuKi24K+4mfh9vGewTIxAnEI4N6gRD/Mb00+uf4+Xbh9IGynvBObXyqPifHZcxj9eOU5tys4bKutJfz6nMa8+C2lzwgwrrH2os2y14KCMosDEhPWRCZkIhQnZBqzu+MNolAR1mFL8L1QW6BJUDefqC6tfbJdQ81r3eF+QW5UrnzOdZ5ILkxuse97AD3QuMDq0SlxdmGTUdCCMgJVkntisRLVQuwTHwMMMsuir3KlYueTF1LZsmCyHyGLoTWRQREB0I8AOf++3uJOh+4oPZLNLpx9e5NbDvppCbaJU8kZmS5qZ3v/XIzc3V0BrLJc6445/7RREAJbErNChPJ88rNTaXQAtCZkKKRTc/wTIFK/Ahaxd1E88PyghFBDH+Y/LZ5UzbCtcI3JTh+OM46CPqNOZ44+PlXe4+/EQHyQwoEh0VTBUPGoUgZCMcKIgtuywSKxwuIjAJLtsrbizQLtYvDS44Kg0kER1DGGQU6g+KCxEFhfsJ8mfpreFj25rSXcYhvD2zCqgEnmeWu4+MkgilT7uFyK/NHs5uy3HOYd6O9C0JtRw9Kl8q/yVsKu8zqDkIPVtBAURNQZs5ri+KJD4atxSDEXAMSgnzBsL7auoN33DbHdzg36fjX+ZV6HPmbOIu44Pq4PXzABMIXw4gFTQXWhdGG4ofJSRKK0gudC0TMPIw7CxcLHsuOy5hLmQtoinBJ9Mjqhn3EUsPOwvYBb7+w/Ms6v3jnNuJz9bCILm+sliqjJ9MlkyOSJCEpfe8HcdXzWLPZ8iGywfg9/TNCc0gayn+I1wjiSqNM8g7IEADQ2hF60B/OAcyjiiBHX4X/BGXDNcMIAp3/GXskuHg3DDeYuFF5FvoNOkj5DzgleI76of0Bv1yAzsLrhHbE3QVMhjDG7khWCe+KewstzHwMrgwTS9qLzkwlTBnLmgq5CbpIX0ZORIAD7wKewON/MjzqeiU4bTagMtJvAW1zq31pCOeWZM+iiyU0KqfuxPGgMv7xwDGWNG25Bf6sxDWIAgk8CCAIsYr7TYDPgBCWESTQsc9FTlYMp8o/h99GRcUZRGuD2cJH/0e7vHh/N3W4JXktedh6WLmbeGX4EzkUesE9aP9ZQMdCK0LFw9RFGoY4Ro4IH4mCCoDLuox1DEUMa0x1DBiMVA0AjOFLU0oHiHSGGwUcxA/Ce8Cj/yy8cnm+96f1ObGB7vEsP6mop+Ol1qO5I+XoAizT751xD3F38PXyRbYCuqT/zAUQB87Ib8h1iaTMJ04jjwCQfpEBUR5PwY4UC4jJ6EhMRu7GI0YMRIpB3z62+t148vkSOYm5k3o+efn4y7hMeHx5Y7uBvRU+L0AeAfDCsAPOxOJFBQaoSDQI9AoIC8nMTkwzi7jLpczjTgcN5QxDiysJhkhjxoaFNoPAQu5Auz4R+614ljXrcoIvbmyZavfolGYko/nkAWf7q5SuKS+csJKwszEbs9G4e33Lwz9FbsX/xlZIZkrFTP3N9Y+X0SpQrA8aDezM5IwtyrNIo0fCiDIG04RtwQU+arx0O6q7Q7u+O/o7xLrTOOD32XkSOwh8VD2r/3xAlMFKQduCWQN/hLIGLseQySgKCosQS1LLFUuSDP5NQE2vjRkMXAsqiXHHGAVzRDfC6IF3v3q8svlY9iRyxzBubgCsBamv5pMkqGVb6MVsMe2NLkTuKC3Q71oyWbbofBWAW8IKgllC9YUwyI5Lro1/DoMPhY/2D3BOlY4IDWLLkApgyj6J3QkaxxCDzMDGP2U+cv3O/ko+tT3OvKI6bjjyOWa6p3ulPNK91j59/yv/0AAdgO/CDQNkxOKG/4g6iPvJLQkBic0LOYwrTRvNmwz6CwfJQQdaBd8FPAPaQgcALf3Te514sXURcnqwGe35qtko6+ipapotXm5aLX0sAaxL7XdvTzLfto86DnxT/QB96L/AwsAE3gZ5yEmKjYwQjRLNVQ05jOuMuMvnC/AMrYzmi4fJV4bTRTXD8MMSgvyCjQJOgSa/DP1KPEX8L3vlvBv80j2wvcL+KD2pvRP9fb46f2GBHAMEhKZE7UTchXvGM4cTiDSIlwjNyKgIJYdwBeREXQNwAlBBTUB1fwW9oPtveSK3CPVgc4qyp3KYs4K0TLR9M/izTzMVcz9zeDRF9kN4YbloubK6Inu0fSh9x/5Wf4MBu4KEw0sELcT8hRXFMETLBTZFrAaKBuCF/EURRU+FIIQuw0+DWAMsgn3BuIFKwVeAif+BfwE/VL++P1K/Yr98/0X/mf+k/7t/jUBCAWqBxEJYAvSDXUO4w7SEKERsA8FDzYS/BSQE4IQ9A5iDiYOVw5uDUUKfAaLA6UAX/37+gr6U/ma9x31LvOY8o7y7fHQ8K3vk+4o7tDu3e487Z3sMO/i8VHxuu9A8DbxdfDU7wHxtvJb9H72+vfu90n4A/oQ+/36L/ym/nb/Q/7X/UD/1ABHAdgAcwDaAPEBDwP6A4EEQgQpBNcFawgrCfkHRQfOB2oI8wjvCRQLNQxxDRkOMw5NDxwR9BDhDjQOiw8fEEAPpA5qDhEOrg72DwcPSQsnCPEHDAnvCBkHJwUVBYMGgwbjA0wB+wB7AYoAQf5E/Bv80f0H/4r95PoI+oD6Dvr1+HT4zPdQ9j/1VfWP9TP1WPT/8p3xGvFr8RXySPOB9GP0cPOn8+r0mfXL9R72svXK9K71XPgC+g/6k/rB+zn8h/zx/df/awERA3EElQRiBJ8F+geUCbwJfgkgCowLOQxqC40K3AppC3kL6QuZDEUMywsfDQkPlw7qC5IJ2Ah/CdcKjgvwCucJyAioBnMEWARLBYEE4AICA6UDXQLbAHEBAALr/0T9V/06/8D/WP4d/Rf93PxT+/P5Yvph+9n6YfnC+NL4jvgp+Ab4+fcr+Hb46vcI94n3vPhm+Kj3Jfk8+8T6mfll+6z+jf9d/hP+aP8yAXQCewLAAU0ClwToBakEcAPHBKkGhgVMAtoBywVMCc4H0wO1AlEElAQZAxAD1QQuBYwCdP9v/5kCcgQSAZb7w/rz/rABGgAk/rP+8v8pAMr/yv47/R79h//gAWIBCf/s/T//bQE8AicBqf9N/04AFgKuA+oD4gJ9ApsDPgS1AuQA2gE6BfwGRgTM/0D/XQMeBuYDfAHSA4MHAwfiAxwD5QQ8Bn8GsAaVBsQF1ATuA34CtgCq/83/fADGABwAZ/7L+wb5qvdh+DD5yfcU9WDzW/KK8CbvLvAI8lnxQO5B7JPtufCZ8g/yCvG38XzzbvS+9Df2C/lq++n7/fqe+m78ev8XAd8AXAGiA7cFhQZ1B+oIGQmVB6gGIQgcC3cNBA4zDUIMyQtmCwoLmAuyDUsQDhGgDtsKhwm5CxsOpQ2sC/EKUgsVC/4J6QhMCGMIzwgJCJQFDgT5BRYJfgi3A/v/yQCOAhwABPv4+Ar6evjL8oXukO5I7nPp0OIG337ed9+O4R3k3OQK4yDhPeFM4uLiXuRM6KLsGO5d7ULu/vHc9bT3d/gd+oj9bwJZBy8KmAqsChEMCA5sD7QQcBKfEyATzxFyERAS4xFIEBkPAhDdEW8SnxHuEJcQdA95DVoMVg16D34QYg+6DYkNNg6HDasLiQvtDagPhQ4lDdoOEBKtEooQJA9gD4kO3AsQCtkJ3wd3Atn81Pl79wnzku1T6TLlhd6z1UDOSsvNzYTUUNvf3MPXvtCmzW/PndMm2RjgAea055/m2OcL7UryafSx9ef5rQDmBm8LMw+xEVQRTQ+xD2IUIxqEHEMbzhkwGqQa4BjoFeIUjRYXGNYWnxMgETsQew+2DZcLagqQCn8LcgzNDGQMlwvUCisK9wlEC4AOCxKiEzYT8hIsFNwVkhZsFg0WCxXGEu0Pog2MCzQILAOT/UD4r/IQ7GDk3tt90hzJ0cIgw9LJddGN05DO5sbqwXHBn8TtyvTTDt0w4mfieuHQ48LpVPCU9XT6ngAACAAPFhSxFkwXSRdXGGsbFSDaJP8nLygbJTIgZBwCHFgeGCDRHm8bZxgiFt4SEg7WCTIIqAimCcQK0AskC3MHsAK2AN0C9wbDChAOABGREkgSsBG7Eo0VxhgWG84b7xpFGYsXHRXPEFsLAQcDBJv/3PeD7gzmvN010yjHG75evFfC6MtI0g7Q58X/urq2Trr2wcTKMtTC3E/hQuGZ4LLju+rJ8hL6UQGiCX0S0BmmHe0d3hxOHZIgJSaRLKAxnjJ5LrEneiK3ICAhDCLlIpwiTR/FGKsR0AyICokJAgnFCIwIKgikB2UGqAM8AJf+SACgBCgKvA+8E5AUOxM5EzAW0BmWGzccKx01HX4aTRY3E6oQxQsTBAT81/RZ7c/kuNuK0YvF/7ptuOe/jcqvzlfJqr9LuBm2ybiPv3HJBtTU2wffp98H4k/ocfB99539/QTMDccVmhvqH9UieiPnIqckZyodMUo0oTLwLXsoMyTOIiokfSUZJCsgWhsYFnsQOwwBC1oLKwr+BnAEFQR0BJgDkQHC/2//oQGhBtIMcxFPE64TSxTEFTkYtxsDH74f9xyfGFkVohMNEkMPlgqCAw76ne/55SrdPtMDx/e6obSzt0bB6si+x5S+VrRErxSxp7gixFPQ7dgM3J3cS9+U5XbtQPVy/b8GFRCyFx4dJiFVJEcm3yaoJygr4jFXOHA5qDPhKlok5CHoIbQihSP9IiQf8BclEM8KjAj7B7UHJwc9BjMFPQT5ArcA9/3q/IL/RwW6C54QXhN/FNsUhBV8F9QaRB4jILIfXx3kGa8VHhHHDNAIFATZ/ObySOjq3sHV5slsu+avEK59tqjBSMZJwTa37q5xrGWwCrpUxxDUz9sP3ibfs+PM6x/0C/uMAq8MEhhAIXwmqyhAKQcpRSkGLPAxUzjhOpU3YzAVKTIkDyLeIW4iNCKyH6MaZhTQDssKPgjVBlEGQgYoBskFBAVmA8cAb/7K/iMD+wk5EPUTbRW/Fa4V7hV3F4canB1tHh8c6xd8E1wPQQv1BiMCyfv48mToCN6W1FfK8L3isbSrm65yt9G+Ur9VuWSxQ6zTrAG0vsB4zzDb++Ci4ufk++oX9HT9uwXKDYUWPB9zJkQrpy0fLqYtti2lL2gzDTf2N5U0oS3zJbQgKB/0H3Mgth6YGhYVQw8zCv0G+gVIBl0GeQVrBEkEoAQLBF0CaQF2A88IUA+ZFNoXURmAGVEZ+hlAHFcf0yD6HqYa3hWuEdUNggklBHP9xvQG6sjeadTeyVy90a8Ppn+l+q1NuIS8Y7jOrwipW6h+rkq6Yclt13vga+Sf5inrfvM6/acFNQ2WFfMewCeeLWMvmS58LWQtcy+PM2s3Yjj1NJwtnyV6IJUeYB4yHoscOBkHFRYQ+QpTB44F+QQwBZEF0AV6Bu4GDwbIBLsEpAbeCnUQjRWpGYscQx2rHN0cfB7bIDsigyBxHJMYGBXMEHoLKAUY/kj2TexQ4FzVOMwUwjy16KcBoMOibK2xtqW4R7QervWquqwJs4K+Q84K3Wjm9uo67vXzzvyHBb0MsxQCHsMmXS3BMHAxWDGrMHQvQTDlM1E3UTdpMt0pGyLAHWobKxrsGTwZMReIE8UNuQcYBLECuwJnBIAG7QflCKMILwfKBk8ILQuwD/UUdBmWHQchUSI9Ih8i7CEAIrIhEx8IG6YXPRS8D/kJWwKF+VDwaeUz2bfO+cUnvCmw8KMRncSgz6sYtZ+3RLQTrymtnrDVuPDFwtWy4oDqxO+R9aj9pwYeDb4RTxjmIC8p6i/hM980rzP2L2MrsCqcLqUy2DLLLWAlLB7CGVgWPRQ6FIQUhBN+EEgLnAbgBI4EjwTbBRUIgAqaDIMMfgrWCZoL4g6cE54YtByRIHAj1iNnI9AjZiShJEMj9R74GbQWpBMKD4AIo//m9cfsveJ71yLNWcNiuFqsyaAjmnedi6hEswe4xrXyr0OtJ7GCum7Iw9jg5o/wgfZw+vj/pggwEZEXXR2UI5MqqDFyNZ80tjH8LRcqcyicKeQrdy33KsgiShkHE0UQChBlEEQPsw18DNUJcAbTBNYEzQVzB48IEgq2DRYRyBFDERIRTRIiFtMaaB7YIYYkbCTMIoUh3iBtIakhlR5KGU0UWg+KCt4FLv8e9v/rp+CS1SzNeMVNu5au16C2loKWBaD2rEy3SbqptRSwyq92tgHEFNUe5IDvAvjp/Z0D4wqTEcsW5xvsIL0mHi7WM0k1UzNJLr8n0iOrI8ol0Cj6KGkjEBuLE/0Ntwu8CwcLsQlsCDUGoQR0BbcGOgdyBxIHAQhLDAERRhP0E7UT7hMVF/cbcSDnJPEnuCdDJkAliCTvJBglEiL3HLMXwBEbDIEH7QEZ+5nz4unh3ljVgcztwk64D6vwnFiUtZQrnXyqeLXhuEm3N7W+tSq8P8hf1tHkr/Gc+toBOArmEREXthmgGvYdZyZaL+gz2zPqLyEqciXRIZ8f9iBAI9Mh0Bx8FhAR4Q4aDmELaQhOB58GEQYjBkEGcQd1CUAJzwcfCSkNARIPFvsW2BV+FtIYYxsHH8giECWzJlEnYyYZJkYmZiQEIdIc9RbsEM0LFQYhAIf6XvPz6t3i89kZ0IbGzLtur4CjHJkzk2aWU6HMrVK3IrsqugW62r09xdHQZN8q7QP5DAPICtsRXRgNG6oatBvSH5cmCC7kMR8xLC5MKTIjGR+eHXAd5R1gHHsXdBLkDmcLkgjgBlUFrAThBJAEMwXGB8AJhApUC9QLHg1/EIkT5RRWFvsX6xmTHcQhwyTPJt8m7CRWJKMlICYzJVwizBzXFt4RIAzpBWoAtPrU9Onuhue93wTZ7dCFxg28mLEBp1me05homLafuqs/tua8+7+IwSbFLMt00mjdaeze+h8GVg6QEzwX2BnRGS0Z7RujIdAnSiyULKEpciYyIlkcORjMFiYWhhXME4IQ1w0eDN8JHQg+BwcGlQWiBuIHSgo5DnUQURBsEJER5BM6F3AZbxo3HDke/h/NInQlsSbdJ3QobCf3Jmon9CXxIVccSBa/EecNAghrAWX8pvct8ofraeLF2IrRAssaw7u67bFWqBmfAJhVl+OgV7BRvULEk8V0xKzGas6B2ermMPXzAFsJug8HFTIanh04HJEYYhjHHMgjgCp9LIko8SHdGpMUbBGSEQsToROyEBsLCQimCA8JkgcVBTkDsQQ0CewM8Q4REUATohTRFGoUWRYwG28ebh7gHlkhJSTTJYwlqSTcJSEooCiqJ38m4STZIckbsRNUDnwMZgmDA4H9XPgA8xPsZ+N828bVo89jx4O+8LWwrael/Z22mjGhCK/vu7TDrMdOytfMcc9W1J3fKfAx/5YIgg0wETsW+hoVG40XRBZxGTweXiHUIegg+R4bGh4TXg6KDZ8OYA/3DasKlAihCD0IXgavBKwEUwYsCMoJXQ1AE/wXlBlVGecY/RkjHdUfKyDIH44gRCLFI3QkYCVjJ1wogCa8IxMiNSGGIM4emBoFFUQQCgzNBk0A5flB9avxiuyq5d3eQNhR0WTKLMOYu8O0RK7Uppegj6Byqdy3M8QqynXMAM+X0ojX397+6Gn1ugE6CogOPhIaF3caWhk1FW8TrBY7Gx8dvxwTG10X9BHdDDMKuwpVDLULyQh8BpIGrgcpByIFIAVUCGMLkgwsDmMRkxRkFlUX/BgyHL4fCiLqIuoi7CKlI2EkuiTfJYQneCfJJZAkLyR3I+Uh2h9wHcoZpxTCD+4LKwdtAJH5PvSU8MTt2ulo43bbstODzO/Fe8BJvJK30K/6plykPqxduh/HFs5KzyvO/c4Q1GvdeOl79eX+swRTCN4M7hKrFkEVNhGbDt0OghFUFTwY7hdoE00MNAb0A+UFwQmQC28JPQaOBdUGyAdUCKMJggvFDHQNUQ+YE0EZ7h2oH3keRx32Ho0i+yS0JS4mhibXJcIk8iREJpQm5CSpImkhRCGZIR8hYx6YGYEUJxA6DGAIUwRJ/y/59vNY8ZnvU+s85PzcrtZM0PjJKsVrweG7G7MnqvumY60Lu6rITtBk0jvT/tRl1/XbeOXD8nf+OgX0CLsMaBCKEQcPjwpWB6oHAAvHDiYRlRE7D7gJ2wMgAkwFPgkoCo0IHAc0B6EInQoSDIEM8wyoDnIRrhSRGMQcVx8fH+odbx4WISgkCiYPJqkkfCPqIzQlqiVNJTMlESXkI2Qi+SHWIdsfBxxmGOcVkxOEEKMM9gewAnv9zPij9A3xx+2P6ZDjFd3K1wXTJM2JxmjA5LkOsg6sN61gtjnC38r4zu7QMtNE1s3Zst6/5m3x1PoQADwDyQdNDBcMnwYeAQ4A2AKkBvAJBAyoC1wI3QNAAUoCnwXJBx8H9AVlB8EKwgyhDKQMxg2UDt8O2xBaFeMZ+RscHIEcTR7YILQiNSNGI0Yk8SXdJgYnzCf2KHEouSUEIwQixCHRIEcf2h2FHNMaKRjYEysO2ggEBaMBgv1b+U/2fvM372jpWOPe3SPZM9Wx0avNP8j5wFS4ELGZr9C1IcAPybbOndKl1XzXa9ks3kLm2u4M9er41vwzAjQHTgisBPv/bf4bAFICFQRFBi4ImQedBDsCfQIzBD8FOQVGBYcGEQncC9cNCQ8IEKIQihABEbcTABhgGwUdgR7VIAIj8CPwI9gjKiQyJckmGyiXKI4oLyj0JvokcyPfIhoiLiC1HaIb1RmnF7cU6RCJDGsI3AT1ACv8sPel9OHxbe1/5x7iQ94I20zXyNK2zULITcLku6C22LWiu7LF985k1JfWVNeh15zYxduB4YjoWu929fz6qv9BAjwB0fwX+K32H/km/SIBHgVWCKUIlgX9AesAZwJUBIMFwQYmCUwMjg4OD+8OvA82ESkSDROiFbwZ8hw6Hn0fXiKBJacm5iUiJVElySXQJbklNyYZJzMn3CX8I7cigiH3HnkbJhmzGGYYwBZAFH4Rlg3uBwUC8/3n+1b6Dvgn9TvyZu8y7EPo3+OQ32PbKNce03TPdcu+xjTDvsOVyJ3OC9Pj1R7Yb9l52b/ZYdxW4XDmNOqM7e/xj/ac+Mb2YfPf8fvy6fTb9t359/3wAEoBngBgAXsD3wS2BH4E1AV/CB0LDQ3eDtsQKRIREqERvBKoFcAY3RqwHCMfryEpI18j+SJHIiAhmh9XHgkexx7UHycgXh8RHvAc7xufGgMZjhd4FpEVnBSAEy4ScBDfDVsKsAY4BEoDhgJ2AIz9avtu+ib5cvYL80TwMu7l6//oHeaf4/fgxt0m28Xapdy23jnft96t3hTfpN5J3arc393k3y7h3eEw40HlkuYL5ovkz+N75PTl0edz6vLta/H+8/v1QfjJ+qf8fP0l/pr/yAEDBB0GdgghC6gNug99ERMTVhQ7FTwW7RczGl0c+R0bH9Yf8R92H/Ye7B4nHycf9x5TH7AgfyK9I/wjgiOWInMhmyCRIBwhXSG5IIEfZh5lHbYbBhkOFqwT3BH+D5YNnQpRB/8D8ABV/gb8dPk29p/yOO/r60DoNuRP4Afdedpy2LjWG9VV0zDREM+6zVTNT81pzf/NQc+t0JDR4NFL0ljTwdQr1hPYFtu43tvhPuSv5vDp1e2n8Rr1hvj8+/H+TAHyA3cHKgsQDikQVhIdFf8XGBpqG8wclB5LIMohgSOEJSQnuSdVJ7gmlCb0JoUnOygNKYApTikGKVIp+ik0KoYpPyguJ8UmqSZGJmEl2iOrIU8fWh2RGxkZlRWYERkOhgtRCbsGwgPDAJf94fnr9Tvyzu4961znf+MY4Afdqtnz1bfSg9DhzkjN78s8ywbLpsrEyfvIRsm0yl7Mvc0Vz4vQt9FV0sLSvtO/1YvYsNs331Tjk+c961jukfFQ9Vf5Kv2eABEExwdhC3AOMREjFDcX7RkCHKkdVh9GIToj3SQ8Jn8niShJKewpiSroKtwqiypyKvYq1ytMLOsrICuIKkkqFCqLKYQoKyfHJXwkTiMdIpMgbR7dG1cZBhe3FCkSUw9mDIoJqQabA2gAL/3e+Vz2vvI67/zrA+kt5kfjJeCr3OnYLNXj0U7PZ80JzBLLWMqoyeTIM8jzx27IpMlXyzPN+c6O0PvRVNOy1CvW39cD2s/cPODz46rnUOv27rPymfab+qX+mwJOBowJZgwaD80RkxRyFzkagxwdHjEfLSCGIVgjRCXoJkoohSl6Kv4q8CpLKlcpnChiKIYouyieKPknEydXJrkl8yT1I88ioyG/IDQgoR+hHhgdFhvqGPgWKBUNE5IQ8Q0vC0wIfAXbAlgA4f1A+034S/V88pbvXuwz6Wbmz+Mw4VzeL9vO14DUaNHozpzNVM0XzWrMpssryyjLrMuVzOHNx88K0g7UxNV51/rYCtoX27fcHd9K4u/llek57QHxlfTE9xj72f6LAtsF1giCCwcOqBA9E4YVqBeXGQMbPhzUHX4fvSC/IdIi+iMyJT0mrSafJmom3SX0JHEkqiT/JAkl4SSAJNYj8CK/IYkgBSAZIMcf2R7wHREdxxsPGiQYOxadFBgTJBEFD0wNfwvoCOcFIQOIAPX9X/uk+PL1evO58FrtHuqB59/kwOFn3vjaj9ea1EDSe9Cfz3zPG88zzl/Ny8xjzKbM4824z97REdS71c3WxdeZ2CbZI9ot3PbeR+Ib5uXpL+1F8F3zdPbw+df9awF7BIQHdAr6DGkP7REwFEMWXBgnGo8b+xxQHlgfoiB1IiwkYiUuJkUmkSWzJAYkfCNjI8kjByTzI+8jtyPjIt4hDyFJILcflh+BHzIfxh7jHT8cihpEGfkXcRbwFEQTMxEKD9UMZgoTCPYFbQNxALL9Mft9+L71GvNW8JjtBus56BnlDuLf3ifbidfI1NDShNHn0HHQtM/gzvjN9MyQzFXNus5L0CfSDNSI1cLW2Ney2MTZg9ul3QjgGeOl5gnqVO3L8EP0yveG+wX//gHkBNEHdAoIDdgPhhLgFCIXIhmpGhcchx2kHp8f8SBvItYjIiXrJcQlHyWDJOEjYSNhI6AjwCPYI9AjYiPJIjIiQiEQIE0fFB/+HuMegx58Hf0bbBq5GPwWmxVgFMIS4BALDyANEwsFCcAGLwSlASL/Xvyd+Sr3vfQ38uXvuu1X66joneUZ4nfeJNsU2HLV0NMi08TSYtLu0TXRUdCgz1/P3s940b/T1NWM1y3Zmdqj23ncV92D3lbgy+KZ5dfolexF8IHzpPYK+pL99wD2A3EGwghNC/ANihBJEwUWLxipGcoazhvEHKsdch5MH6QgXSLHI4AkjSTjI5wiQSFgICsgeCDCIJQgGyDEH38fBh9uHugdcB39HIwcFRyoG0AbjRpqGSAY5haAFa4ThhFMD1ANtgtMCs0IKwdUBRIDYgCS/eH6Z/gl9gj0AvIg8ETuE+xV6Sfmv+JN3w3cQ9kx1wHWj9Vg1QzVdNSp09XSSNJf0lLTBNUM1/fYkdrk2+7cn90V3rXe4t/I4VHkTeeS6u3tKfFF9Hj35Ppd/oIBIgRqBqwIDAt7DfAPWhKQFGoW4RcUGRwa+xq0G30cqh08H8UgzCEVIpohgyAxHxwekx2SHcEd0B3CHbgdiR0DHVYc3xu7G8IbvhucG2UbBhtNGkoZahjJF/MWgRWjE8cRIhCTDuYMLguoCTcIZAYUBJ0BKP+U/Pj5sPcB9sH0VPMr8V3uaOtv6FTlNuJT37TcWNpr2BzXc9Yo1q7VzdT1057TzdNw1JbVI9e/2C3aWNtG3BXdvt043vTek+Ag4xrmLulO7HTvnfLF9dz47Pv7/sUBHgRaBtQIbgvhDSIQNxIrFAMWkRenGGkZFxrOGrcb/BxbHlQftx+ZHx0fgR4FHrMdjB2RHZkdhh2IHbQdtB1NHbgcRRwZHBkc/BuZGyUbzRpcGrMZ+xg6GDAXsRXME8cRARCQDhkNawvACUYIyQb+BL8CJQCZ/Wz7gfmp9/X1W/R78g3wLu056nrn0eTE4Tze8tqn2GXXydaG1mLWHdZv1UnUMdME0wfUqNVV1wvZ3dqM3LndTd6m3k/fh+A54m/kTOeZ6uPtEPFf9Pb3ovv6/rYB5wPGBX4HTwmfC3YOUxG0E5oVNRd2GCAZPRlaGRMacBv9HGYeoB96IIoguh+fHvgd6B3fHWsd1BylHNwcAx3jHKoceRwvHKwbHxvKGqYaYxrXGTUZxRh9GAYYDBeHFagTshHPDwUOQwx0CqYIDge6BVIEagISALn9k/tw+S/3CvUo8zDxuu7v61npC+dq5O/g99yY2avXE9cI1+zWp9Yl1iXVz9MM05/TJ9Wd1rLX/tjd2sjcEd6+3mrfj+A54jPkYubU6IzrYe5N8br0+fiE/TwBqQNjBRgH1giDCnQMAA/vEbwUHxcIGVsaDBtNG38bARwDHUseUR/MH/UfCSDSHyAfTx7WHYod5hztGzAbDRtSG6EbzxvkGwIcKhwUHG8bURonGSoYSBefFnEWexbuFVwUSBJsENIO/gzHCpII0gaBBSoEgwLGAE3/3/3h+0X5yPbt9DDzzvD97Z3r3OnW57fkx+AJ3TzaiNjS1+zXX9hh2HHX79Xc1NTUg9VH1iTXpNjs2l/dN99G4N3gXeEU4lTjROWk5wTqSezJ7uDxlfWp+b/9YQEtBCcGwgdpCScL3QymDr8QMROyFekXoxnYGpMb4hv9G0Yc/RzbHU0eKB7HHXQdHx3eHAsdkh2xHfwcKRwhHLEc1RwuHHYbeRsaHIocKBwTG+IZ+hg+GIsXAxeXFrsVHBRCEs4QeQ+XDTkLAgkSBwQF2QL6AGP/lv1v+0j5VPdj9S7zgvBL7c3pg+Z/4yLg4NsW1wDTA9G+0UTUmtaQ1+HXstit2dPZi9lB2h/c992I3xXiAOZw6XHqjOkg6Xnqb+wx7drsYe3r70Dz0/VM+ET8AgHwA3gEDwViB9MJZwo0CuoL6w8EFKQWhhjYGh4d7x1LHQ8dkh6WIO8gvh9QH3IgGCGoH5cd6hzuHLsbzxmFGUEbohz1G4warBpUHD8dxhvRGH8WcxVzFLYSORHhEKMQIA8CDeILVwtACSIFDAGz/lf9bPvi+Mj2c/X883fxC+6v6tjn0OTI4EXcltiu1avRMcuTwwG+/LzNwNbH5M+b19bej+XV6qPtfO4N7zrwxfHs88r3WP1AAvYDhgI7AJv+zPx6+Wf1A/OI86/1z/cn+sP9zQHZAygD4wEyAoYDWQRjBRcJ5A8KF8sbXB5wIBIisiEWH3Ac2hvfHIEd+xxAHOcb8Bo3GD0UkBDbDakLFApnCjANwxDfElsT4hMwFQgWNhVTE+ERkhEeEh4TURRUFZ4VtBRrEjEPyAt5CNsE3wBv/V/7Tvo5+cn3MvZa9MzxVO4Z6pblh+FE3h/bRtcI0+nO5cnfwg28V7onwLbKq9WR31vp7vIo+ib9YfxY+jv5S/kX+pn8DAKACEsLiQiOA+3/ivyB9srukOno6Dfre+588oX3r/wXAHIAlP4e/bn9Z/8MAXUEFAx+FkIfGyRJJu4mbSW/IYEdChqTF0kWMhZWFtgVKBV1FFwSHw6tCXUHiwfHCOMKxg2JEPQSCxbGGUMcaBwuG5MZtxd5FgcXbxhxGAoXLxbyFUkUlRA4DMEHpwKp/Ub6OPgh9hv0//Ii8knwpu3K6gznBOLC3O/X1dJizXzIjMNZvWK4Erraw/fQz9yP557yffyCAhcEeAJX/3D8zvp1+tr7AgBfBVgH1ANx/vH6rfdK8S/p2uPz4u7kxeh57jn1oPu2AIcDlANuAmYCewN4BMIGEQ1uFqUe0iN2Jx4qHiryJkoigh3uGC4VrRKzEA0P6w4YEPIPaw06C44Lrgx4DCUM1w0RETUUNxezGkkeJiFvIhYhXR0JGkIZOxkHF5oTLBLGEmISxg9iDPoI0QTk/x771PYe86/wmO+K7trsduug6t3oT+Xa4P/bBtYRz1XI3sEeuz62mbe3wGLOf9x16Tb1Yf8MBwgLSQqTBRcA4/xN/C/9Bf86AQwCVwBy/Rz7w/iK9DXuj+fC4m3hKeS/6dnvVPXW+qIAcgUhCAsJHgn2CJIJXAyIEZ8XJR23ITMlFCcSJ1sl8CHVHNoWIREKDJ4HswQfBB4FDga3BkgIDwurDcoOjQ4mDvsO6hFSFksarhxcHoYgiCK+IrkgWx1/GaUVYBLqD+ENAwxxCtQIdgaMA/0Af/6W+jD1bvD87RztK+y+6m7piOh65xzloeCo2qLUgs6fxl+9XLeNufvDG9LU32Hsz/gUBe4OPxP4EKoKPwSA/xP8JfqT+pn8y/0U/dz7nPuY+2v5WfNS6irizd6b4J3kqOiY7bD06vwXBBYJ6QsHDVwN/Q1dD5wREBV4GWod+R/0IQ8kICWqI9sfoxo6FO4MAAZ3AHH8Q/qt+mn9KAEoBRYJ9wstDRkOZRCEE+oVqRfJGSgcQR53IMkixyONIg0gIh1uGRwVUxEjDn4KuwZpBIADbAK0AM7+G/wU+GD0r/Kr8Rrvhuvi6DbnT+Xk4uHfe9vJ1efPpclEwjm8QLyew/HOVtvY6D33dATBDkQVvhb7EpgMXQZeAGL6Z/aX9Zf1S/Rp8wH1afeZ9+L0LPB66svlJ+TR5Lzl0Oet7YH2nf7EBH0Kww8GE6EUKRZZF1oXZRe+GEQa/BpNHN4eWyD2HtEb4RcwEu8KZARl/9P6VfdB92P6DP5xAdkF/ApgD3QTQhhtHDUe0B4aIEohKyEDIQsixiKoIYcfGR1rGZUUeRBkDZIJ/gStAeD/4P23+/P69Pqq+Wn3FPZB9RPzzu//7HTqIedt493fdNue1VjP4MiBwSy7fbo2wSnMHdgt5fDzwgJDD7sXoBqhF0QRtgp6BMP9k/eY807xfu8h75PxQvUI97z1W/Iq7m7qUeh758Pm9+ah6iLyt/orAtwIWQ/PFLAYhRt6HREejx3LHM4bYRpwGeMZtxoqGhUYbBVHEhYOBgm1A3r+CfrA9xX4//m5/LoAJQboC1cRARcGHfshiyTwJC4k9SKsIX4gCR/4HNcaSxnPF30ViBKdD1kMBwhfA/n/Nv4X/cz7ZvpK+dj4IPlN+Rb4VfVB8prvqeyl6OnjBt/L2dfTOM0nxk+/uLoiu6nB48yV2mfpp/htBzwU5Rw7Hw4bJBPnCnYDHfzz9Dnvo+sl6gHrSe6C8mr14/U79F7xie6T7N3qdOi95s7oZe/H93r/vQaEDkoW5hyqISckZiRUI3whGx4TGX4UUhKwEa0QPA80DgwNzArNB7IEKwFU/YL6gvm/+RX7Sv4bAzsImQ0rFEcb7yCjJConEChqJlcjxSCCHlEbxBdUFfsT7BL1EYcQoA0LCt0H0QZVBPb/Nfxu+lf5/ffl9iT2M/VX9N/z8vIE8cXuGOxt55bgltk809fLxMLJuo+3h7rVwqzOcNyo63X8TQ11GvAgJSFuHRYXLw6EAx35rvB86i7mCOTA5F7onO1Q8p70bfSE8z3zj/Li7z/smupG7FHw0/Wi/FYEjQwyFTkdvyKMJRcnTSdzJPQesxkAFqMSDg8dDBQKughYCEAIagbGAggAUv+D/n38Pvt2/Ir/zQNMCU0PDxU6G/EhFyf7KLUo3SdDJoojbSAOHaIYrRMVEHYObw3OC7oJwwc9Bi4F+wPAAan+H/wV+8r6APq4+NH3PffW9T7zhfBX7sXru+dJ4s7bL9SLy4zCMrqktOq00buqxjHTXuLz9PgHWBdpIRomjyXpIKUZyQ9xAyL3XO3K5f7fG95O4bjmFetc7ozxS/RA9mz3zPbz8y7x0vAi8u3zgff//c8FVA0ZFXkdBSVRKroslSsxJ7UhtBxfFwQRDQvaBuoDdAG0/97+mP6d/rn+kP53/mb/cQGNA1cFywfdC1YRExfyG7Af8yIDJgAo8Sf0JdEiMx+HG7EXOxNyDn8KtAdMBVcDuAIIA9YC+AFIAckAPgAPAMj/Bf5M+7j5Ffku9w/0pfGy72rs/edW443d9dXHzVfFE7zEtEq04rpzxH3Px9357m4AthBCHs0lZiY4IxceexXTCZr+v/R86jnhFN2i3tHiuuet7D/wifLn9Tn6xvtY+YL28PV99iT39fh4/B8BOAcCD/EWkx1jI3ko0CoTKeokhSDkG/8V/g4eCHcCif4p/Iz6Ffk7+AT5c/sp/h0A9AGkBMAHXgr0DI4Q8RQoGQwdsiB/IzcldCYGJ8gl3SKvH0McUBdAEQUMBwgnBJcAqv5k/s3+v/9QAcIC0gNbBSEHPwcbBYMCngAz/jL6nvWc8cPtbOnS5B3gydqK1FvN3sSyuxG1hbTZufHBlctf2OPo+/oSDFwa8CPXJ2cnCyQZHVkSUgYX+9vvpOTg3ATbON3H4DLlJOqk7kjz/fiB/fL96fsm+7X7Zfu/+sX7aP4lAh0ITBAxGJYenSSvKRErnSgcJWYhwRv4E9oLUgSR/b/4a/YC9XzzcfNI9s/6Xf/zA5kIMwxlDloQ1xJkFa0X5BnSGysddh5NIAsifCJ+IdUfxR3wGkIX+hIxDhsJTwSBACj+W/20/bD+MgBUAusEcQcqCW8JMggaBrIDigDw+3r2Z/GZ7DbnueH+3GzY59I2zHvEdrzDtli2H7txwnLL7Ncg6Hb5vQnWF8shcCY/J1QlfR+fFVcKOv9Z817nBt8w3J7ceN4v4h7n++u48Z/4ev1e/hP+Bv+Z/0H+y/wE/Vb+uwCIBeILjxEaF6gd7yK7JKckYCSPIu8ddhdLEJsIIQFJ+yb3zfPn8eDy7fVW+SX9xAFwBnkK4g3LEGQTuhWoFzMZaRpmG70cjx7qHyMgsh8+H6Ie3hxTGcwULRB/CxcHbgMdAGP9nvzZ/aL/jwFXBLQHOQr/CogKYQlPB3MEFgFv/Hz2HfHK7MHnw+FY3HHXfNH6yebBv7pwtv62arxQxMbN3NrG6xf9WwwiGQoiNyYmJ4Ul5B9bFlgLDADa8xboXeC33crdgd9U4xfo3uzm8pz5z/3d/lf/QAAcAEz+U/yD+9n7vf0CAsoHwQ1aFHgbzyAhI8Mj1COSIq0eThgoES0KKQOg/En35/IU8EHw6vI39uL5tv41BLEIoguDDisSSxUIF/0XYxiqGDka0xx8Hqkejh7fHv4eph2IGqQWWhJRDUEIBARzANT9+/y5/RP/uABoA3EHOgs/DToObA5zDN8IUwWcAKD5q/JY7SHoPuIG3brYudN2zRvHyMB2uku3CbotwDbHVdGk31nv5P7kDdgZFSFQJYAnnCWxHmMV6AskAeX0bOql46nfs97d4JXjCuas6qHxwfc++/b8Jf7T/nb+a/1h/H37wPtv/rUCUQfbDIYT0xl4Hl4hSSOOJMYj4x8bGnET9gu2BEf+vPe/8aju6u7S8CfzUfYA+00A4AQKCQ0N9w8gEl4UqRXEFbAWFRltG8AcZh0eHgIfJh8bHjQcOxlQFUIR3gz4B/8DowELABf/Tf/eAOEDiAdaCg4MEw1cDawMkAr0BssCS/7H+PTynO3/50TiX91X2A3ScMsxxey+l7nAt8O6CsHLyCXTG+GX8PH/4w7qGtchsyX8J3UmPiC8F1oOSQPy9lbsqOXy4UDgLeG943fm0+p/8VX3bvqF/LX+5v8k/zj99fvs+2L8q/1oAAQE0QjCDxIXARy8HgQh/SLsIqoffxrTFPkNIAYk/+744fL77kjuwe6z79fydfhn/tsCbwaMCqkOshEWFKMVkRWhFbAXKRpFG9Yb7xxIHtseJR7/HMsbdxngFc0RAA0OCOYEYQPpAdUAbQG1A7IGaQnHC/wNMg/jDoUN5QoMBwkDdP5H+OHxdewN54Dhb9wi1zDRT8tWxRG/ZLr8uQK++sMGy0TV9OKH8RcAFg6VGBwfdyTqJ0ImdSBsGeoQ/gWU+nHxCuuX5nXkbuTZ5GDmJOss8d30z/bm+LL65fuN/LP7wfnp+Pv5J/wH//gCOAg1DiIUhRmBHcQfaSEEImwfPhrUFN4Ongd+ACL6KPSx7/btYe7u77DyM/e8/H8BZwW3Ce0NzhCWEpIT1xNdFHIVZhZQF3YYzRmpG2YdzR2kHe0dRx1lGhQWtRENDuMKpQe8BN4CWgKvAzEG6gciCXELzQ1nDm0NXQudCMAF5gEv/An2zvD068rmNeF/2yDWx9DcymjEA775uRe7D8CrxQHNddh15uD0YgNxEPoZZiALJUcnYSXRHyEZdhHyBoL7PPP07bLpKOeq5uXmRugb7CTxrfQh9ob32PkO+wL6rvg++PT3Qvj0+X/8/v9VBeoL7xFDFm8ZzRzhH1AgaB2rGB8T1AzyBez+bfgA8x/vme1A7unv8vIg+JP9UQGOBKwIkAzbDtUPOxAOEJcPEhChEeESCBSUFr8Z/RvlHfgfKyH6IIsfyxwVGQkV7hD9DEsJCwYDBHwDFQSJBTwHugilCtAM4w3CDaMMrQlXBfgAGvxP9rTwdOvz5Z7g4ttv1+TSz80qyMbC7r5HvjjB9cUAzBfV0eBL7aj6Jwj9EvkaoiGxJXUlNiKdHS0XFQ7EA8z6ofOa7dbpneiw5x3nZum/7TvxtPMQ9rP3HPja94n3GfcU9kr1XvYZ+WD80QDQBrsMgxG2FYUZJRy6HCQb9RdcE30NhwcgAnf8zfbw8mvxWfFg8sX0dPjA/N4AogQdCOEKnQyrDU8OaA4nDi4O1Q69D/QQkBOFF/gaRh27H10inSP2IgEh9x35GcoV6hHKDVwJTAZ8BWwFTQUmBhEIMQphDBQOVQ5yDcULyQjLBJYA/vvm9tLx4OzU59jie9662k3WktDiytzFKMHXvs/A2cRXyZnQiNsJ6Cf1rQLJDhQYMB+PJN0mCCWbIEAbmRP7CL3+Xvfz8QPup+ud6Tvov+nB7XLxoPMY9cb2f/gc+VL4EPfp9S31X/Vo9nb4g/wKAjUHdQtHD/MSrhaIGasZHRd5E04PfgpuBW0A0vtC+Pz17fQw9dD20vni/bEBVwSfBkAJfwuqDO0MlwwRDAYMxwwaDrQPvxHIFHYYcxuOHeofQSLwIr0hkh+XHP8YqRWNEuYOQwsRCXcIXQhcCEsJZwtfDVgO4w4VDzkOUwxwCSgFXAB+/Bn55PTT76vqR+YA49vftdue1uTQmMqTxEXA5L7HwA3FA8tN01LefusZ+kAIaBOZG1IivSZFJ4gkix9MGB4PNwUI/Jj0O+/q6yrq/Oi56Orq0+7t8cnzRvUE9sX1MPVQ9Czzf/KR8iXzfPQl94P7JAGcBhYLAA9wEuMUHRaXFekSAQ/PCi8GbwFp/Sf6pvdS9jf2QPel+Q/9tQAOBKwGoAh4CvQLewxyDFQMAQzqC68MEQ7oD4QSkBVvGP4aUB1yHxghVyHcH3gdxxr2FzwVRBLWDgYMvwpzCpUKNAtJDN4Nrg+4EJ0Q8w+5DnQMDAmDBHv/Svv99zP0me8s633nW+Q84ZbdRNlN1MfOCclcw6S+I73zv0zFCMx81QTiI/Dj/kANIxmhIZMnDSvUKo8msB+FF78NkQJe+NHwQ+uY54jmA+f0543qKe9r88D16vZ69+b2MfVr8yXy6fD474DwZ/Lo9Pz4R//ABdQKPQ8rE88VKhcPF5AUChANC04GogEj/VT50PbT9UP2AfjH+lL+lAK8BoEJJAunDK0NwQ1qDZ8MZAswC6MMdQ5AEO8SVBZgGdYb8h2QH1cgPSBSHywdyRmLFkoU4BHqDtwMIwzxC3AM3A03D/APhhAbETARXRCsDlUMCwmNBOz/NPy2+Mn0BfF97Zvpq+U44tve69ov1r3Q1srOxKu/Jb3kvTnBFccc0BHcLeqh+fwIjhY1IXAodCxzLckqhCQuHHQSEwep+7Xyjexc6CTmyuV65h7oiOta8Dn0ifVw9Uf1ZPST8k3x5PBV8BjwdvFl9Hr4Ef72BG4Lrw81EvwU0xdTGPYVGBLRDF0GCQG+/Zf6Lfea9V/24fcR+kT+lwODB9oJLAwEDlQOaQ7xDg8OvAusCocLygyFDnsR1RS8F5QaiB3hHw4hKyFlIGoeMRuwF6sU4hEpD/oMrwtTC9ML/wyoDmgQjxEDEgkSQxGTD8wN3wu6CH8EOwA9/Jj4c/U/8n7uhuqL5nPiht672mfWR9Ggy5LF0L9vvCi9ScFHx5HPKNv46Ln3ZgdLFkkhgijPLbsvXSzRJVge0xT/CJf9TPSz7F3nb+WT5arlg+bT6R3uxPD38e3yL/NE8v3w/+997/fvrfFZ9J73dfuJAEQH6A0qEnQUahZ2FxsWzxK2DrAJrgP//Yf5y/UN887yxPSo9lr4//t3ATkGYAnlC9YNmw6iDqIOUw5nDe0M/Q3ADyURRhMzFyUbLx0nHlcfHyDAH5AeeBzhGHoU7xCjDqQMJAt7C2INDQ8hEKoRhBOsFBAV3xR2E6wQog0gC1UIkgTFAMX91PqR97/0E/Jn7jzqgeZY4kDdgdgv1JrOqscLwYa73LckuCS9+8TXzjLcquxm/T4NWhy7KGkwWTT5NKQwEihjHgEUnQfe+pnwHun1453hfOEa4qvj4OZi6qLs/+0b75jvc+/+7kfuY+7t8CT1JPlv/UcDtQmhDz8VexmwGgQaDxlPFp0QOQq3BMP+NPga8ynw3+7R79Xy1fVO+Bz8dwF4BlEKMQ20DkEPCBC0EI8Q2xB8EgwUGBUxF04a4RwNH0AhyyESIFUeTB3XGssWaRPvEA4OqgsjC10LYwuZDHgPGxKjE/wUCxbZFc4UyhNfEgoQWw2zCrIHVAQQAf39APsN+J30FfDn6tTliOCm2v7UA9Cxyn7ET76suPGzcbKctly/PMq01/zoDPxLDr4foC+DOgo/Lz8xO54xgSSBFyIKtPou7IHiBt3g2b/ZZ9xB3+HhGuYB67ztdu5A79PvFO9f7rzvEPNU92P8QwJxCJ4OzxRsGgQeoR7PHKEZBxV1DrcGQP8l+C3xqusH6eDoeeoG7gTz2vdF/F4B8gaSC/EOjBHwErkSJBKFEoETPBTsFPsVHxdAGPUZJxyoHcsd6hzzGmYXKxP/D+INqQutCS4JGAoADFUPchM+FmcXmxjmGcQZbhgcF0gVSBJlD38NhwsCCdAGogQlAaP8ivgF9SvxjuxU56jhvdsH1kLRps34yd3E7b5quZm0D7JItbu+3cp92NrpL/7YEU8kvzW+QftE1kIFPrYz8iNXFFoGYfYH5h3bqdVf0p3Sldea3P3eyuKO6YXu3+8+8WPzkvPY8tH0IPls/X4CZgnOD/wT4hekHHQf8B2EGSYUhQ17BcH9Pvfw8OrqL+da5hrnY+k67lD0Lfkh/QkCiAcHDJUPlhI+FI0UFBVtFqEXXxgeGY4ZMhmiGJQYqRgQGFgWlhOAEOkN7AtQCmkJlQmSCioMiw57EXUUixeuGqwcqxy/GzgbdxpWGEoVbBLOD08NcAvpCXYHHgQ8AYj+O/qk9N/v2uuu5rrg69v416nTD9A1zj7MmMh2xFfAGbvRtpe4bcFpzcXaaes9/2sTiiauN2NDJ0cERRE/nTN3IlwQjQD48MvgQNQ2zsXMc86d0w/auN4/40Tq1/BS81D0Qvfc+fX53/oS/ygE3gjZDuMUAxicGUAcPB0/GaYShgxlBSj8i/NA7Q7oIOQW41Hkgeay6onxvviA/sMDWAlJDukRpxTQFmUYexnmGYoZ6xiHGCsYfhdcFtEUVBM9Et4QhQ4WDMYKSwoECmAKuAumDS8QchNzFnQYWRq4HF4eaB53HfMbmRnhFmkUrRFqDr8LNQrCCNIG/AQpA4cASf0R+nv2E/J97RbpSORg35zb39jX1Z3STdBezibLPMZ9wGm737mqvhvJFda85Gf2hwp3HjswMz4dRipHWkLjN90nUxUDBAv0LuRQ1nLNGcp9y8/QzNcX3jHkPOud8ab1s/ga/KD+lf+hABgD9QZADB0SQRbsF8oYWxnuF9cTEg4LB+j+zval75rpoOWN5CblLubd6Efu+PRw+6cBAgenCsENfRF4FMIVGRcVGagZjBj/FygYOheaFY8U8xIDEPQNxg02DZALJAttDJENtA4/ERYUhRWUFlwYeRlDGXIZeRp0GsoY5BY0FSYTLRHSDzAOvQuYCXUIYQeIBS8DhABL/bX5Rfb78mDvGest5h3hntwM2SvWhtMC0dDOnsxUyXfEs78kvvPB7spG12TlOPVvByYbOC2jOnVCmUSNQI02SiiZFwoGfvXx5gba5c+vy8zNmNKr19rdB+Vm6xHxD/fw+4r+8QAwBAQGtAY2CocQ6BRGFn8XJRj6FYkSKg8FCY3/Ivce8YrqSeRq4gzkc+Vk50jsivJZ+B7/mQZzC4cNYxBQFGEWyhblF+QYAxi1FlkWURXqEgER0w+HDXsKDwl8CQoKeArkCz4OzxAnFIkY+Bv6HCgd0h1+HZ8bEBoQGfcWIxTqEZwP7wyaC6QL0ArfCKAHNAdoBjkF8QPOAaf+i/uy+CX16vDg7HTo1eKC3QnaJ9e+0xLRR8+dzC3J+MUkwqy+P8CiyG3UyOFD8nAFpRi/KqE61kQlR01D5Dq+LJMZLQZJ9Qnlx9Xhy1fIOciZy4nTUdwI45DqwfM9+ob97wE0B4MJEAqJDCAQ1hLrFVoZtBluFhwTGBD6CU4B8vmN8wXsu+UK4+Dh9OHl5f3rmfCj9WT9sQSbCTQO5xHOEmkTphWcFmQVDxWDFQ0UuRHMENkPqQ1UDD0MjApyB7oGrAgJCjoL8g6hE+UW2Bo4IBsj9yKSIxEkvyCCG/oX3hTDEJMNnAsgCeEGngZuB8EH/AfsCMQJ+QiKBu8DkAGa/iz7fved8uTs7edA4xXeI9rg1yzVN9K90GjP3MyaymjIw8T7wrPHltFc3d7r6f2hEBUi3zIWQSxILkfaQCQ1ciKwDKD5eOgy1w3KFMTqwd/CScrB1effheks9F78IAEnBpsLlw6SD1IQ1hDNEREUEBYuFrgUwxH8DCYHBAFW+kbz5ezZ5xLkS+Id5CfpcO7T8gX45P3IAsgHgg3cEBMRrhFNE9YTTRTNFewVyBM+EWsORwvBCaEJtQg7ByoGKQWzBZsJvQ6uErIWhhtOH5ohqCMgJZYkBiKcHt4aeBZOEjMQGw9FDPoIcghzCaMJkgrhDLgNrAz3Cx8LmghrBY0CAv/1+fXzge5c6gvmp+BF3MLZHdeO1PTTntNM0WHOq8v5x9bEjcX5yovUoeFO8bADSxhTKwY67ET3SYxFBDpjKz4YwgBY6wnbBM1swvy/WMRRyh7ST96S6xv15/wMBrIM+g0MD0USaRLKDxERiRTQE4cRhxEaD0AIcgJP/rj3VfB+65/nGeSm44Dm+urM8Aj3M/zfAIsFFgmLC9ENCA9dDnkNCA4xD5oP/g8MEZ4QdQ2ZCpkJggd8BFwElgV3BEcEFQiBC+AMuBCdFikayRzrIEwjFSIZIBcemRqnFvYTKhJMEAAO2gvgCpsKHQpJCkILMwtRCmkKnQqUCWsIXgfjBA8B+fzL+L/0tfDp6/bmieKs3RXZA9dW1uHU+tPL0yTRUMwtyWnIO8kCzp/YQOfP9xoKjx1NL+I7uEJ9RL0+GDCmHWoLO/e44ovUAMySxFPCT8l/0+LcL+mr9pP+cgKpBzIMDg2cDQMQ8RBwDz8PNxG8EdEP0w3SCiEESfzm9vjxA+xM6Cjn3uWW5svrD/Kj967+1gT9BrAIvws8DAELJwzkDHAKjAnuC7AM2wtuDSEPLg2dCmgKigldBoMEZQWuBRYFdAc0DPIOzxB7FSkapxulHXkhOCLLH6YeTh0KGVEV2RNGEccNCwyjCmYIhQcVCIQImwlrCzIMOAw5DPMKgAgvBu4C2f2I+Hrz9u0y6TnmouNg4ADd1Nnv1vPUi9Rh1W3VA9Njz1TMDcrnyoPSaN/07fD+eRILJPgxDj5fRUNDHjn8KQUWRP9w6rrZssyJw4y/1MFuyQPUGuEf8ML8mATnCpEQRxJxEfgRvBGFDkMMrQwdDO8JPAiqBZkABvuB9nny3u4T7CzqxOlI60/urvIn+GP9MAH4A9AGfQmlCqcKPQtkC3gJiAj/CrkMzQvFDCEPfg2uCgQM3ww6CdIGjAfgBRID5ATACA8KiAtEDxcSNBNEFVgYeBptG0IcUR3WHQQdYhuEGXIW4hGXDZoKKQgXBlEFMgbRBzcJ0goSDR0OqwzTCmYJ0gVYAPj7tfe48fvsQut96dLm8eRz4kDe9tqF2VDYYNcM1ujR+8uhx63Fdccs0ALfIvDXAhAXdSlyNwtB9ESyQDc0ECIzDbT3b+NS00XJBcTOwprH8tG+3YnpKPYfAZsHgws0D0kRqxBFD0oOTwzpCIcGQQZtBbECVABM/rb5GPRB8arvKe3H7JzvMfKn9IT5kv6FAWEEHAdeB6MGxAbnBTwEiwTUBRcGZweLCl4MhAyaDccOqQ3cC5YLFgvXCEQH4gc9CHsHgghkC6MMugzUDiQR3BDkEFsTGhWTFQ0YehtsHBMcMhzbGpQX1BTeEiIQ9AxDCq0HBgUwA84CbwMrBMgEZwVNBRAErgJJAbX+SPsc+IX0SPDF7Lnp1+Xp4bnehtvq2NLXltb80/7QUM3jyEHH9cq90sTePvDVA4cVBSb3NL090z7nOl4xQyChC/P4zed911/MVchuxyvJg9Fm3qXpuvMG/yQHsAkkDBsQrhChDmEOhQ1qCZYG2AalBXUCDQBu/An29fAL78rtr+1c8Dzz4vQl+CD9rAA0A0sGYwcwBYID6QNjAxoCJgPiBFUEkQRyCCgMUw0nD20RDhDTDGIMpwxPCiUIAAjGBooESQWQCKQKdgujDCMNVQyTDJQP7RO0F+ka7h2vH3Efgh6WHfgaABbDEHQMVgj4BL8D0gNvA+ICUQNwBDoFowUUBuoFFgRRAUn/jP2U+kj3MvUL86/vFu3q60XpcuRk4H3dZtk91XfTu9FdzZjJqMnzy9DQONw07Z7+NxB9IyM0Iz43QyND4TnTKHoVywDe6pDYh8xOxHDAAsT3zMjXMeUs9Nj/lgdhDvAScxMaEy0TShAXC90HtAUEAon/lf/F/TX5IvZr9DTxIe8O8Y7zh/Q/9/H7+/4PAewEWQjMCIkI1AhxB7EEXwNBA+YCeQPJBUEIMAo8DPINow62DkwOOQ32C74KXAlmCEYIIAi8B+wHWQhBCI0I8gldC3YMUQ6+EMQS9hTuF2QaYRt4G50aDRiHFF4RWQ4SC14IgAaZBNICIwIsAioCngLHA5sEvATOBJYESgM2AQ7/ovyq+af2JPTM8QnvMOzm6Y3nZORj4Qjfk9t11p3ROs0uyO3Ez8b3zFnWFOWQ+E8M6x40MeE/C0eRR1NCKjUJIdsKDfX137POV8TgvwvA98Uc0WDePexz+t0GaQ+vFGAX9BY5FN0Q+wylCCsFrAIpAAb+hfxn+sT3H/YV9czzafMu9KT0VPXN90r76f5LA4oHvQlKCv0JQgjtBZQEhAM3AjYCZwM+BL0FAgnXCyIN6w71ENIQkg+AD8YOrQsFCVsIAQfTBAoFswY0Bh4FfAbSByIH/gdmC0INrQ2LEIkUdhaJGHEcfx4XHQgbjhigE6oNFgkPBWgAUPzT+X/4JviY+Qr9DgEgBFEG2AfUB2kGDAWYA98AXv3K+Yz1AfFg7SXqfeb+4n7fJtv/1hLULtH6zR7M+Ms6zSHS7tw87Mj9MxHpJOA0Kj/dRP5ErTwSLQQaKgQ17KjXY8orwmW+IcLkyyjXgeQk9YcEKw/fFtwb3BtOGGcU9g/xCaADWf4a+uP2IvU49YP2VPdj9xj4O/l5+dX5nvtH/dv9Pv/6AR0EOQWABmAHZwZWBPMCHALEAND/rgBuAskD9QWACTIMWw3XDnsQoBAJEMIPdA6BC1IIkQUdA1sBZwAKADgAZAB9AMQBJwQ+BroIqAxNEL8SwxUAGTsaLhphGocZ5RbxE6wQ5wtNBjcBE/1M+lD5+/kO/OX+qQGqBDwIOQv8DCcOQw5CDOIIOAXbAKf7m/ZS8pnuVuvY6DznpOVI4wbhd99K3SnahNfp1FLRPc9X0e7WCOA97sz/RREUIoMxVzzQQDI/zDaEJ78TNv4b6dzWK8kIwXG/CsR7zRjbJus3+scGGhHxF5Ya4BpZGcEULg7cB/UB0fwQ+pH5q/nz+Yb67PoD+wj77/qi+gL6R/lw+eL63Pwc/5sBUgPwA5sEnQVWBtoGBgdABgcFKATQA5IEawbnB+AIVwpXC0YL8wv4DMYLYAnZB40FGwJ8AEIAmv7u/E795/1Z/g4BTgWOCGgL2w6dEWgTbRVNF88X+RZCFbUSeA8PDOcI4AXFAicAp/4k/sv+5ABqA3AFbgcgCcgJfgriC0oMhQvnClMJwwVpAvv/cPx2+PT1cfPx76btzOxL63DpXujy5mvk0OFx35rcDNlp1f/StdLP1Mfa0OWx8xQCjhHFILErDzJ4NTQzUSl3G+sLivkD5yTZss83yR7Il8261tzhn+8d/pMJSBG5FlYZ+BePFDIRjgxEBnoBDf/H/Hn70fwB/hz9wvw7/Rf88PrX+zT8IvuL+w/9dP14/jAB0QLrAroDhATpA4MDCgTqAz0DbANPBEkFmAY8CIkJ6Al9CRkJ0wgRCDoH2AbcBesDigLvARcBxwDVAeoCYwNVBJoFVAYWB5EIXQoSDLINUQ+1EA0RTBCYD5wOJQyiCYAI2gZMBIYD4AOuAtUBaQO9BAoFNQdKCi8LMAvpC1QLGAlUB8IFGQMtALH9V/t8+Uz4V/fM9m72UPUG9H7zrvLx8Gjv/O1m6zvoquXv4iXfPdth2K3WrdYT2ofhdeuy9pID5hA7HGMlfyz3Lncr9CP2GDEKyPpk7SThAdfp0RLRMdM/2ojl3vC8+/kGlg9NFOYXFhpZGGAUXBDxCngE2/8F/U36gvhh+MP4WvnO+p781f00/vP9e/0W/d38MP0K/qP++/7g/ysBgwJqBLIGVAhhCWgK6wqUCtcJswjOBpME1QL2AaQBhAH8ARQDygN2BI0G6Qh+CYsJ6Qk2CN4EbwMaA0sBXwAIAhcDOQO1BUQJyQrWC7EN9Q2TDOYLYAu3CfYHigbDBGYDGwNIAxcEygU7BxgIXAmiCt0KpwqSCqkJkQdyBdUDAwLu/5/+N/6X/dH8B/2Y/RH9Ivyq+2X64PeR9WnzOfC37N3pGedg5GXixuD43kXdz9sI2yvcw9/c5eTuKvoEBvIRWB1JJhcs/S5vLaYmjxz8D7YAgfEk5eTaJNOr0CPTRNjP4B7t2PnWBNcO+BZBGzscNRvFF6IRGgqvAjH8Kvda9ED0K/bA+Jb7z/64AYcDZQSfBOoDBgKB/2j9/fuL+mD5wfk1+3H8iP6WApwGMgn8CyEPWBDHD3UPwA4HDGkIuAVoA3wAEv6J/d39n/0c/qIACgO3A8wE5QY6ByEGvQb4Bw4H0AU0BgoGuQQABfAGGgisCO4J5wqlCh4K+gmRCW0I/gbUBcwElAOyArUC9wIRA90DfgXsBhAIbwleCkYK4wmSCa4INwfUBXUEzAJaAYQAof8H/g38Bvqi9y71nfOn8ijxQu+a7bbrbemm5zjm8ePN4IXdeNqH2OTY6tu34T/qe/TK/3IMGRlsIzkrYzCuMMErPSSRGoINK/9n8rLmJ9zd1c/U0dZp23Xjbu0Z92YAiQkAEW8VFheiFhUUeg/oCb0EKQDn+/D4afia+Ub7uP0ZAdUDCwXuBdUGJwauA/kAIf5B+pb24vSB9In07PUm+ST9gQGsBg8MfhCAEx4ViBXIFIgS+A7aChgGfwCm+/f4n/cp96T4efvC/dn/yQJUBXIGOAfKB/cGUAUjBAADmAEMAY4BZwILBMIGTwknC+wMHg7sDTsNpAwJC0wIzAWXAxIBWP9l/yEAzgA/An8EkQaBCMMKkwwbDZIMUAtdCQkHtwSDAloAAf5o+yn5uve59vH1tPWh9eH0pfNo8rLwPO6Z69PoTuUz4TXdk9mW1uvUHtWe19bcmuR37jP6EAerEzQfFSnaL40yyzHULQ4mPxsjDzQC0fTQ6Hvfm9ip1JPUl9d/3ILjauyZ9TP+HwY+DK0PPBFqEaUPfwxdCT0G3AJtALH/3/+5ALsCHAWeBoMHVQhSCMoGNATyANf8Pfgo9C7xSe+r7tzv7PJB93z8rwJOCRAPdRPnFjYZtBmQGEwWmBJpDeAH5QJj/nD6r/dB9rj1/vVg9875q/xR/5cBkQP2BLAFaQZ1BxIIFgiECH0JAgpJCj0LMQwjDPALTAwODL8KhwlyCGcG9gOBAo8BNAAX/8j+mv6L/o7/eAEcAzMEGQWPBVAFxAQoBAMD9gAr/u/6hPdG9IfxPu8J7ajqS+g65mHkcuI64KjdytoW2GbWcdaE2MbcTuPq6x/2hwHEDegZgySALGwx+zL9MNYrACSDGdQMZv+N8u7mdN1F12nUL9Sa1sbb3OIF6wj0+vxMBJMJXw2VD8wPkg6gDPQJzgYiBFgCMgHiAMMBXgP8BI0GEgj8CMQIWgfLBE4Bbf2w+VP2lfPl8ZjxzfJz9T75z/3uAksIQw1sEdUUUxdZGLoXwxWQElsO6Qm+BaEBuP3e+l35tPjc+Cf6J/xC/qUAagP5BRoIMAr7C8YMxwy+DLYMZwwDDK0LIQt+CkUKeAqrCsgK5AqqCr4JSgimBukECQMPAfz+zfyz+vv4rveW9pf1zfQy9IjzmPJG8Wfvu+wY6X/kKN972Q7Ul8+4zODLi81N0kPa4+Sb8fb/6w4SHYQpkDMZOnc8BTv5NRYtFCGWE5MFmPf/6vzgjNm/1FLTONVt2Yvfh+dI8GH4cP9kBcEJZgzADeUNpwx9CksIlQaEBU4FFQasB44JPQuHDF4NeA2DDGkKFweRAnz9yvjK9GrxDO887u/u5/Aw9Lv4FP68A1AJQA4NErIUZxYQF0UWARTdEHIN4Qk7BuACFgDj/W783fvt+3T8wv3N/9IBbAP1BKIGMAh8CXUK+go/C6wLFQwNDL4LhgtQC9oKGAr8CJ0HSwbwBPsCYQDA/Vj74Pg69pDzCfHW7hTtc+uY6bvnQuYS5cfjX+JW4SLh2uFL42ble+jc7Hjy1vhn/9gFIAwLEvAWKRqqG8gbihqiFwATLg0BBxcBnvud9mXyf+9M7qPu+O/t8Zj0//eR+6X+KgF5A6IFWQdKCHEIPghICK4IBwkZCT0J1wnSCsoLgAwTDagN/w2fDXEM9wrACeUIFAgVBykG5QWMBsIHEQlwCgwMwA0aD8oP4Q+UD8YOAg3vCc0FRwHQ/E74gfN57qjpYOV94a7d6dlv1nPT6NDSzpfN5c1B0KfUx9p74uTr8vYEAxUPPBroI7IrITG1MzIzxS/LKYwhWBfaCxsAFPVO6wfjgtwq2FXW9daL2W7dIOJY59DsLPIj9577jP+9AhkF2AZlCPQJYgtpDOMM7AzKDKoMbAzDC4cKvgh7BuIDTQEV/z/9i/vx+dT4r/iw+aH7KP78ABQEfgcjC60O0xF2FGsWWRcdFyIWABXhE4kS2xAdD7wN/QzTDPMMKw2YDVkOJA95D1YPQA+KD+EPww8nD3QODA4NDlcOtA4VD5kPMhB9EDoQqw8VDwQOnguoB84C8/1h+cD0gu9k6czia9x61orQMcqRwwy987brsTOvBLDLtCy9qMj/1iPo4fs9ETwmpzg5R7pRDFisWTBWvE3YQFcwhx0QCnf33eYf2bfOvsdXxODEWcmx0EXZ4uEC6lbxnfew/GEAaQLZAlgCogEZAQQBzwGkAz8GVAneDLAQNRTUFjsYHRgqFoESrQ0DCJEBtfpH9A/vfOvr6ZPqNO1X8dL2mv0rBbYMxhMkGlgf1iKRJNwk7SPrIS4fEByuGFgVrRLxEKcPUQ4mDZUMiwywDOQMFw0aDecMqQxfDOALWQspCygL1QpQClkKKQv9C/MLxAqHCE8FNQE1/BP21O4O5zjfDdczzirFy7xFtXquG6mSpumnSa1dtqTCtdFx45j34ww+ISgzSUJHTglWs1iTVnBQmEYgObAonhaaBDf0P+aG2u7QZsofyNLJ5s0x05fZ6eA/6L/uMfTA+H78Rf+4AKwAAwBvAK4CpAXzB9AJYgz1D7ITxhbaGLMZFBnTFtcSYA1cB7wBVfxd9krwD+wN67fsue+X85/4Gf/dBkQPLReuHbMiXiY6KN8nAibEIy4hbh15GGkTUg+IDN8K6AkhCYkIvwjvCUcLCgyIDEgN+w0IDncNqQzBC98KSwrWCdIIDQcTBRkDkQAa/fr4S/ST7n7nTd9P1rnMAMOXuXmw+6fgoVWg36NJq421ycJx017nsf26FFcq9DwLTCRXR10BXhpaRVILRjA1cCHPDWH8fO2Z4HTVvswGyETIWczm0bjXRt6w5cvshPIA95f61fwv/QT8jPor+rb7tP6gAdEDkAZXC4ER7RaFGskcJx4uHmIcxBiXE00Niwa3/wP5RfPR7/PujO/v8AH0tflWAVIJwhB3FzkdzCEaJdUmoibAJMYhvR18GNkSLw6/CrYH6gRJA1YDjgRbBqsITQvKDdIPLBFuEYQQ9w7oDIgJgwQm/+z6qPcf9OHvaOvk5gvisNy51vjPiMjJwNm4ALHWqqmoNKsvsaC5UcVB1dfoLv5YE9UmrjeRRSxQjlbqV5hUUE3zQXUylCAXD1X/zvAk41HX6M4Iy77Lvc8G1ZPa1eAF6PvuhfS5+AX84f20/Sz8uPoq+or6pfs4/VT/zgJnCDgPNRVkGXYc9x4/IJAf+xzAGPUSGQwbBaj+Nfl89e/zC/RJ9T/4sv3iBBsMkBKVGEoeKSOcJiMoTSdlJIQgSBxUF5gRJAzkB5YE3gFfAM0AtwIPBTMH8QhJCoMLqwzTDN8KHgfqArD+nfl08yjtYOey4Z3bTNUSz/7I/sLZvG22wrAZruevUbXUvKbGH9RZ5cL4nwzcH5AxxkCXTBhUuFb3VMtPDUfDOYgoQBaVBd/2TukS3XHTkc3Yy7/N+tFO13XdaeQ/697wcvXI+Vn9nv5S/Sn76vn7+c360fv7/Bj/QgNuCQIQmRVkGuceaCKyI6wi9h+qG5wVWA4EB40Aivs7+Fb2jPWM9oH6NAHpCEgQVhcpHvgjBihcKgIriynQJWkgLRrcEx4ODAkLBAv/Wvs7+gv7Hvz+/HT+sgDHAssDmwNkAkYASf0d+Xrz6ex45jngGNm20EXIycDMucyy/ayBqm6sWrJau/PGZtVA5wb8hRFRJac21UUXUp9ZsFtBWTBTO0koOwYq2ReLBi73uOnE3fzTLM5Fzf/PV9SP2dbfteYp7bjyYPfG+lf8Cfxj+i74ZvbM9Sr21fYf+FT79wD+Bx0P5xUxHGkhBCXRJo8m7SMoH/8Y8xFlCkEDnf24+T33U/ad90P73gAMCDsQSBghH5ok3SiGK/UrHypTJsIg6hnfEmsMVwZAAJH6KPaK88DyXvNq9PH0DPWT9ZP2+vb59b7zg/Dw6+Dl+N4B2BvR28nkwZS5hLL4rv2ve7TruobDyc8c4Bvz8AZgGnksLTygSGZRfFYHWLJVdE7CQU8xgiB/EZUDUfVG5+LbAtV60sLSgNR21zHcruKm6bvv4vS9+dT9s////kT9OPwE/KT7gPpX+dH5Gv2nAo8IfQ3ZEY4WZRtBH44haSKuIeAeDRowFIwO3gkHBmMC4f7B/KH9hgGnBm0L7g/6FGsaKx9cIuAj+COyIswfGRsyFVwPUwqBBRcApPqY9lf0vPKs8Fjul+yZ67TqHumz5urjB+F83YXYY9IzzE/G1b+IuG6yYbBBs3K5KcGZyoHX3OhA/a8R+SPtMwpClU3zVJhXZFbTUQpJajtxKiUZrAkA/AjvueLM2ELTS9Iy1FXXjds24aHnfe1f8u/2YPup/qn/qP5L/Q798P3Q/hz/2f+dApUHPg0iEkEWXBqJHvUhzSPjI3gi0x8XHG8XTRJgDRkJbAVWAmsAhgDdAsEGSQv6D7YUWRmEHaIgOCJBIhQh0h4gG8MVZA85CeQD6f5l+Tzzce046bHmw+Rc4qbfhN0F3PPZQdZg0ZPMLMgdw5y82LV/sWKx+bSKupzBpcsV2jjsov9uEmEkqjVIRU9RmFh7W7Ba7FVDTOg98CzfG8ALHfzp7LnfrtZf0mrRI9I+1ILYKt8I51ruPPTr+Nf8wv8SAboAgP9T/o/9GP0P/TD+WgG0BlANyRNHGfIdZyKvJt8pyyoWKXclDSF6HLwXrhKHDdIIFwXKAl4CGASmBxEMYRBNFC8YNhzVHwkiGyIBIB0c7RbyEJgK9QOx/JT0Ruw55Xfgl90d2+vXK9Ss0MHN98rAx/LDhL9ruiu1ZrEEsXm0R7rcwMXIa9Q+5Y75ww2MH0ovNj7dSw1WClv8WudWCU8EQ4UzvyK7Eq0DsvQh5k7afdON0UjS8NPQ1hDcjeOS64zyOPjy/HYAEgLzAXABkwHRAeIA2/7C/aT/awQQCuAOFRP9FwYeISTpKM0r4ywlLH0pcyU2IYYd5BlSFesPUws8CcMJgwtDDR4P4hGiFVEZwBudHDscpRphFyQScAs1BOv8S/UN7aPkB93b1tzRVc3qyPLE6MGqv1a9/rmrtaaxva/+sBW1DLugwsTMmdrv6wP/wRElIx4zZkHqTJFUPFhxWBdVLE1AQO0vPh89EIgCrfS85gfbDtQi0nHTFtak2ZLew+RG60TxnPZE+6P+HQAdAP7/qQCeAcoBMwFRAYkDuAeKDBgRqhXbGmMgIyU5KJQphikgKGEluSHvHWAawRbdElwPdQ26DYMPsRHTE0cWShk3HPcdAB6eHD8auBaDEY8KkAJq+l7yFup/4VjZvNL/zUnKfcZvwvq+nbxvuuW25bGfrcWs8q9VtTq7fsLTzXneafIyBjoYXilpOtdJ7lSVWv9bWlrSVOhJZTqiKWwaWwxK/STtGd981kzTv9Lx0sjU3Nl44ePobO718vX32vyU/4H/qP5i/3sBuAL9Af4AUAJqBnoL6A8YFDsZKh8+JDknbii4KPknWSXiIAAcGRgYFf4RqQ5pDJEM4Q7eEYEUDxcjGm0dwR88INMeyRsGF1QQAAjR/jv1Keup4JPWCs5Ux5XB87urtp2y5K9yrX2q96cSqA6s+7IJu+XDOs+e3lzxugRqFism+zQGQ/BO/FZrWl9ZBFSBSsY9rC+vIccTHAUI9s7o2d9u26TZt9jP2DnbL+BB5trrsvBH9Vf50/tx/I38y/0dAOQBKwIoAgEEUQijDVISTRaFGiMfGCNuJVgmcyaDJb4iWR4DGksX4BUhFG0RPQ+OD4wSVRYTGbUaWBxwHgMgvx8fHWkY4BGZCfr/5fUc7JHir9hPzkTE0LuHtdKwdKynp/OiBqCDoKykN6vMsrK7rsf113Lraf/QEZgibjLMQPNLxVLKVe1Vv1LoSnk+7i83IuoVSAk5+4rtmuPz3gTeON6a3gXgRuPi57XsIPEH9QD4VPkt+RT5i/pR/b3/5ADeAZ8E3AltEJEWhRuyH4sjuyaaKPYo+CeEJVQhzhs2Fs0R3Q67DM0KewkBCisNPxJ+F5kbix7vIMwiKCO6IAQbuBIRCc3+AvS66EzdBNLrxke87LKdqximMqFSnLOYuZi1nYam6rAfvKDJ7tpG7/8DBhcTKHQ3ekS+TalS+lNoUlBNm0PrNQwnmBm9Df8BCfbS66blnuPA427k5OX/6EftJfHD89j1P/h/+jr7IvrZ+HP5Jfw8/6EBiQTICU8RMhnCH8MkxCgFLO8tlS3mKvMmeiL2HBEWOA9hCuEHsAY3BuIGaAkoDnoUgBqaHvogjSLKIiwgXxphEvIIXf4T82PnUNt0zwbFVryStD2tmabaoJickpsSn/ulQa7Qt1/E5tRw6Mj8mw/oH4QuKjxWR8dNhU84Tv5JZUGYNG8m1xlaD1sFWfpF73LnDuUl5uvmnubb5xrsXfH89MP2SfhO+sn7YPum+Uf5LPzsAKoEMwdbC94S0xscI+EnjysvL80xljEULrYo9iLBHH4VJA7WCHgG0wWCBeoFpwg2DtsUOxqeHdwfRCG8ICgdnBbLDUEDjfdf60LfidNhyMC9ybM/q7WkkZ9rm+uZSZ0spSKvGbpHx8jXBes0/zkSxiIdMcY9kke/TKJNoUswRuk7Sy4JIcsVTQtfALL1Fu1Q6Ivneujm6N/ppu348h32VfZz9vv3Wvn3+Fb3NfZV90D7OgA2BDYICQ9rGOYg2CbkKwAxoTRMNRMzgi5GKHghjxo9E2sMJwiqBg0GygWhBzIMpBFFFuoZaRwXHccbhRjwEiwLMAIQ+KvrQd1Oz73D9LlrsK+mnZ00l9yVOJoMor2qW7QKwSDSqOYk/AoQNCESMCI9nEdDTsRQWE/DSdI/pzKsJO4XjAwpAUr15+q45CbjGuSn5Zznjupx7k/yCvVt9mX3YfhW+Ln2iPUj9wX7+P6uAusHrg8GGf0hxCj/LDkwYDNjNNcwDip8I/Edzxf8EEoL0weDBiQHDAlsC90OPRS4GToctxtgGh0YyhJWCp0ABPah6eDbI85LwUa2v61BphSef5cel3KdXaZHr6+5mscs2WjtQAL5FLgk4zJqP95HfktITMJKv0TKOe8sGiGoFuIMKgNG+Z7wzesF60vr2Oo663rtku+u7+Du9O7p75vwVvCa74rwb/WP/UcFxApbEIMY6iFSKYItoS/hMPUwiy4EKcQhBhs+FQsPTAh6A9kCqQVVCY4MSxDBFQYcXSALIdMeAxs3FVQMqwDI85vm39hIyry7P686pqufg5lplAqUWJrvpNSwP74Ez0XjCvnBDZcfXi70Os9Ey0mvST9HzEPlPDMxDCSHGeIR5go9A3v7tvUU9MH1tfaW9Mzx9PBj8MDtkupZ6Y3pr+kP6tjrBfCM98oBkgvKEoQZTiJOK80wbTLKMcwuMSloIjsbNxNtC+sFmAInAEj/ywFdB+ENZxSwGj0fDyFRISEgKRvFEUwGEPpX7DHdDc4SwK2zGKk+oM6YrpOUk6qZOKPKra26fMsd35jzTAfbGPsnxzRJPmVDbUTmQrE/oDnbL+wk9RvYFDQO0AcWAjH+9fzB/Ir7n/kf+Af3Z/Ve8rfuPOz26h/qYOqj7IPxYfmdAhMLYBOLHDslxCtVL38vDi1EKV8kSB7sFrQOXgcCAl7+h/1vAAkFxwmkD2AWKhwlIK4hqx/8GdERkQjh/RrwNuBV0QPEbbd/rDGjYppBlGGUPpqlooqskLmsyjveTPIOBt8XFSZvMSw6RT4KPqA8RTo/NK8qTiGVGooVrxBLDMYIywWxA7wCmAF8/379oPv195Xyme6W7a3thu3F7jfze/oTA+ALYxR7HB4k2iowL6kvRi0RKqIlvh50FowO2QfjAtj/yf4WAIsD8AgFEIYWjBqJHfcfMh9GGpgSAwny/Qrx3eFY0ozEN7jerPOh0JcDk4GWxp3WpPWtxbs2ztDiWfXOBIQTMCEJLEgz4DWfNeU1JzQ6LSQlyB9OHHkZdhWtD5cLfgrKCU8IxwTB/hz6lfc7807uGOxT6+Lr4e778jz5GgOBDakW1B65JCoqkjCUMmMuGym7IyEdzxbMD+4H4QLJAFAA2QIMB9MLIxOQGU4b0RxxHyEetBgOEdcGKPxp8TDkbNb1yWm9PbJDqDydA5d+mu2gBaarraq5UMq93lfx6P9fDcgZpCR/LcgwhjByMnsy8iufJH8gox2DG0kYoBJ4DhsNbQuBCI4DJ/0++Rb2W++n6RXps+mB6rTtn/J1+hgGIRE/GTYgnCbaLH0xzjCLLGUoWCJ8GrYUvw/lCUEGGAWjBJkGigsjEckVbRi/GUsbyBpVFlEQugga/kDzDOlJ3F/OZMNFuvKvBKWLnUWd2KLNqTuxD7uPyHTaB+5L/a4HchJAHkYm1ihHKS0q1CmDJcseUxruGRsbWxpTFnERpA+SEBQPnQjEAAn7//WQ71vpY+Yp55Xpb+yA8XH6yAUfEb0aoSFNJ3ctVTHCL8oqtSX+IO4bPBYoEVAOswx1C1QMHw/4ET0V7xeTF/MVLhXYEm0NMwb0/WD1W+wL4hnYZs9ixfS5W69wpkeiLqVnqsmuULbrwnPSKOPD8j4A4QyNF6seJSPlJLYk7iTbIm8c8xfTGEga6xmVGBgW8hP6EvAQ4QzXBjD/zvir87/sXufO53zqGO1a8tf5MwJaDLwWEh8SJRUoMCntKcUnmCLIHtIbFRcqE7IRBhFoEb8S3xOWFVMXXRf4FhYWiBIADusJtAO1+4X05eyJ48XZgdAPyNm+xrJyqF6mdqrRrwm2eL1Vx0bWHuhh9+QC9gytFgYe5R9BHqMe/B80HS0Y9xXEFgUZQBvlGjwYERZ8FHQRqgv7A2X9HfhD8VfqDOhA6sntHfJH+KUArQqHFEAcvyGQJVYnHyc7JYQhex2RGiMXGxN9EbESnBTIFbEVLRZhGEUZ0hdTFpUTIg7XCG8Egf6O9/bwf+l14PfWPs77xbq7dbDZqpOsPrBKtXm+rMnK1dPkqvStAQcMoxSRGk0c3BpkGiMbOhi9ErMROBXuF44ZWxt6G0Ma1BgLFWgOwgY+/wj5oPLt6groJews8KjzS/vBBL0NsRYgHasg/SIUI3ohPx9oG9AX/hWMEzMRFRLUFMUW7xcUGWAa7xqUGVgXphXXEtYNwQi9A3/9svdS8r3q1eHe2A/PE8XAukexfq1zrsawvbcuw6vOE9zt6975cAW4DtwTgBXgFDgUPxXxE/IO1AxrEIMVLxnZGyYeFh+gHUsaKxXwDbMF4/2Y9s/vg+wG7+DyePXa+9QFnw1XE3cYvxtFHZAcEho1GBIWWxODEgwSCBFvEjIVNhYsFkgWAxeqF8AVkxKfEc8QuQ2iCqwHbwMX/6X52fHX6fHgXNbCzBTCA7aqsF6yLbRxtzq/fMqO2Dfmn/Eq/bwGfguVDcINywxVDVsOoA13DJoOaRWnGxodzR1oIKAgkBuZFHYPlAnJAF35+fSr8qP0tfiv+6QAWwcsDXwSwxRDFCIVhxQ1EdUPUA8RDlwOaA/yEFsTbhTSFJUVIBXwE3MScRCxD7kPtg5XDScM8gruCNQE/P7N95jvHudA3VXSSchHv7S6obygv+LC5clC0kfbreXW7Wf05PrT/Vj+yP+ZATAEVwbeBtQJow/fFKAZjhzFHEkdSxw0FzgSmg5GCY8Dqv8V/ZL8Wv5NAGoC9wVBCc0KvQtaDFYM2gtJCrIIRwlrCgYKJAomDL8N9g3EDrgPmg4qDRINQAwFCxALZAuKCyMLTQqkCnkJuwS3AJ79ePjS8rvsueUx327Yo9RX1iTX49Z220XhKOWd6Vjtmu+x8c7y6PIt8jPyX/UM+PL3m/lb/sYDdQcrCI8JMwxUC70ItweQBh0F/QLBAIABvwKzAogEIAYLBggHvwb6BAYFKQSXAWwAp//P/0UCEwNhAQECHgUMBrME0gTkBYUG0ge6BzgH/goVDu4MDQ7PD5oOZA/qDnIJWgd6CWQJWgfAAwsB+wICA9f9VfsN/Oj66fgw9wX2x/bA9mH0e/MP9B7zg/Kn8nDwg+7373Pwhu5B7p3vo/BI8V3xNPI29Lz0lvQc9ub26PUu9qD3zve89/L4CvqL+qb78Py1/eL93/1s/0EBrACwAJcCLgMcBCUGCwdeCfALugvSDQQRJBCyEIcSYRBpEB0TbRGiD7IQGhBMD8oPvA/RDxsPOA3jDCENgwsPCYoHDAfGBcMDKgMDAywClgHDACcA8v8h/gb81Pqt+O/2ZPYJ9Rz0L/TC84XzLPOL8s7ycfJX8UTx7PBd8MLwt/Cn8CLxGfHf8TzzTvOX81P0bPRo9cj2XffH+Gz60/rw+4L+OgC2AA4CFQT7BD4GiQgICQQJqQoTC7YK8wsSDE8LRQxgDJALfAyMDOoKwgoXCzsKrQlNCXEI9weQB/EGugb7BYwERQSLBL8DLgOAAy4DDgImAd0AewAt/x7++P0w/TL8D/y7+0378frU+Sb59vj996n35Pfj9sL1FfWc9OD0YvRp8x70jPQC9OL0/PVc9hL3MfdO95/4qfkz+sv6Rfty/JD9HP6X/48AWwCyASQDmQKZAnoDkQOqAxEEdgQ0BaoFqgUaBukGMAfbBskGugbdBXoFAAa4BRoFIAXyBAAFWQXnBLgE/wQwBHcD2QOFA5ACqQLPAroB6QBUAYQBBQFuAEb/H/7P/Qz97vup+yL7HPqx+Vb5BPnk+BH4jvfy94n3Fvfr90X4o/dP91b36ffj+Of4cPgz+Zj6Efv5+o77nfwt/Wn9yv06/uL+nP+6/7T/TwD5ADoBVwFgAZsBIQKFAgIDdAMjAw0DwwOrAw0DWgOfA20DZQP0AqQCKgP5AgUCwwHTAQICZQITAqQBzwGbAVIBbwEjAeYA7AALAC3/W/8W/yr+7f3H/Qb9l/y3/JH83vsT+8z6Bvvj+jH6+vlc+j/6qvme+R36b/o/+tz5EvrZ+h77LPv9+5f8evwb/Rn+HP4s/sb+8v4o/6b/w/8eALoAsgC7AD4BvAF3AuACeAKNAhkDEgP7AuQCnALkAgcDSQIFAlICAQKPAXABPQE/AX0BeQFRARcBywDZAPQAiAAYAA0A7/+h/03/0/5q/mT+Nv5s/dX8Gv1F/ar8LPw9/Gj8jPxD/KH7w/tC/A38APx1/ID8b/ym/Nb8Pf2g/bL9Gv6f/sL+Hv+m/8b/yP/E/7H/EQCsALYAjgD0AGgBWQGDAQgCEAL9AUsCVgJJAosCoQKxAtcClAJtAq0CgwIbAgcC1AFhATUBVAFRASMBGgEhARkBIwH1ALMA0ACTAO//+v8WAJn/aP9t/x7//f4B/9L+jv5A/i/+UP4o/v395/3D/QT+S/4u/mT+tv6c/qf+3/4N/1D/QP8i/3b/qv+5/wAAIQAsAE4AVgCQAN0A1wDyADoBRQFFAWUBjgGpAY8BkgHfAfcB8AExAmcCVgI8Aj4CSgJCAi8CLgIsAg8C+wEUAhUC2QHEAcwBoAGPAZUBWQFAAUEB/ADkAPgAtAB6AH4AWwAqAB0ADwDn/8T/zf/N/6X/mv+X/4X/l/+l/6L/uv+0/6D/tf+3/7j/0//R/9T/6P/m//P/CQANABwALAA9AFoAYwB1AJkAmgCpANIA3wD1ABYBFQEjAUoBYQF6AZgBqgG8Ac4B4AHuAfcBBwIQAhACHwIsAisCKgImAisCMQIkAh4CHAIJAvkB6wHPAbcBmwF3AWEBTQEvARMB+ADgAM4AugCtAJ8AiAByAGAAUwBKAD4AOAA0ACUAHQAfABQADQAPAAoABwAMAA8AEgAUABsAJgAsADQAQgBNAFYAXgBqAHoAgQCJAJ4AqwCyAMMA0gDfAPQABgEcATEBPwFRAWgBdgGHAZgBoQGpAbQBwQHLAdUB3gHgAd8B5wHvAe8B8AHrAeEB2QHOAcABtAGlAZMBggFtAVsBTAE5ASgBHAEOAf8A9ADoANYAygDGALwAsQCwAKsAnwCZAJQAjwCMAIQAgQCEAH4AfACIAI0AjgCXAJ4AmwCbAKEAoQCbAJoAmQCUAJUAmgCaAJwAnwCiAKkAqgCqALMAtQCwALcAvwC8ALcAuAC8AL8AwQDLANMA0QDQANIA1ADUANMA0QDKAMEAuACwAK4ArgCkAJoAkwCIAH0AdgBtAGgAZgBdAFEATQBKAEMAPAA9ADoAMAAuAC8AKwArACYAHwAhACAAGgAkACwAKAApAC4AMQAzADEAMAAyAC4AKwAsACoAKAAkAB4AHAAfACQAIwAeAB8AHgAVABQAGAAVAAwAAQD9/wIAAgD//wUABgD8//r//f/6//X/8f/r/+b/5P/g/9z/3f/W/8f/xP/F/7v/sv+u/6f/o/+g/5f/kf+K/4X/h/+I/4X/gf99/3z/fv99/3r/dv9x/3H/cv9w/3b/gP+E/4j/j/+V/5P/kv+W/5r/nv+l/6f/pf+p/67/sf+2/7n/uP+6/8D/x//N/83/yP/E/8X/xv/G/8n/wf+2/7r/wf+//8D/wv+9/7T/sf+2/7j/sv+v/6z/pP+h/6L/nv+Z/5P/j/+M/4L/ff98/3H/av9p/1//Wf9Z/07/Rf9C/zz/O/86/zP/Mv8z/yv/J/8m/yT/I/8k/yT/JP8i/yT/KP8q/y//M/80/zn/QP9H/07/Vv9b/2D/ZP9s/3T/fP+D/4r/kf+X/5j/m/+j/6r/rf+w/7P/t/+8/8H/xP/G/8j/xf/B/8P/xf/E/8f/w/+8/8D/vv+3/7z/vP+0/7P/sv+p/6P/n/+Y/5P/jP+K/4j/gP97/3v/dv91/2//Yv9g/2T/Xv9X/1H/T/9P/0v/Sv9N/0z/Tf9P/0z/Tv9W/1b/Vv9a/1r/Xv9m/23/df97/4H/iP+N/5T/nP+g/6f/sv+3/7z/xf/K/87/1//f/+T/5f/n/+//8//0//f//f8AAAAA//8AAAAAAAAAAAAAAAABAAIA/P/5//z/+//5//j/9P/t/+v/6//l/97/2v/W/9P/0f/J/8X/xP+9/7j/vP+3/7L/tf+w/6z/s/+1/7D/rf+t/7D/t/+8/73/uv+7/7//wP/F/8//0//R/9b/3v/h/+P/6v/y//b/+P/8//3//v8EAAkADAARABUAGgAhACEAHgAgACUAKAAqAC0AMgA0ADIAMwA2ADYANgA4ADUAMwA4ADsANgA0ADYANQAwACwALQAvACsAKgAtAC0AKQAnACUAIwAiAB4AGwAZABYAFAASAA8ADAAIAAcADgANAAcACgAMAAgACwAOAA4ADwAQABAAEwASABAAEwAXABoAIAAkACUAJgApACsAKgAtADIANAA3ADsAOwA8AEAAQwBGAEkASQBJAEwATQBOAFEAUwBTAFEATgBRAFMAUQBUAFYAUwBUAFUATwBLAE0ATABIAEUAQgBCAD8ANgA0ADYANAA0ADMALgArACwAKQAoACgAKAAoACYAJAAkACEAIAAhACAAHQAeAB8AIAAgACIAJAAlACgAKwAnACQAJQAlACYAJgAkACcALgAuAC0AMAAyADUANQAzADMAMwA1ADkANwAzADUANQAwADAAMwA0ADMAMgAzADEAKgAoACsAKgApACkAJgAhAB4AHgAeABsAGAAXABUAEwAPAA0ADwAKAAMABwALAAYABAACAAAAAQAAAAAAAQD///7/AgACAAIABAACAAAAAAAAAAMAAwADAAYACAAIAAcACAALAA4AEAASABEAEgAXABkAGAAaABwAHwAiACMAJQAmACYAKgArACYAJQApACsALQAvAC4ALAAuADAALwAtACwALAAsAC0ALQAsACwAKgApACgAJwAmACYAJgAkACAAHwAhAB8AGwAdABwAGAAXABcAEwASABUAEwAPAA4ADAAMAA0ADQAOAA4ADQAOAA4ADgAQABEAEQARABMAFgAVABQAFAAVABYAGgAbABsAHAAdACMAJgAiACEAJQAnACkAKAApACsAKQArADEALwAsAC4ALQAsAC4ALgAtACwAKgAnACgALQAuACsAKgApACgAKQAnACMAJQAlAB8AHwAiACEAHgAdABwAGgAYABcAGQAZABYAFgAXABYAFAAUABMAEgAUABUAFQAVABcAGQAZABkAGwAcABsAFwAXABoAHQAfACEAIgAiACUAKAAnACUAJwAuADEAMQA2ADkANAA1ADcANQA3ADgANgA5ADwAPAA9AD0APQA/AD4AOgA4ADsAPwA+ADsANgA0ADYAOAA2ADUANgA2ADQAMQAwADAALgAqACkAKAAkACMAIwAhAB4AHgAdABsAGwAZABUAEgARABIAEgAQAA8ADgAMAA0ADQALAA0ADQALAAkACQAIAAcABQAEAAMABQAGAAUABQAFAAQABgAJAAcABAACAAMABgAGAAUABgAGAAgACwAIAAYACAAGAAUABgAHAAYAAwADAAUABAAEAAUAAgAAAAAA/v/9//7//P/6//n/+f/2//T/9P/0//H/8P/w/+7/7f/q/+j/6P/m/+L/4f/h/+D/4P/e/93/3v/d/9n/2P/Y/9j/2P/Z/9j/2v/b/9j/2P/a/9v/3P/d/93/3P/c/93/3P/c/9z/2//c/+D/4f/i/+T/5P/j/+T/5//q/+r/6P/r/+3/6v/q/+v/6v/q/+r/6//t/+7/7//u/+3/7P/u//D/8P/q/+j/7P/s/+r/6//q/+j/5v/n/+j/5v/m/+n/6P/m/+j/6P/l/+X/5//o/+f/5//o/+j/6f/q/+r/6v/r/+v/7f/u/+3/7f/u/+//8f/x/+//7v/w//L/9P/0//D/8f/1//X/8//0//b/+P/5//f/9P/2//j/+P/4//j/9v/3//r/+P/1//f/+P/3//b/9//2//j/+P/3//n/+//5//n/9//0//L/7//w//H/8P/x//L/7//u/+//7P/q/+v/7P/o/+T/5v/o/+f/5//n/+n/6v/n/+f/6v/n/+b/6//r/+v/6//o/+n/6//n/+f/6v/q/+r/7P/s/+z/7P/u/+z/6//v//D/7v/v/+//7//z//P/8f/y//T/9f/1//P/8v/z//b/9v/0//X/9v/0//T/8//y//L/8//3//n/+P/4//b/9f/3//b/9P/1//T/8//0//T/9P/0//X/9f/z//L/8//y//H/8f/x//D/7//t/+7/7f/t//D/8P/w//L/8//x/+//8P/w/+//8P/y//L/8f/z//P/8v/z//L/8//0//P/8v/y//H/8//z//H/8f/y//P/9v/1//T/9P/0//T/9f/1//b/9P/y//X/9f/0//T/8//0//b/8//x//H/8//0//P/8//2//X/9P/1//P/8v/w//L/8//w//L/9P/x//H/8//w//D/8P/x//P/8//0//b/9P/x//P/9P/0//T/9f/1//b/9//3//f/9v/2//T/8v/x//P/8//y//T/9P/y//T/9v/3//f/9//2//X/9v/2//b/9//3//X/9v/4//b/9f/1//X/9v/1//P/9P/3//j/+P/4//j/9//4//r/+P/2//f/9v/1//X/9P/0//X/9f/0//b/9f/z//P/8//y//H/8//0//P/8//z//P/8//y//P/9v/2//T/9f/1//P/8//0//L/8//z//L/9P/2//T/9v/3//X/9v/3//b/+P/2//T/+P/5//f/+P/4//f/+P/4//j/+P/4//r/+//5//n/+f/6//r/9//4//n/9//3//j/+v/6//j/+P/3//X/9v/3//b/9//4//b/9f/2//X/9P/0//b/9//2//b/9P/z//T/9P/y//H/8//z//L/9f/2//P/8f/x//P/9P/0//X/9P/z//X/9P/y//P/8//y//X/9v/0//P/8//y//T/9f/z//H/8f/y//P/8//y//H/8v/z//P/8v/y//L/8f/x//D/8f/y//H/7//w//L/9P/2//P/8f/y//D/8P/x//H/8P/v/+7/7//w//H/8P/v/+//7v/u/+//7//u/+//7v/u/+7/7v/u/+7/7v/t/+3/7v/u/+3/7f/r/+r/7P/t/+3/7f/s/+3/7f/r/+v/6//t/+3/7f/u/+7/7P/u/+//7//v/+//7//u/+3/7//t/+z/7v/t/+z/7v/w//H/8v/y//P/8//y//D/8P/y//H/7//w//D/8f/y//D/8P/x//H/8f/x/+//8P/w/+7/8P/x//H/8v/x/+7/7f/u/+7/7v/v//H/8f/w//H/8f/x//H/8v/y//L/8v/z//L/8f/w//D/8P/v//D/8//0//P/8v/z//L/8v/0//X/9f/2//T/9P/1//X/9v/2//b/+P/6//j/9//3//X/9f/2//f/9v/1//b/+P/3//X/+P/6//n/+//9//v//f8AAAAAAAD//wAAAAAAAAAAAQAAAAAAAAAAAAIAAgACAAQAAwAEAAgACQAKAA4ADwAPABMAGAAZABsAHAAcACEAJgAlACcAKgAtADAAMQAxADMANQA2ADgAOwA+AEIARwBGAEUASwBLAEkATwBSAFAAUwBVAFQAVwBXAFUAWABdAF0AXABfAGMAZABmAGUAZQBoAGYAagBtAGYAZgBrAGcAagBsAGwAcABvAGoAbgBuAGgAZgBjAGAAXwBiAGEAXQBaAFcAVgBYAFUAVABUAFIAVQBWAFIAVABXAFQAVQBUAE4ATABMAEgARABJAFEAUABMAEwASABHAEoASgBOAE8ASgBIAEwATABOAFAATQBNAE0ASABLAE8ASgBLAE4ASABFAEYARQBJAEoARgBJAEsASgBMAEoASgBMAEsATABLAEkASwBMAEsAUABVAFUAUQBRAFIAUgBWAFYAVgBcAF8AXgBiAF4AWwBgAF8AYABlAGUAZgBoAGgAagBqAGsAbgBuAHEAcQBuAHIAdwB6AHoAdAB2AHwAewB7AH0AfAB9AH0AfAB9AHwAfAB8AHkAegB6AHkAfAB8AHcAdwB1AHMAdgB4AHcAeQB7AHkAeAB2AHEAbgBuAHAAcABtAGoAbABsAGkAZQBlAGYAYwBfAF8AXgBdAF8AYABeAFsAVwBWAFYAVQBSAFEATQBJAEsARgA/AEIAQgA7ADsAOQA2ADoAOQA1ADQALQAqACsAKAAmACQAHwAfAB8AGAAVABgAFwASAA4ADwAMAAYABQAHAAcABAACAAEAAAD+//z//P/9//v/+P/3//X/9P/1//T/8v/y//D/8f/1//L/7P/q/+j/5P/n/+3/7v/q/+T/5P/n/+b/5v/o/+f/4v/h/+T/5P/j/+X/6P/n/+j/5//l/+n/6P/k/+f/6P/m/+f/6P/p/+v/6//r/+v/6v/o/+j/6v/s//D/8v/t/+3/7v/r/+3/8f/t/+r/7f/w//H/8P/y//L/7f/r/+v/6f/p/+j/6P/o/+X/4//l/+H/3v/e/9v/3P/e/9n/1P/V/9b/1P/T/9L/1P/R/8n/yP/N/8z/yf/J/8X/wv/B/8H/wP+9/7v/u/+4/7X/t/+7/7z/uf+1/7b/u/+8/7j/tv+3/7f/tv+1/7T/tf+3/7f/tv+4/7v/u/+5/7v/u/+5/7r/u/+9/77/uv++/8X/w//C/8T/wP/C/8b/xP/F/8f/yv/L/8r/zP/M/8v/z//S/9P/0//S/9P/1P/T/9X/1v/V/9n/2f/W/9j/2v/Y/9f/2v/c/9z/3P/c/9z/3//e/97/4f/h/+D/4v/h/+H/4//j/+P/4//i/+X/5v/k/+b/5//n/+b/5v/o/+v/7P/r/+n/6v/q/+r/6v/o/+f/6f/s//D/7v/s/+3/7v/s/+7/7v/t/+//8v/w/+//8P/v/+//8//y/+//8f/y//D/8v/z//P/8//0//X/9P/y//L/8f/y//T/8//y//P/8v/1//f/9f/1//X/9P/1//b/9v/3//b/9P/1//b/9f/2//f/9v/2//b/9v/3//f/9//4//f/9v/3//b/9P/2//j/9//1//T/9P/0//T/9//3//X/9f/1//T/9v/4//b/9P/0//T/8//1//b/9v/3//f/9f/2//f/9P/y//T/9f/0//T/9v/1//L/9P/2//f/9v/z//X/9f/y//L/9P/0//P/8//0//X/8//z//T/8//z//X/9v/1//b/9//0//P/+P/5//b/+P/4//b/+f/4//P/8//2//f/9f/z//T/9f/z//T/9f/y//H/9P/3//X/9P/0//X/9P/0//T/9f/2//b/8//y//T/9v/2//b/9P/z//P/9P/0//X/9//2//T/9f/3//f/+P/2//X/9v/1//P/9f/0//P/9//5//T/9P/3//b/9v/3//j/9//3//n/+f/3//f/+P/4//n/9//2//f/9//3//f/9f/1//f/9//2//j/+P/3//b/9v/2//b/9v/1//T/9P/0//T/9f/0//T/8//0//X/9f/1//f/9v/1//T/8//0//T/9P/2//b/9P/0//H/8v/0//L/8v/x//D/8//x/+//8//y/+7/8f/z//H/8P/v//D/8P/w/+//7v/v//H/8f/v/+3/7P/u//D/8P/t/+3/7//w/+//7//u//D/8//x/+3/7v/w/+7/7v/w//D/7//x//L/8f/y//L/8v/y//L/8//z//L/9P/1//L/8//0//P/8//z//P/8//z//P/9P/z//P/8v/x//L/8f/z//X/8//y//P/8//z//T/9P/1//L/8//1//P/8//1//P/9P/2//T/8//0//X/9f/2//X/8v/v//L/9v/2//P/9P/3//b/9P/2//X/9P/2//b/9P/1//T/9P/0//L/8//z//H/8f/y//H/9P/1//P/8//y//H/8f/y//T/8v/v//H/9P/1//T/8//z//L/7//w//H/8P/w//H/8P/x//H/8P/v/+//7//x//L/8P/v/+7/7f/u//D/8P/w/+7/7P/t/+z/6//u/+//7P/t/+//7//u/+3/7v/v/+7/7P/s/+3/7f/v//D/8P/u/+v/7P/u/+7/7f/w//D/7P/r/+3/7P/p/+j/5//n/+j/5//m/+b/5P/k/+b/4//e/9//4f/f/9z/3P/e/9//3v/d/9r/1v/U/9b/2P/U/9P/1v/V/9T/1v/Q/8r/y//L/8j/yP/J/8b/xv/I/8X/w//C/8D/vf+6/7v/vP+5/7b/t/+1/7T/sv+x/7L/sf+s/67/r/+q/6v/rf+r/6f/pv+o/6n/qP+p/6n/qv+u/63/rP+v/6//rf+x/7H/rv+w/7P/s/+1/7f/tv+y/7L/tP+x/7D/s/+0/7P/sv+0/7X/tP+y/7L/s/+2/7b/tf+4/7n/tf+2/7b/tf+2/7X/s/+z/7P/tP+2/7n/u/+6/7n/uf+8/77/uv+0/7P/sf+z/7j/uP+2/7n/vf+9/73/wP/C/7//vv/A/77/vf+9/7v/uv+7/7v/uv+5/7r/t/+1/7n/t/+1/7f/tv+3/73/vP+5/7r/vP+9/8D/v/+9/7//wP++/7z/uv+5/7r/uP+z/7b/t/+x/7D/s/+x/7P/uP+5/7b/s/+z/7T/sv+z/7T/sf+v/67/rv+y/7T/tP+0/7T/t/+4/7P/tP+5/7r/vv+//7//wv/D/8H/wv/D/8f/yP/I/8z/zv/R/9f/2f/Y/9v/3v/e/9//4f/h/+H/5v/l/+P/5//n/+P/5P/i/+P/5//o/+//9v/x//L/9v/z//T/9f/x//P/9v/1//f/+f/3//b/+f/4//b/+P/4//r///////v/+v/6//r/+//9/wAABAAEAAQABwAGAAIAAAAAAPz/9//z//L/+P/7//b/9//7//j/+f/3//X/9//0//D/8f/v/+3/7v/p/+j/7P/q/+f/5//n/+f/5f/h/+X/6P/o/+f/5f/o/+v/5v/k/+X/4f/f/9//3P/Z/9f/2P/X/9D/zv/R/87/zP/M/83/z//M/8z/0f/N/8b/yP/G/8L/wv/C/8P/wP+6/7j/t/+x/6z/rf+t/6v/rv+y/7D/q/+p/6j/p/+m/6n/sf+1/7D/rf+v/6z/p/+m/6X/ov+j/6L/n/+g/6D/n/+f/5v/mf+X/5T/lv+X/5T/k/+V/5j/l/+U/5T/lP+O/5D/kv+O/5L/lf+Q/5D/kf+O/43/jP+J/4j/iv+K/4T/f/+B/3//ev97/3n/d/98/3v/ef95/3X/d/95/3T/dP9z/23/cP90/3T/d/94/3X/df9y/3D/cv9u/2n/a/9u/27/cf9u/2j/bv9y/23/bv9u/2j/af9s/2n/bP9w/27/af9p/2n/Zf9j/2P/Yv9h/1z/Xf9m/2f/Y/9j/2L/Yf9j/1//X/9h/17/Xv9i/2H/Yf9h/1//W/9X/1f/V/9W/1f/Wv9b/1v/Xf9e/17/X/9j/2b/Z/9n/2f/aP9q/2n/Zf9l/2n/af9q/2z/aP9r/3L/cP9v/3b/eP95/33/ff98/37/gf+A/4H/if+M/4z/jv+R/5X/l/+Z/5z/nP+c/5z/nP+i/6P/nv+i/6T/o/+o/6f/pv+l/6H/ov+l/6D/oP+l/6X/pf+k/6X/qP+p/6r/qf+p/6j/pf+m/6j/pP+j/6X/ov+f/57/nP+c/5//oP+d/6L/o/+Y/5v/of+X/5X/mf+a/6D/ov+f/6L/o/+g/5v/mv+g/6D/of+o/6n/q/+u/6n/pv+o/6n/rP+u/63/rf+t/6v/qP+q/63/rP+w/7L/sP+y/7L/rv+t/6r/rP+w/6v/qv+u/67/rv+q/6n/rf+s/6r/qf+q/6z/qv+s/67/rP+r/6v/qf+s/6//sf+y/7L/s/+y/6//r/+t/63/r/+v/7D/sf+t/63/rv+t/6//r/+x/7P/tP+4/7n/uf+7/73/v//D/8P/xf/G/8X/xf/H/8n/yv/M/9L/1v/X/9j/2P/Y/9v/2v/b/97/4P/h/+H/5f/n/+j/6v/q/+z/8P/v/+7/8P/y//L/9P/1//f/+P/5//r/+v/6//n/+v/5//j/9//2//X/9f/0//X/9f/0//L/8f/v/+3/6//p/+f/5v/m/+X/5P/l/+T/5P/k/+T/4v/i/+D/3v/d/9v/2f/Z/9j/1//X/9f/1v/U/9P/0f/O/8v/yf/H/8b/xv/G/8b/yP/I/8f/x//G/8T/w//C/8H/wP/B/8L/w//E/8b/x//I/8n/yf/J/8n/yP/H/8f/xv/G/8f/x//H/8j/yf/J/8n/yv/J/8n/yv/K/8v/zv/Q/9L/1v/Z/9r/3P/e/93/3P/b/9n/2P/Y/9f/1v/X/9j/2P/a/9z/3P/f/+D/4f/i/+P/4//j/+T/4//k/+b/5//p/+z/7//w//L/8//y//L/8v/w/+//7//u/+7/7//w/+//7//v/+7/7v/w//D/8f/x//P/9v/5//v//P/8//z//P/6//b/8f/u/+3/6//r/+7/7f/u//H/8v/x//L/8v/v/+3/7f/q/+f/6P/n/+T/5v/l/+L/4//h/9v/1//T/8z/yf/K/8j/yv/O/9D/0v/V/9b/0//Q/8z/xv/G/8f/yv/S/8z/u//B/8f/vP/A/8D/tP/A/9T/z//G/8b/xf/B/8f/0f/N/8r/0f/O/87/1P/Q/87/0v/P/87/1P/Y/9v/2//Y/9j/2f/e/+L/3v/e/+L/3//c/+D/4f/j/+v/7v/t/+n/5v/s//T/7f/k/+7//P/7//3/AwD1/+v//P/5//L/AgD+/+3///8NAAMA/P8DAAsABwAJAA0AAQAAAAYA/P/2////AQD8//z/CAAHAP3/9v/m/+n/AQD5//X/DAAIAPn//v8FAAsADwANAAkACQARAAUA/P8OABYADwAUABgAGgAcABsADwABABMAHgAIABIALgAjABgAJQAwAC0AJgAoAC0APQBFACsAKABCADwAJAAVACAANgA6AEAAOwAsAD0ARQA/AEMANAA4AFEATQA+ACYAKQBFAEYATgBBACEAOwBAADUAVQBNAE4AZwBcAHAAdwBYAFwARwA9AFQATQBZAFsATQBqAHAAawBkAFcAfQBxAFQAjAB4AEoAawBxAIAAoQCgAJwAgwB0AH0AgwB7AEoAVABqAE8AnACpAE8AhACzALkAwQCCAJoAkQBhALkAegBLAMkAtADIANAAawDHAAMBFQE0ARIBkAErAZsB3gNeA3kGMQ6jCzIE5QLK/+78cP8IADf/MgBQAC7/7f4HARQB1f4nAXICTf9+AOYBoP6U/sUAhf+8/qQA9v8A/XD+FgEfALYAkgJIAhACdwFEAcEBWACLAIkBIQCKARMDvgCDATMDvgD4AN4DdQLcAOUDGwU0AikC3AOXAfn/GQLUAcn/LAGgAY3/oQBLAXn/5wCvATUAVgGbADL/zgFJAiEBiwGjAKMAlwAX/4EAUgEAAAUBbQE3ABwAkADNAT0C7QCAACEBnQESAa4ACwLHARwA9ADOAZwArP8sANMAZAAQASUCYAH4AU0CWgCiAKcA5v92Au0Bpv6BAMkBs/+WAOUB0gAqASYBKf/VAH0DLQBa/oYBDwGS/7MB4AEBAOr/5wCeACQATAKFAU3+fQHNAUX9qAE5A8n8Zf9wAkn/+QFvAlL+RQGdAqD+6P+xAWz/XwAMAsX/MABbApz/rv6BASsAuf4cAO3/9QDzAQEAGQAJAaUABQF5AFYAIgGxAHsB1ABH/goAoQBn/lwBnQKr/sb/SALh/+z/twEt//7+igKJAOD93gCrAFv+eQCtAOb+KgBSAWgAEP/eAGgCQP4e/xkDKP95ALEDIf6i/3wBKv6oA70BNfw6A6MAA/4nBRH+yfxTBVr+rf1WA2n+0f+nAaz/rQKVAIYAPgJ+/fYA3ALE/mQC3f4m/CAE3f/5/FYEVABG/Mz/2v+u/5H//f8nAbH+If4qACgAc//5/mH/h/9ZAMsAXv54ANoBWf38/zcClP4hADYAdwDxAvf+8P4mAan/pwGA//L+qQE1/ekBQARk+1ICQgNS+xUF6gHn+X0Dtv+V/XwF7f7Q/ZL/SvzZA/YAXPqoAkEAevzxAYv+fP12AGD/kgBk/x//VAAP/lwBqQGU/QEBIQCs/rcB8/3N/4ACNPsS/uwCNv/BALn/SP5mAtP+Xf51A07/Uv2G/6H++f8i/zb+3gAmAO7/cf59/JkBDgAx/GQCYwHl/VAA0/2CAOsB6PviAsQDHPsZBBIDPPiQA2QEwfcmANcEoftx/yQEcPz1/X0G+/6C+lYFmABE+X0E9gIY++sB+v+d+R0BPwY+/vX4PQINBAf7DQKjBdP7xv5wAd//0wF3/QMA6/7f9i0DjAPQ9/gBdv9D+2cGvvw1/ewH8/kE/QoHj/1oAPD/J/viA7MA//wz/+L6ggCu/976CgXw/ZP3OAanACf67QRFAHz7QAHA/iL9Xv96/tz+wABoARr/mv7QAP39JP6KA00AlvzeAIUA3v7hAtb/Zvz6Az0BFfsvB90DIvOj/7AHy/fs+gwE//zF/OcBoAK5APH6Of4SBZH9ovtbBHP/XPp0AOH7aPniBPkB2P0GBy7+mPqKDCgEV/kXBh39tfa/B38A6fc8A/T8XPiVAuv83PiEBI8C/vWd++UGK/47+fUEgwGH+D3+if7V/VcCHQCZAh4ET/w+/jMD2QHiADb/5QLg/j3zjwFMCnH4Ev5XBqv6kAWOCV/2bv//BxX4w/17BmT3hfeZBjMB3vUh/+gHhv2W+1EGOgHK+jgE9gVS/bb9CAUmA2X5Uv+FCJb4uPX+Cn4CafS8BFIFPvk6AC0B+/4CB+IEOf8x/wj+Tv50/HEArweB/aX4DgFr/s7+qgB5+6H/wvzi/CcLnPt+8kILiQCm9FkOMgYH9sQIOAbN+CMEbArMAV354PzuA4r5WPeUBTj9W/PXAS4Cl/cZAe0FFPsm/M8DwAAV/8kEsgPB+3T91wAL+fcAjRDE/9P56xFaB9Pz5wOeBtP7SwEwBfEEdPyI9Y8FBwMV8f8DYBDF/eD+Hwbv+0H6zP77/tgBOQDH/KsAMv95+x0Bk/+X+/UEhwQU/H0AR//f+dv+zf7F/akDNAUyA4L/wv9OBAwBRwGBBZED/QnICpz/5AE//7b5/gURAEv2fQZyAmP2QwT6A6f5A/80A/kH2ANV9aH9kQPe87r4wQYGAtX+WgCx/uH8+/xSATQC1QJDBhkC1QJyAqP4jgHGBYT5UQMzBYX97gra/zPzjQdvAx78VwrMBAL+lfvf+rEJYACh9dsH7QBX9S4AgQCr/+z4X/a8CH7+SfR9CvMBHfaiBvz+0vKa/4MK9ASK+TwCVwj6+QYFAQ/s+VL9vws5Arr7zv2ZBkIHTfX4+3gJAPd6+W4NPv/x9zsHCgNh/T0D7/zv+vUC8v2T+cD/8/4I+vj8nAJZ/zH7WQI9AkT7FwILBFL9vf4v/Mf6wwFyAhgCTwJGATADqP38/MsGcgFO+rEBZQOj/YT8UQHxASr5ovoZCI0EzfFZ9C8GZf3O9SMJE/9k7dEF+wlL97sBGwiY/0IAlwK3ATT9rP1Q/MTzMQRbDBnz+/0/D1bxQfQBFukCNe5PD6sTPers9WUVkPzV91oOAv199WsDYQHCAiP/ff2uBxj7sffPBz/8EPaPBOz/OvSJ91EFTwcn+H769wV7/kX8QggqCWX8Y/xNCLEBxv3nCC3++/dACBgFqP0nBAIGxwTS/Yz9VAjVAO/7zQdmASz2PfwlBPQF0P53+f0ADQZIBEoD+v7B99/4bwH9/+v85AU9Ap32BPzP/Gb4JwD+/yn88ALpAh0A5QK1/8b7Gv1XAbgFFwCk/ZcIEQWp+1YFYQV1/NAFtAdQ/bYADwWwAHT8Of1TA/7+J/kOA24DIf4rBkoCmfgr//4EiQTOAUkAbgXPAA75PwIrBe76AfsDAcAC1wNfAo38IPrB/2cCif4vAbYF9f8A/GgBFQCt+Z4BqggD/4H/1Ak2A5T5JvttANUEKgDX/l8IswHC97ABugAu+HkDmAZS+U/6tAG6/kP7V/u3+0D+fAOjBBz9UvpEAR4CAgAsAkIALQK3B3UBmPu4/bP9RACDA4gCFgR9AyL+QPuy/KYA4AC/AFMEIAG8/ssBK/vJ9yIA8QHIALsDhQSSAfT8CP5I/rb6cwXsDI4BGwHdBgkAa/ua+4v/0gQ9ASgC0AbgAG79n/2s/BcBBgLNAt0HhQIk/OL85fk8+YL7Xvv0/Uv9Ffo3/Gb62/OB8lT1V/jY+FL42Pmr+BL05/Jr9JryyfJG+1r9D/QM9Mv5WvUI9Ef6FPrc+MH+9AE6/Vr6G/7NAGEBQwSPBvMHhgggBZAEtgmWCh4J3AwTDtcJIQoLDbUKlgixC7kOKA1bCkgMdg4qC6kJqQvyC4sMswtaCQELOwtMCLMIigeRAuIBVgTJAeL71vq9+2L3//O39dP18fJw8CPwKvBY7APo+eUx4pfeet1d2l3UC9Du0QLXaNdj1/HdreL74MjiEeod7znxBvS0+FT+sAKoB0ANzAxmCh4PZhN8EQUTbhjoFXEPvhIaFmkOXAy4EYYNKApTD+8NbwlwCgQJrQQEA+8EaQn6C8YMUg/gEEoQZBADEoATThNiFJcWphW7FYUXFxVSFNIXVxgCGWYbuBlVF/UWWxXREjIQTQ6cDCcJAgagArb9RvtN+f7zyO4S62rn8OJr3iraRtGixmXBnrxwu7vEFswLzv3T+tjf2S3eJufJ76H1DPwTA8wH7g5nFkgWhxTtFcgWaRiLGtwZmBcTFf0QjwyZC1kLDwiNBXwBMvtC/L3+ZPnY9dD3Z/ka+T/47fpZ/pP+ngFaBRIGagoCDxIOxwznDfEQ8xMqFSMYpBsAHIcdRSGvIr0iViMqIr0gmSL7I8whTB9lHeQb0Bo6GIgVTROgDsMI8QOR/+P6a/Yr82bvJevk54viRN0r2gXTxMt3yLvAaLcysZupcqn1tdTBeMpR1abdMOM468zy1fidAgsN3BKbGMgfviRbKN0nJyBMGoEbwBs5GR0YWBTJCyEDPPsT9uj19PM17mbsHO9T8HDu7uyh7t/xrPUA+zIAJARYBwcJWQmLC34RoBX+FFoWNxj0FLQTNxVrE/gURRmoFiYV5hoCHS0cpx8oICUd/R+zI6ciGSM2JPAhdR9DHSAbWxrQFtkPjgtuCcgEof6v+BLy0+ui50bl3uJ+3sbZH9bo0QjOXMqnw4m5t6z6oRaimK60wr3VUuH/6o30sflY/iQDygjCFbAigCelKj8vRjFAKpUbCBM2Ed4NegyYClYCIfvm9gvuhuRP5KHoveeF5vbqXfEu96v5cfgb+nD/6QQeC0sRjRVZFwUX5RUAFT0VqxSEESUPZA6SDdoL4AeOBfQFewRxBWsKZQ4OFaEchB2XHrElfSnBJgEo4Cz0KigpNSzXJscduBvKFSkMSAnYBnMA+/ln8hTqeuTm4QLg6d0b3PfY1dSk0qXQlcs4w+O3yKq8n76cMaafu8jVsehK8mP7jwQqChgQFhjnH6Indi6NMmMz3C/rJjEa7wy9Ah3/Q/8N+zLzqO6e65HlV+D4343hdOTZ6zX0JfpjAa4HnQdhBWIHfQ5OFrwZvBr0HBseMhtSFWwQtw28CQwE2QBEAMD9UvsY/vL/Xv6ZA1QNrhJpGU4kcywJMKUyKje9Odw2NDT6MW0rFyWPISccuBSXDi4JBwJO+0T3IvNT793sCunK5gnoaee15Gvild6T2ZXV49AWyS2/G7SSp5ieeqGGsvTL4eOu9RkD0AumEa0Y2x1DIMolnyxOLgwu7S9RLJUd1Qq8+g3wmewY62vnzeNn4P3eCeAT3x7gCefv6+ntLPXhAeYNRRZLG3YcSRu+HAYfUB0mGyUa3RbXErgOkwjIAmb98/VZ8OfvSvEE9DD6GQCHAx0KWhUcH3Ummy4sNWk4ajvbPRg+Nj1WOMktIiQfHj4YKxMoDmkFSv3Y+Tv1u+5f7Orrl+k36KPoneo27prtF+Zd3q3ZFdZT1OXSlsy/wRy2B6rcobanYbwi1QDrZf4fDqsW5RiMGQQbZB12IU4mCSkRKQEm2RsUCkb4I+wi5QzjjOQz5fDkQOYl5ljjIOTF6aHukfRgAA8NkhVyHEwhlyBvHbQc0BtyFy8TwBHOD90KyASk/yr6IfN57oPu2+5H73v0sft2APQGPRFbGg4iGivNMus3cTwyPjM8fjmWNNQrDyQTHlYVHA3iCVQFwPxz+Af5MPfd9E/26fbH9Ej1xPep9szz7PJt8ObpROM73j3Zn9TBzyPIc77xs2enkZ1UoG6ws8cm5F0AThLbG00k+yabIqEiCifjJVEk/yeqJcsZTg0j/fPmY9n/1wHWUtVO3dXj5+PT57ju7PDl9Bf/mQf/DSUYkiGXJCck+SHFHHoWnhDhCkcG9gED/Nv2lPRV8hzvnu197WnsruyH8tX8/AZNECUasCGCJTcrKjT+OOU4XzoYO9c0uysVJaMdVxPMCVIDsf8D/l79Lv49/wn+z/1gAUgCuP5s/5oCqf1q9Sz0U/R+78Lq3+a63ybZCdda1bHQo8iJvHWuy6Imn/SqRMVO4bv4ZQ/6ISIqCC35LxgvqCrsJx4lyB6pF9IQSwbR9hzmptgt0J7LPcvr0K7aN+QC7fn1G/6NBTUNtBPvFx0bkh4mIm0j6h9YGX8SZQpbAd760vZ38zvyNvKo8DLwovLs8zb0mve9/LYCTQydFd4Z3R7CJwctSS1ALwQyrzDpLJ4oZyLFGykX/xJdDfMH7QUgBxgHaATHAxsG2QWwAgEC3wMdBGIBAPwI9bvvAO7E7bPrEecJ43bhtd7A2V7XzNVOzUe/pbLTqfCoIrSMxgbdMfqVFrwnPzHzNQoxyyjHJA4dohELD8kOFgML9VTsx94xz9vK88x/z5LaZOtc9kz/PQvPEiAVqhcgGHUX0hsgIM0dYRpKF6MOYASE/l74v/Dd7TfuYe2r79L3DwB0BCUGMgbJBVwG4we3CtUPSxZqHLohxyXuJzwooCbAIqsdwBpCHJweWBz8FkETtQ9cCqAHJwn/CTgJwAnBCWwH/wVgBdkA/vha87bxSPHI7yTuc+5Y77rt1eoA6e3lPuDh2lXVCcwCwWa47LFMr3i3gsw75+X/MBSjI90rUiy2KRMnzyArFhIN6gX5+87y4u4I6b/d7ta71/vYLt0O6jj32v08BSoPCBTUFTwaiRs1FqIRgA+7CiEGqgVTBNv/Yf0A/Zf6kfd79hf2MfdI/FsDnwgaC+oKcwgtBc8CewMtCMYNqBFcFqwc1yBLIxUn5Cj1JTojNiIgHtIYjhe4FhUS1w0aDGsJ0AZLB1EIqgc2BzkHlgb1BQwFuwJp/6D6N/Sv7+zu9+5g7rjtNeu05p/jguLr4G3dPtaByky9jbL5rr+4T85Z5t794RTHIx8oFCoxKTsfWhOxDIEEyvoH+Wz6DfR76ibkp93J2ATcLOS/63f0/P7dBxsO1RIZFnkWcBKfDK8JTAhSBe4CZAGC/XX6APyG/YL9AAHiBdQGVwdQCmILrQkvCNYFyQEL//r+BwDDAFQCMggrEYUX2RwbJXcp2iagJzAsZyp/J1YquiZWGbYRmA9LB1wA+QKRBDMCKwUEClIJrAg+C3kLHQn4BusDAABp+yP1yfA/8LntMOjM5MfhDt2Y3OjfNd5L13/PY8SDt+myC7vZzLPlDQHsFzAngS4hLcUkMxneDLkBXPmL88vvC+717NXqPudb48rhx+Oi50HthfZAAVcJ8w6mEkwS7w7+C7AIlgPh/8v/wwD7APUBPgTABV8FzwRqBX0GPQhYC2MNVgyfClUJsQUUAO77a/kG+I35Bf59BOQNihhWIH4l1SkBLC8sdyx/K2YoCCb1I6IeWBcpEfsKKQQv/yn91P1GAZIF9QfqCBgK+ArTCv4JsQcUAwD+Qfql9kXzDvPm86zviuiu5YTl/+NC5LLkt9xHzhnC1bfDsBO3cMvW46j8RRQ4JGYrnytmIpMT7wYD+ojs4eeO6fTn8+jz7ibs5uL0497poOmd7hT9ngXKBy8O4RFBDEgHkwV8/3b4CvjG+zMAjAXHCpwPeBNdE2MQAA7NCk8HGAiuCj0KTQrDC9cHlv+m+kn4U/WI9T36of+BBnIRfxx8I9AoTi4UMH0slCjNJjIjcR2gGdEV5w4XCrIJCwdAAoMCewWVBQcHjwzIECISxBLwELQMUQnxBewAz/uj9gfyJ/HM8Vnvvuxj7LnpQuWv5GjlGOH81wjM677etuu5Uci03jL3RwyDHC4liSK6GZ4RYQa/9mjsa+mp5kfms+s+7mXqAun96jjqC+va8hr72P4OAoQFQQYVBr0GAwUHAL77GfoG+vf7KQEYCLENChFvE1IVrxUvFCoRPQxOBuYCLgMyA+AACf9O/eL37vEA8gD2LPq4AgAQ5RkzIOEo9S5RLNUoxSl8J8EgSh1LG/8UIw+8DWwLFQc7BvQHfwfnBskJbw1qDgUOvw1NDKEJzgeOBqkDsP9N/Hz4HvQ48oTz8/S69D/z8/CI7mzshemx48nYcsnvumiyiLIqvxXYHPOgCEwaOSWwI/obHhRZBlz1le3U63TnGeim79fvmulM6qLs1egW6vvy1PXB9GP7cQJZAT0BqAWxBHb+KvwB/Qf86fwjBMkNIBT9F0Mcax1hF+UP+gwlCVEBc/6HAmADfQDbAcoChvtG9DP1nPfG+AwBNQ+kGCcekyaJLVQtSitCK24o2SEtHHMXixGeDE8KEglACLAH8AYvB1IILwhCCL4K6QuwCc4IGAoUCfgG6QavBcwBO//X/db6mfij+E33tfNO8OHsZ+m756jlit6J0u/EKbiNsOu03Md847z+LBVFJS4rKCa0HFwR6f/x7IHjqOH+37LjaO8k9gnzC/Il9XvyK+1M7inw++wN7pr3rv7g/vz/pgISABf7XPx1AoUGyAm1EC0YZBvFHIserBsOEukIVgSr/2b6p/oq/0IAS/5J/jT+W/s0+hn9WwA7BEsM/RXNHBoidCcgKlkpZSdBJE4fMRocFQYPfgoqCmMLaQvKC8IM+QtaChgKUQnVBscFsQZfBpUFOwcKCc8HTwVzA1ABJv/C/er7Xfls93H1NfJ67uLqgOef5Crgf9eJzITCfLqsuM/CyNZY7pwGdxogI+Iiph7yEvD/0u/t5Uzefd3i5kLw9PPn9+D5kvM37THuDO7w6XXrCvKx9a35GAEhBGcBswBEAaT+7P3wAoIIogxfEk4YZBsqHEkaZBSrDCgGagF4/on9yP4FAk4EcwK8/mv8MfrP+E/8rQLNB5cOrBePHDke9CNMKiAq2SdnJx0j0RpzFdgRAgyJCK8JOwkRBqQFgQePB7QG9gaGB0IIgwkGCk4JNwjhBlYFAQTLAuYBXgGV/937YPhg9qv0cfKO7zfsy+nG543iL9lEzvvCmblEuILBBdLH5wMA6RKPHFcg9R0sEmIBTfLU5e7dj9505PXp2u/49Y33QfXS8zXyYu7K62HsRe4i8ub4Pf8LAwcGUwhrCOgGXwUMBSgHFAs+DxYUTRnaGwIb2BjWFOwN0waZARn9KPrq+jD9f/2I/Gb8+/yT/Xb+tABDBXwLRxJOGhkjESmzKv0psibEH/gYhhVTErUN4gu7DVkOmgwIDHkMCwvJCCgI1QdQBugFGggNCiYKEQtvDYMNbAqrB8YF9AHW/GP5o/d79jz2FfY89CjxTu5C61nmI96u0orGsbz2tmS4BsSS10btAgLoE10fPyIfHfkQegCJ8I/k+N1t3fngCObs7Bn0m/Y09dT0KvPx7APpK+wG8IDyX/l3AQQDigIFBjoHZANUAwUJ4wxSD+QV5xyNHpUdthydGK4QVAksBHz/0ftJ+x39ZP46/jr+9/4V/5b+d/9JAg8GDAvnEVYZch9rI/ckJCSJIdwdLRqAF0MV0hKUEe8RTxH3DmENXQxLCaAFvwRaBRAF2AXQCJkKNgrvCnsMUAvcCLMIZAjaBKIBOAHR/3X8r/rP+Avz6OzV6crlhd8+28LWysygwdu7x7qev0nPrOXy+aYLFBucIdAd6hWVCvH5VerV4Wjea9/M5pHvjfPy9I/2w/Vv8p/vh+xh6EvnWOuM8Y74gQBRBtsH/wcgCSwKAwvqDEkPexExFaAaFx6+HO4XyhHvCuUE1wH1ANH/tv7P/pj+N/3L/KD9Vv2//ED/pARFCrEPzRQaGCAaER0qINcgcB8MHqEcIRpKF08VbhNhELoMkwnQBtYEyARmBX4EugPpBT8J0wrDC18NYg7kDuwPww8hDQwKIgd7Av/8pvlO+Lf26/NQ8GDtcOz86wzpx+Jt2ZbNfcLVu8K6QsGi0U/njPqqCg4ZfyBVHcwTwwZj9tno2+Pn4kbiwebM76D0avRX9af1+fB468To6OWk5IfqiPND+Nv7CQP+COkJBQotC9oKAQueDn0SXBSGF4EbuhpWFacQPA1nCBEDHP9h/Nf7P/5ZAFv/lf2B/d795P05/7gCzAeiDbUSMBanGf4d8CDBIPgebR07HM0aRRhKFKIQMg+1DuIMUgrNCOgHSgZKBFoDSgTSBsAJsQuVDNIN5w/xECsP6gu1CVwI6wVhAif/YfyW+dj2sfPy70vtYuwZ6tnjNdsh0qXIjsDqvc7Cqc7S34nySALkDQEWuBjoE1sJy/wo8Q/pfeXt5JzmAeso8FLzJvW89kz2MvNe72Lr3+cz6Ozst/GI9Zz75AJfB+YJigx8DRYNIw+rEusT3BQPGJsZ+Bb+EwAS7A2bCBMFKQIu/zP/jQFxAdv+Zf30/Gb8rP1CAQgF9gjTDe8RxRQwGIEbVhxyG5kaiRmxGLoYXhd/E2gQZw+MDZgK9wibBzkFpwSXBl8HAgeqCKkKYwpGC4IPexLQEc0Q1Q+KDBUJ5AehBaQASP3O/Pv6afeb9ZT0KPGx7KDo2eEu157MeMQpvrm8o8Tl0wHlp/ZTCAwVAxkqFjAOgAD78G/mtOH134DiEOom8V30J/c++kD5dfTv7+TqceQ14vjmUO258nT69wKmB6QK/g65EOkNAgw8DV0OXBC5FSwauhnmF+UWURNCDeAI2QUJAu3//AB1AcT/5P5z/6b/dADTAlAEBwT7BJ8ISA0JEqwWsRlhGhkaiBn2F5UVexPiEZ0QIRCIELoQlg8zDXIK+wcpBjkF3gSsBD4FYQc8CrEMaQ+fEkcUNhPFELsNEQpQBxIG2QMQAMT9M/1C+yv45vVd8sDrEuWl357YZtBJypDF28G3xMfQNuC97ob9ngqOEfUShRDeBxr6He6c5k/hrd8s5PHqpu988w73xPe99RLzE+8B6r3ne+k67HvvRfWz/GUDzwgYDEUMTgtUC1ALLAuzDQwT2heqGsobGBqjFQcR2gy7B0wD3gFLAT3/Hf7T/6gBwQHbAZ0CNAPfBFkIxArQCv0L9w9WE2QUoRWFF5UXNxbkFeQVnBSOE34T9BHLDhMNMgy1CDMEYwPWBfUHmQmjC50MqAweDjEQNRByD2UQVREiEJsOIQ59DEgILwPd/sf7M/pX+Vr31fMw8AztT+nK46ncH9X1zaHHacTGxx/SH+AN79H9SwovErgUoxDlBF31oujX4Nrcld044+Dp0+5A8xX3Ivhz9vPy9+xR5uDjhOaK6snu1PT5+38CLgjkCxgMgAqmCRYJxQgZCw8QhBRVFxoZohhHFb8QdgviBIr/5/2v/Zj8w/xi/8EBngI+AzsDNAKuAnkFfgcACAoKxg1cEOAR8RP8FGQTOxFTELgPTQ8HEI4QXA9kDnEPQhCKDqMLagnZBxgHvAfrCLQJ7ApEDdoPJxKDFC8WzxWdE+wQaA4cDOoJhQcPBQcDBAEq/tb60/ev9Obw9uzh6Arkx95g2e3SJcyiyLjKitFZ3MDqs/laBdkMPxDxDbMFQvoV7gvjr9xE3RLiTOeT7Ejyv/av+Cn4o/Qf7kjnA+Ps4fjjTumS8MH3ov6qBb4LEA8KD5oMHQoZCrkMCBDgEkkVsxZ0Fs8UtRHcDI8HbAMmAI/9Gv2O/jL/j/4E/+QAZwKKA/0E1wVjBskIdQyTDqkPKhLfFEAVWRSwEwQSFw8tDb8MgwwtDUwPQRCRDtUMkwy7C4kJ5AdlB18HgwgXC2ENvw5yED8SxBKoEicTFxP+ELoNwgqFCBgH5wV5A7P/Tvzi+VD3SfRy8ZruVuvU57XjWd6c2NPTVtBVz17Tu9xp6OPzXf5sBmAK/QljBaH8P/Jb6iHmEuQm5ELnBuxT8ObzdPZi9mvzL++F6uXlgeMR5STp+O1e9OT8WgVfC4MO5A72DMYKYQpcC4kMZA5XEb8TMxRXE6kRPQ4fCSgEhgAb/j39If5Q/6T/WwCRAuIE9wWEBgQHzAZmBlEHMAmuChwMIQ7CD34QihEAEzcT/BHjEF0Q4A++Dw8QrQ9cDm4NTg0fDccMtgyVDDkMUgwWDQAO+A4HEMAQQxEREoUSrBEBEEoOXwyGCkQJjgdhBDoBcf+i/dj6SfjU9ePxUe3m6SnmXOB12lPWUNPC0sfX5OB+6RjxXPlIAG8D7QPqAVD7JfLS6y/pq+f351nr8u6z8OLy7vVh9lvzU+/K6rPlLeM35RPpu+zt8Sr5DACHBeoJBAwoC3wJ2gjoCKAJsgtUDiwQQxHRETURTg+JDPcIPgWsAjcB//99/1AAcAFQAvADBQYDB3EHlQg4CWYIPQjqCYMLnwwfDzgSUhM0E9ITzRPjEVcQQBByD+QNIA5vD+8OaQ0wDSgN1wsDC6YLyAszCy8MeQ64D1QQHxIOFDgUVxNxEqUQ3g3kCw8LtgloB0EFOgNlACX9cvrL9yv0DvCS7I7pGeYG4qndW9lo1gjX4NvZ4rDpJvBn9m/7R/7j/gD9Yfiq8lfu7+tz6uHpmOqz63/s2O307+vwZu+C7LjpbudY5nLnKepA7TTx+vZG/dQBbQQNBtIG9gbTB74JMwu5C8EMoA6/D4kPzA5QDXYKggfhBa8E3QKAAW0BlQG7ATADngXlBsYG5AaKB/kHnQjSCZMK2QpaDEEPaRHxERsSYRLuEdUQ6g8mD14OKA6WDrwOdg6kDjoPFw8IDh0N5wzKDDUMbAsHC1oLZQzgDVMPeBCJEYoSphIoEcQOqAytCvoH0QQhAgIADv4+/Fb6y/fp9Gzy1e8S7HDn7eKh3sna/NiB2sTelOQ8687xNvcf+1D91PxU+Vf0xe8x7JHpJujz54LonOlL6x3tWO6u7hbujeyE6gTpyujL6dPrCO9w83r4M/3ZADUDpATHBe4G7genCG0JsgpaDLQNIw6UDWEM5gpHCYAHogXnA4wCqwFPAZABeQLBA+AEfwXVBWAGSgcvCLMIDgnaCU4L8gwZDokOlw69DvwO2A4TDi0N3AwpDYANhw1lDUkNJg3hDHYMAwzOC/kLLQwNDP0LowzHDZAOvA7cDncPixChEQcSYxE+EFkPjA4NDawK9wdMBYUCk/+0/Br6vPeC9TLzifCX7a7quedP5OfgD9/U37zis+YG60bvI/N79sT49fjR9onzYPCX7TTriumY6PDnjOfS58joBOoY647r/+rH6RbpsOkY64rsMO638D/0YfiW/CEAYwKqA84E8wW6Bl4HSwg2CcIJRgoIC48LeQvyCgYKmggJB88FxQSpA+YCDgP3Aw8FIAY0BxoIogj7CEsJZQlgCdYJ+wpHDGkNfw48DyIPiA4kDusNjQ1DDTcNDA24DKUMwQybDE0MQwxrDIAMogwEDWcNdw1IDTINXA3KDYMOYQ/wD/UPyA+YDwcP/Q3pDN0LXwprCGYGRgTdAXD/Ev1o+pL3JPUH84LwZ+0k6hfnkeQE47XipePS5Rvp8ux98A7zavSY9IzzWvGi7jDsSOri6CLoF+iJ6GzppuqO65nrHuuf6v7pI+l56G7oS+lk663uhvJm9h76Y/3G/y8B8gGFAk4DZgSkBf4GfQj1CScL9Qs+DP4LfAvTCsQJUQjrBsgF2wRVBHYENwWTBmQI/wm5CpUK9QkZCVAI5gfbByUI3wjYCaYKOwu6CxQMPwxXDEkMAQy+C58LZAv8CqwKnQraCmsLEgxnDGsMXAxVDH4MEg3+DQYPAhCkEJIQAxBxD+gOUA7NDVgNwQw0DM0LIAvnCWkIuAaMBPgBVP+2/DD66Pe29WfzQ/GZ7yXuWezr6SPn8ORX5JLlIehn673uh/GP87X0h/Tn8mPwe+2C6jnoROcz50fnaOfM55foAerN6+3sruys6+rq3OqJ69Dske7x8Cf08Pep+8X+8gBAAh4D5gOyBLUF7AbUBz8IzwjqCTYLVAwQDQ0NVQyJC84KqAk1CDQH7QY7BxkIWQmICnMLDwwnDMMLWQs3C0kLVwszC+0K4QolC10LdAuvC/4LMAxZDGIM+AtMC9IKbAr7CQAKuQqaC0sM7wx1DboN6w0IDsoNaA1XDYcNmA13DTwNBA3wDNUMXAyNC50KdQkGCHoGzwTwAgsBHf/P/FL6PviG9rn04/Ik8T/vKe0M69for+Zf5W7lnua06Jnr0+6s8ZXzGfQw84vx1e8f7mvs+urx6WLpZOmt6ejpXOpb64vsfe0x7p/uue7g7m3vXfDr8W30g/d8+jD9pP+TAewC2ANxBBIFQwbjB0oJRwogC/sL2gycDcUNHg0jDDYLMwoeCTwInAdZB8IHxQj5CTkLWAzWDKgMXwxBDCMM8QuVC/YKcwp9CswK5wrnCvYKAwsaCzoLDwuXCjsKFgoBCjQK2gqkC1AM1wwODfcM/Aw3DVUNVw18DakNug3KDb0NaA0MDdMMcwzSCyULUQoaCaMHBgYxBF8C0ABF/4f91fsz+l34VPYt9MHxJO+q7Enq+edD5qnlLOa65x/qtuz47tjwKfKW8jbyT/Hj7zDuvOyk67bq/Ol86RfpFenZ6RnrQuwf7Zntsu3i7aDuzu9P8VXz0vV8+ET7+f0YAJABwALYA+4ERwbKBwUJ6gmuCkELowsSDHkMigxUDPALMwsyCksJgwjHB10HbwfSB4kImQmYCjALfwuNC0gL8Qq8CmsK4gldCe4ImgiiCAIJVwmSCfEJWgqTCpsKSwp/CZgICAjFB8MHIwi4CD0JyglyCggLlgtDDNIMFA06DUkN/AxeDK4L/gqBCn0KtAquCl8K2QnqCJsHLwasBBEDkQEVAEf+PvxL+mT4fPbH9ETzxPFP8M3u9uwA65jpE+lu6bPqruzd7u/wofJo8wjz4PFF8F3uk+xI63PqCuoe6nvq/urp6zjtZe4b73Tvi++e7wvw1fDQ8TjzUPXP91T6tvzB/k4AkwGzApQDZwR6Ba0GyAfmCBMKIwsJDLEM1gx+DPwLUQtKChsJJQiNB3EH0wdkCPAIoglyCv4KLQsvCwwL0QqdClYK3Ql3CUwJHAnHCH0ITQguCDoIXwhrCH8IxAgGCRwJNglrCZcJuQnRCckJzAkWCnYKogq6Cu4KKAtQC1IL/gprCvgJrwlHCbgIKAiKB+UGVwbEBQsFSAR3A1cC8gCM/x7+ifzj+j75p/dX9lL1J/SF8ozwYu4k7DDq4+hn6Ozoeuqb7MPuvfBT8ibzE/M98tfwSe8X7lbt1uyg7NTsXe0z7lzvoPCx8XXyyfKR8hfy1fH98afyBfQh9sn4wPud/tMARwJQAzIEAQXZBbwGjgdeCEQJJArtCsMLowxYDcYN3A1vDX4MNwu/CUoIQgfkBg8HmAdVCAEJagmXCYUJLQmwCCgIcwePBrwFPAUzBbUFlAZsBxAIggisCHQI9AdIB4sGAAbTBeAF+wUeBjsGVAadBi0H1AdeCK4IpwhLCNIHXgfuBqcGvQYoB7kHOghbCPEHMAdoBrAFBgVaBHsDQwLLADb/jv38+7H6svnw+GD4yvfe9oL1yPPK8cDv++2q7Ojr1ut07ITtyO4Z8FLxXfI588DztvMK8+PxffAo7y7upO1/7c3tnu7Z70bxlfJz88XzyPPP8wr0ifRG9T72h/dG+Wr7rf3D/4cBAwNoBNoFPAdOCPMISQmaCSwKAQvOC0kMbQxqDH0MuAzqDNAMWQy/C0cLFwsgCywLFwv3CvYKGwtCCzALwgoaCosJUwlqCZYJnAlnCRcJ1QinCG4IFgi1B3wHkgfqBz0IRAj7B50HcweYB+QHBAjBBzEHnAZBBjAGRwZQBjUGCAbgBbIFXgXKBAIEOwOxAmwCNQLEAfMA2f+7/tn9OP2p/Pv7Ifsy+lj5oPjr9w73/fXP9KbzkfKA8VvwO+957nvube8X8ePyM/S+9KX0SPT389Hzu/Oe847zsvMY9Kb0JvV49bb1Kfb29vP3xvga+ej4jfiQ+D35g/oZ/Kr9DP9HAGoBYwIhA7gDWAQ8BXsG2QfmCGAJVwkjCS4JrQlzCiMLgwuMC1gLDQu8ClMK1AlrCT4JUQmNCbUJlAk3CdoIrwi/CPUIEAneCGUIywcsB6sGZQZcBogG6QZbB6QHrQd6Bx0HwQaPBnwGZAY7Bv4FrQVlBTsFIQUSBSAFSAV5BagFtgV+BRAFpAReBFUEjATUBPUE5QSsBEAEqwP8AjICYgHBAGEAIgDs/6L/LP+k/jX+0v1O/Zj8sfuy+uX5d/lF+SD5/vjb+MT4yvi4+Cf47vZB9X7zHfJ08XDxyPFt8mnzsfQq9or3Wfhn+P/3h/dA90P3Zvdl91D3efcC+ND4tPlk+sD6CfuD+xT8g/yy/J38ivzx/PH9Mf9SACYBpgEYAskCnQNEBKsE8ARFBekF4AbFB0cIegiOCLQIEQl8CZQJRQnRCG0IPQhUCH8IhAh8CJYIxAjxCAUJzAhDCLMHTAf8BsAGkwZaBjEGUQanBvcGKAcjB9UGcwYyBv0FugVwBRMFnQRBBAwE0AN7AxUDiALgAU0BygAzAJf/DP+Q/kf+VP6G/p3+kv5T/tT9Rv3P/FP80Pti+/z6iPoY+pf51/j19y/3kfYo9gf29/W/9Xb1LPXG9Ev0yPMm84LyNvJd8tLygPM39Lf0EvWE9QH2c/bm9kv3mPcC+KT4Qvm2+Qn6NPpW+sL6gvta/DX9Df7C/mT/HgDYAHIBEgLOApgDfgR8BU0G1wZPB8sHTQj1CLUJSgqxCg4LVAt9C6kLxAu0C6ULuwvVC+oL/wvlC4wLLQvdCoUKOgr/CagJNgnXCH0IDgimB0AHugYwBsEFSQW5BC8EmQPkAj4CsAEQAWcA1f87/5X+//1e/Y38tPv7+lf62fmT+U756fiK+DD4u/c396b25/Ub9ZL0UvRJ9IP04PQr9Xf12fUh9j32TPZP9lb2pfZG9/n3q/he+fD5Y/rk+mP7xPs0/NX8lP16/of/gABNASACAwPgA78ElQUuBpYGBgd2B9gHSgjBCB8JfwnuCTQKOwojCugJkglZCT4JDAnLCJQIUQgFCMoHfgf9Bm4G6AVRBa4ECgQ7A0MCYAGXAMz/Cf9J/m79lvz8+437Mfvz+rz6aPoS+sf5YPne+G34C/i+96v3xvfX9+T3AfgW+Cb4T/h5+I74tfj7+EP5l/kH+nn68fqa+2f8K/3q/Z3+JP+Y/x4AogARAYcB/wFnAt0CbgPvA2EE3gRZBccFQAavBucG9wb1BtMGnAZzBkQG/wXHBaQFfQVdBU0FJwXlBKQEWwT4A48DJAOYAv0BbwHfAEsA0P9k//D+hv4s/sD9Rv3T/Fv83Pt4+y374fqh+nT6PPr7+cv5n/lv+V/5cvmO+bj58fkU+iL6Pvpi+n/6qfra+vn6Hvtk+7j7DPxo/Lb84/wL/Tn9Vf1k/X/9pP3j/V/+C/+3/1IA1AApAWABmAHAAckBygHMAdMB+wFOAqkC/gJYA6gD5AMXBDYEIwTyA8IDmQOCA5IDrAO2A7gDsQOOA1oDJQPjApwCagJKAi0CGwIRAvkB1AGpAWwBGwHJAH4AMwDv/7j/gv9S/zb/I/8I/+b+vP6G/lf+Pv4t/hr+C/76/eP90/3H/an9fv1X/TL9Fv0S/Rv9H/0p/UH9Wf1t/YH9hv12/WT9Vf1D/Tf9Ov1I/WP9lv3S/Qb+Mv5U/mX+bP5u/mf+WP5U/l/+dv6b/sn+7v4P/zj/YP+D/6j/xv/V/+v/EAA3AFwAfQCGAHgAZwBXAEQAOwBAAEwAYwCIAKsAwgDRANkA2gDeAOQA5QDiAN0A0gDCAK8AmQCGAIAAhQCOAJAAhgByAF4AVwBYAFcATgBBADIAKgAqACIACQDp/8n/r/+g/5b/gv9k/0n/Nv8p/yD/Ev/7/ub+2v7c/un+9/78/vf+5/7M/q3+kf50/lz+Tv49/ij+F/4J/vv99/37/QH+D/4p/kX+Xv5t/m7+Z/5j/mj+dP6D/ov+jP6P/pv+r/7L/uf+/f4R/yz/TP9t/4n/m/+j/6T/qP+z/7z/w//M/9n/7P8LADAARwBRAFQATwBMAFIAWQBaAFoAXABdAF8AXgBWAEwASABIAEwATABAACsAFQAAAO7/4f/R/77/sP+j/5L/fP9i/0b/L/8c/w3/AP/z/un+6v7w/vD+7/7t/ub+5P7r/uv+4v7e/t3+3P7l/vL+8/7w/vP+9v76/gX/Ev8f/zP/Tf9l/3f/hf+O/5T/mf+b/5X/iv+B/33/g/+U/6v/wv/d//v/EQAkADMAMwAoACEAFwAJAAgAEgAWACAAMQA0AC0AKAAaAAIA9f/w/+r/7v/9/wcADgAYABoAEwAKAP3/5//S/77/p/+Y/5X/mv+p/7z/x//G/8D/uP+t/6P/m/+O/4L/g/+R/5//rP+3/7b/rf+q/6f/mP+H/3j/af9h/2n/df9+/4r/mP+g/6j/q/+l/5z/lv+T/5n/qP+4/8v/4P/u//f///8CAAEABQAHAAQABAAJABEAHwAwAEAATgBZAGAAZgBoAGQAYQBiAGAAYQBqAHIAdwCDAIwAjACKAIwAiQCIAIkAhQB8AHQAcQBvAG0AZwBbAEsAOgAtACIAFQAHAPv/8P/q/+r/7v/0//n/+//6//T/7P/n/+b/5v/l/+b/5v/i/+P/5//l/+X/7P/x//b/AwARABwALgBGAFgAaQB0AHYAeAB+AIcAlQCmALYAyADgAPQABQEWASABIwEqATABMAEwATUBOAE9AUoBWAFhAWkBbgFsAWMBWAFNAUABMQEkARcBCQEAAfwA+ADxAOkA3gDRAMgAwQC5AK8AowCWAI0AgwB4AHEAaABaAE8ARQA2ACwALAArACkAKgAmABkAEgAOAAcAAwABAP7//f8AAAQACwAWACAAKwA6AEMARwBMAE4ATQBSAFkAWgBZAFgAUABFAD8AOAAwACgAIQAYAA8ACwAKAAoACQAHAAQAAQABAAQABgAFAAQABAAEAAcACAAHAAQAAQAAAAQABwAHAAoACQAEAAIAAwAAAP//AwAEAAIABQAFAAIAAwAGAAUABQAFAAIAAQADAAMABAAFAAEA/f/7//f/9f/6//3/+//9//7/+v/6///////+///////9//3//f/6//f/9f/1//f/+f/7////AAAAAAIAAwABAAAAAAD///7//v///wAAAAACAAUAAwAAAAIAAgABAAUACAAEAAIABAACAAEABQAGAAIAAgADAAEAAwAGAAUAAwACAAAAAAAEAAQABQAGAAIA//8AAAEAAAACAAUAAwADAAYABQADAAQAAwACAAIAAwACAAMABQAHAAkACQAJAAgABgAFAAYABgAEAAMAAAD///3//v///wAAAAAAAAEAAAAAAAEAAAD+////AAD+//3/AAAAAAAAAwAEAAEAAAD///7///8BAAEAAQAAAP////8AAAAAAAABAP///f8AAAAAAAAAAAEA/v/9/////v/+/wAA///9//z//f/9//7//v///wAAAAAAAAAA/v/8//v/+//6//r//P/9////AAACAAIAAQABAAEAAQAAAAAAAAD//wAAAgABAAAAAAAAAP//AgAFAAUABgAFAAMAAgADAAMABAAEAAMAAgABAAAAAQACAAEAAAAAAAAA//8BAAIAAgACAAIAAQAAAAAA/////wAAAQABAAAAAAD//wAAAAAAAAAAAAD//wAAAQABAAEAAQAAAAAA//////7//v/+//7//////wAAAAAAAAAAAAAAAAAAAQAAAAAAAAAAAP7//v//////AAAAAAAAAAAAAAAAAAAAAAAAAQACAAEAAAAAAAAAAAAAAAEAAAAAAAAAAAAAAAAAAAD//wAAAAAAAP//////////AAAAAAAAAAAAAAAAAAAAAAAAAAAAAAAAAAAAAAAAAAAAAAAAAAAAAAEAAQAAAAAAAAAAAAAAAAAAAAAAAAAAAAAAAAAAAAAAAAAAAAAAAAAAAAAAAAAAAAAAAAAAAAAAAAAAAAAAAAAAAAAAAAAAAAAAAAAAAAAAAAAAAAAAAAAAAAAAAAAAAAAAAAAAAAAAAAAAAAAAAAAAAAAAAAAAAAAAAAAAAAAAAAAAAAAAAAAAAAAAAAAAAAAAAAAAAAAAAAAAAAAAAAAAAAAAAAAAAAAAAAAAAAAAAAAAAAAAAAAAAAAAAAAAAAAAAAAAAAAAAAAAAAAAAAAAAAAAAAAAAAAAAAAAAAAAAAAAAAAAAAAAAAAAAAAAAAAAAAAAAAAAAAAAAAAAAAAAAAAAAAAAAAAAAAAAAAAAAAAAAAAAAAAAAAAAAAAAAAAAAAAAAAAAAAAAAAAAAAAAAAAAAAAAAAAAAAAAAAAAAAAAAAAAAAAAAAAAAAAAAAAAAAAAAAAAAAAAAAAAAAAAAAAAAAAAAAAAAAAAAAAAAAAAAAAAAAAAAAAAAAAAAAAAAAAAAAAAAAAAAAAAAAAAAAAAAAAAAAAAAAAAAAAAAAAAAAAAAAAAAAAAAAAAAAAAAAAAAAAAAAAAAAAAAAAAAAAAAAAAAAAAAAAAAAAAAAAAAAAAAAAAAAAAAAAAAAAAAAAAAAAAAAAAAAAAAAAAAAAAAAAAAAAAAAAAAAAAAAAAAAAAAAAAAAAAAAAAAAAAAAAAAAAAAAAAAAAAAAAAAAAAAAAAAAAAAAAAAAAAAAAAAAAAAAAAAAAAAAAAAAAAAAAAAAAAAAAAAAAAAAAAAAAAAAAAAAAAAAAAAAAAAAAAAAAAAAAAAAAAAAAAAAAAAAAAAAAAAAAAAAAAAAAAAAAAAAAAAAAAAAAAAAAAAAAAAAAAAAAAAAAAAAAAAAAAAAAAAAAAAAAAAAAAAAAAAAAAAAAAAAAAAAAAAAAAAAAAAAAAAAAAAAAAAAAAAAAAAAAAAAAAAAAAAAAAAAAAAAAAAAAAAAAAAAAAAAAAAAAAAAAAAAAAAAAAAAAAAAAAAAAAAAAAAAAAAAAAAAAAAAAAAAAAAAAAAAAAAAAAAAAAAAAAAAAAAAAAAAAAAAAAAAAAAAAAAAAAAAAAAAAAAAAAAAAAAAAAAAAAAAAAAAAAAAAAAAAAAAAAAAAAAAAAAAAAAAAAAAAAAAAAAAAAAAAAAAAAAAAAAAAAAAAAAAAAAAAAAAAAAAAAAAAAAAAAAAAAAAAAAAAAAAAAAAAAAAAAAAAAAAAAAAAAAAAAAAAAAAAAAAAAAAAAAAAAAAAAAAAAAAAAAAAAAAAAAAAAAAAAAAAAAAAAAAAAAAAAAAAAAAAAAAAAAAAAAAAAAAAAAAAAAAAAAAAAAAAAAAAAAAAAAAAAAAAAAAAAAAAAAAAAAAAAAAAAAAAAAAAAAAAAAAAAAAAAAAAAAAAAAAAAAAAAAAAAAAAAAAAAAAAAAAAAAAAAAAAAAAAAAAAAAAAAAAAAAAAAAAAAAAAAAAAAAAAAAAAAAAAAAAAAAAAAAAAAAAAAAAAAAAAAAAAAAAAAAAAAAAAAAAAAAAAAAAAAAAAAAAAAAAAAAAAAAAAAAAAAAAAAAAAAAAAAAAAAAAAAAAAAAAAAAAAAAAAAAAAAAAAAAAAAAAAAAAAAAAAAAAAAAAAAAAAAAAAAAAAAAAAAAAAAAAAAAAAAAAAAAAAAAAAAAAAAAAAAAAAAAAAAAAAAAAAAAAAAAAAAAAAAAAAAAAAAAAAAAAAAAAAAAAAAAAAAAAAAAAAAAAAAAAAAAAAAAAAAAAAAAAAAAAAAAAAAAAAAAAAAAAAAAAAAAAAAAAAAAAAAAAAAAAAAAAAAAAAAAAAAAAAAAAAAAAAAAAAAAAAAAAAAAAAAAAAAAAAAAAAAAAAAAAAAAAAAAAAAAAAAAAAAAAAAAAAAAAAAAAAAAAAAAAAAAAAAAAAAAAAAAAAAAAAAAAAAAAAAAAAAAAAAAAAAAAAAAAAAAAAAAAAAAAAAAAAAAAAAAAAAAAAAAAAAAAAAAAAAAAAAAAAAAAAAAAAAAAAAAAAAAAAAAAAAAAAAAAAAAAAAAAAAAAAAAAAAAAAAAAAAAAAAAAAAAAAAAAAAAAAAAAAAAAAAAAAAAAAAAAAAAAAAAAAAAAAAAAAAAAAAAAAAAAAAAAAAAAAAAAAAAAAAAAAAAAAAAAAAAAAAAAAAAAAAAAAAAAAAAAAAAAAAAAAAAAAAAAAAAAAAAAAAAAAAAAAAAAAAAAAAAAAAAAAAAAAAAAAAAAAAAAAAAAAAAAAAAAAAAAAAAAAAAAAAAAAAAAAAAAAAAAAAAAAAAAAAAAAAAAAAAAAAAAAAAAAAAAAAAAAAAAAAAAAAAAAAAAAAAAAAAAAAAAAAAAAAAAAAAAAAAAAAAAAAAAAAAAAAAAAAAAAAAAAAAAAAAAAAAAAAAAAAAAAAAAAAAAAAAAAAAAAAAAAAAAAAAAAAAAAAAAAAAAAAAAAAAAAAAAAAAAAAAAAAAAAAAAAAAAAAAAAAAAAAAAAAAAAAAAAAAAAAAAAAAAAAAAAAAAAAAAAAAAAAAAAAAAAAAAAAAAAAAAAAAAAAAAAAAAAAAAAAAAAAAAAAAAAAAAAAAAAAAAAAAAAAAAAAAAAAAAAAAAAAAAAAAAAAAAAAAAAAAAAAAAAAAAAAAAAAAAAAAAAAAAAAAAAAAAAAAAAAAAAAAAAAAAAAAAAAAAAAAAAAAAAAAAAAAAAAAAAAAAAAAAAAAAAAAAAAAAAAAAAAAAAAAAAAAAAAAAAAAAAAAAAAAAAAAAAAAAAAAAAAAAAAAAAAAAAAAAAAAAAAAAAAAAAAAAAAAAAAAAAAAAAAAAAAAAAAAAAAAAAAAAAAAAAAAAAAAAAAAAAAAAAAAAAAAAAAAAAAAAAAAAAAAAAAAAAAAAAAAAAAAAAAAAAAAAAAAAAAAAAAAAAAAAAAAAAAAAAAAAAAAAAAAAAAAAAAAAAAAAAAAAAAAAAAAAAAAAAAAAAAAAAAAAAAAAAAAAAAAAAAAAAAAAAAAAAAAAAAAAAAAAAAAAAAAAAAAAAAAAAAAAAAAAAAAAAAAAAAAAAAAAAAAAAAAAAAAAAAAAAAAAAAAAAAAAAAAAAAAAAAAAAAAAAAAAAAAAAAAAAAAAAAAAAAAAAAAAAAAAAAAAAAAAAAAAAAAAAAAAAAAAAAAAAAAAAAAAAAAAAAAAAAAAAAAAAAAAAAAAAAAAAAAAAAAAAAAAAAAAAAAAAAAAAAAAAAAAAAAAAAAAAAAAAAAAAAAAAAAAAAAAAAAAAAAAAAAAAAAAAAAAAAAAAAAAAAAAAAAAAAAAAAAAAAAAAAAAAAAAAAAAAAAAAAAAAAAAAAAAAAAAAAAAAAAAAAAAAAAAAAAAAAAAAAAAAAAAAAAAAAAAAAAAAAAAAAAAAAAAAAAAAAAAAAAAAAAAAAAAAAAAAAAAAAAAAAAAAAAAAAAAAAAAAAAAAAAAAAAAAAAAAAAAAAAAAAAAAAAAAAAAAAAAAAAAAAAAAAAAAAAAAAAAAAAAAAAAAAAAAAAAAAAAAAAAAAAAAAAAAAAAAAAAAAAAAAAAAAAAAAAAAAAAAAAAAAAAAAAAAAAAAAAAAAAAAAAAAAAAAAAAAAAAAAAAAAAAAAAAAAAAAAAAAAAAAAAAAAAAAAAAAAAAAAAAAAAAAAAAAAAAAAAAAAAAAAAAAAAAAAAAAAAAAAAAAAAAAAAAAAAAAAAAAAAAAAAAAAAAAAAAAAAAAAAAAAAAAAAAAAAAAAAAAAAAAAAAAAAAAAAAAAAAAAAAAAAAAAAAAAAAAAAAAAAAAAAAAAAAAAAAAAAAAAAAAAAAAAAAAAAAAAAAAAAAAAAAAAAAAAAAAAAAAAAAAAAAAAAAAAAAAAAAAAAAAAAAAAAAAAAAAAAAAAAAAAAAAAAAAAAAAAAAAAAAAAAAAAAAAAAAAAAAAAAAAAAAAAAAAAAAAAAAAAAAAAAAAAAAAAAAAAAAAAAAAAAAAAAAAAAAAAAAAAAAAAAAAAAAAAAAAAAAAAAAAAAAAAAAAAAAAAAAAAAAAAAAAAAAAAAAAAAAAAAAAAAAAAAAAAAAAAAAAAAAAAAAAAAAAAAAAAAAAAAAAAAAAAAAAAAAAAAAAAAAAAAAAAAAAAAAAAAAAAAAAAAAAAAAAAAAAAAAAAAAAAAAAAAAAAAAAAAAAAAAAAAAAAAAAAAAAAAAAAAAAAAAAAAAAAAAAAAAAAAAAAAAAAAAAAAAAAAAAAAAAAAAAAAAAAAAAAAAAAAAAAAAAAAAAAAAAAAAAAAAAAAAAAAAAAAAAAAAAAAAAAAAAAAAAAAAAAAAAAAAAAAAAAAAAAAAAAAAAAAAAAAAAAAAAAAAAAAAAAAAAAAAAAAAAAAAAAAAAAAAAAAAAAAAAAAAAAAAAAAAAAAAAAAAAAAAAAAAAAAAAAAAAAAAAAAAAAAAAAAAAAAAAAAAAAAAAAAAAAAAAAAAAAAAAAAAAAAAAAAAAAAAAAAAAAAAAAAAAAAAAAAAAAAAAAAAAAAAAAAAAAAAAAAAAAAAAAAAAAAAAAAAAAAAAAAAAAAAAAAAAAAAAAAAAAAAAAAAAAAAAAAAAAAAAAAAAAAAAAAAAAAAAAAAAAAAAAAAAAAAAAAAAAAAAAAAAAAAAAAAAAAAAAAAAAAAAAAAAAAAAAAAAAAAAAAAAAAAAAAAAAAAAAAAAAAAAAAAAAAAAAAAAAAAAAAAAAAAAAAAAAAAAAAAAAAAAAAAAAAAAAAAAAAAAAAAAAAAAAAAAAAAAAAAAAAAAAAAAAAAAAAAAAAAAAAAAAAAAAAAAAAAAAAAAAAAAAAAAAAAAAAAAAAAAAAAAAAAAAAAAAAAAAAAAAAAAAAAAAAAAAAAAAAAAAAAAAAAAAAAAAAAAAAAAAAAAAAAAAAAAAAAAAAAAAAAAAAAAAAAAAAAAAAAAAAAAAAAAAAAAAAAAAAAAAAAAAAAAAAAAAAAAAAAAAAAAAAAAAAAAAAAAAAAAAAAAAAAAAAAAAAAAAAAAAAAAAAAAAAAAAAAAAAAAAAAAAAAAAAAAAAAAAAAAAAAAAAAAAAAAAAAAAAAAAAAAAAAAAAAAAAAAAAAAAAAAAAAAAAAAAAAAAAAAAAAAAAAAAAAAAAAAAAAAAAAAAAAAAAAAAAAAAAAAAAAAAAAAAAAAAAAAAAAAAAAAAAAAAAAAAAAAAAAAAAAAAAAAAAAAAAAAAAAAAAAAAAAAAAAAAAAAAAAAAAAAAAAAAAAAAAAAAAAAAAAAAAAAAAAAAAAAAAAAAAAAAAAAAAAAAAAAAAAAAAAAAAAAAAAAAAAAAAAAAAAAAAAAAAAAAAAAAAAAAAAAAAAAAAAAAAAAAAAAAAAAAAAAAAAAAAAAAAAAAAAAAAAAAAAAAAAAAAAAAAAAAAAAAAAAAAAAAAAAAAAAAAAAAAAAAAAAAAAAAAAAAAAAAAAAAAAAAAAAAAAAAAAAAAAAAAAAAAAAAAAAAAAAAAAAAAAAAAAAAAAAAAAAAAAAAAAAAAAAAAAAAAAAAAAAAAAAAAAAAAAAAAAAAAAAAAAAAAAAAAAAAAAAAAAAAAAAAAAAAAAAAAAAAAAAAAAAAAAAAAAAAAAAAAAAAAAAAAAAAAAAAAAAAAAAAAAAAAAAAAAAAAAAAAAAAAAAAAAAAAAAAAAAAAAAAAAAAAAAAAAAAAAAAAAAAAAAAAAAAAAAAAAAAAAAAAAAAAAAAAAAAAAAAAAAAAAAAAAAAAAAAAAAAAAAAAAAAAAAAAAAAAAAAAAAAAAAAAAAAAAAAAAAAAAAAAAAAAAAAAAAAAAAAAAAAAAAAAAAAAAAAAAAAAAAAAAAAAAAAAAAAAAAAAAAAAAAAAAAAAAAAAAAAAAAAAAAAAAAAAAAAAAAAAAAAAAAAAAAAAAAAAAAAAAAAAAAAAAAAAAAAAAAAAAAAAAAAAAAAAAAAAAAAAAAAAAAAAAAAAAAAAAAAAAAAAAAAAAAAAAAAAAAAAAAAAAAAAAAAAAAAAAAAAAAAAAAAAAAAAAAAAAAAAAAAAAAAAAAAAAAAAAAAAAAAAAAAAAAAAAAAAAAAAAAAAAAAAAAAAAAAAAAAAAAAAAAAAAAAAAAAAAAAAAAAAAAAAAAAAAAAAAAAAAAAAAAAAAAAAAAAAAAAAAAAAAAAAAAAAAAAAAAAAAAAAAAAAAAAAAAAAAAAAAAAAAAAAAAAAAAAAAAAAAAAAAAAAAAAAAAAAAAAAAAAAAAAAAAAAAAAAAAAAAAAAAAAAAAAAAAAAAAAAAAAAAAAAAAAAAAAAAAAAAAAAAAAAAAAAAAAAAAAAAAAAAAAAAAAAAAAAAAAAAAAAAAAAAAAAAAAAAAAAAAAAAAAAAAAAAAAAAAAAAAAAAAAAAAAAAAAAAAAAAAAAAAAAAAAAAAAAAAAAAAAAAAAAAAAAAAAAAAAAAAAAAAAAAAAAAAAAAAAAAAAAAAAAAAAAAAAAAAAAAAAAAAAAAAAAAAAAAAAAAAAAAAAAAAAAAAAAAAAAAAAAAAAAAAAAAAAAAAAAAAAAAAAAAAAAAAAAAAAAAAAAAAAAAAAAAAAAAAAAAAAAAAAAAAAAAAAAAAAAAAAAAAAAAAAAAAAAAAAAAAAAAAAAAAAAAAAAAAAAAAAAAAAAAAAAAAAAAAAAAAAAAAAAAAAAAAAAAAAAAAAAAAAAAAAAAAAAAAAAAAAAAAAAAAAAAAAAAAAAAAAAAAAAAAAAAAAAAAAAAAAAAAAAAAAAAAAAAAAAAAAAAAAAAAAAAAAAAAAAAAAAAAAAAAAAAAAAAAAAAAAAAAAAAAAAAAAAAAAAAAAAAAAAAAAAAAAAAAAAAAAAAAAAAAAAAAAAAAAAAAAAAAAAAAAAAAAAAAAAAAAAAAAAAAAAAAAAAAAAAAAAAAAAAAAAAAAAAAAAAAAAAAAAAAAAAAAAAAAAAAAAAAAAAAAAAAAAAAAAAAAAAAAAAAAAAAAAAAAAAAAAAAAAAAAAAAAAAAAAAAAAAAAAAAAAAAAAAAAAAAAAAAAAAAAAAAAAAAAAAAAAAAAAAAAAAAAAAAAAAAAAAAAAAAAAAAAAAAAAAAAAAAAAAAAAAAAAAAAAAAAAAAAAAAAAAAAAAAAAAAAAAAAAAAAAAAAAAAAAAAAAAAAAAAAAAAAAAAAAAAAAAAAAAAAAAAAAAAAAAAAAAAAAAAAAAAAAAAAAAAAAAAAAAAAAAAAAAAAAAAAAAAAAAAAAAAAAAAAAAAAAAAAAAAAAAAAAAAAAAAAAAAAAAAAAAAAAAAAAAAAAAAAAAAAAAAAAAAAAAAAAAAAAAAAAAAAAAAAAAAAAAAAAAAAAAAAAAAAAAAAAAAAAAAAAAAAAAAAAAAAAAAAAAAAAAAAAAAAAAAAAAAAAAAAAAAAAAAAAAAAAAAAAAAAAAAAAAAAAAAAAAAAAAAAAAAAAAAAAAAAAAAAAAAAAAAAAAAAAAAAAAAAAAAAAAAAAAAAAAAAAAAAAAAAAAAAAAAAAAAAAAAAAAAAAAAAAAAAAAAAAAAAAAAAAAAAAAAAAAAAAAAAAAAAAAAAAAAAAAAAAAAAAAAAAAAAAAAAAAAAAAAAAAAAAAAAAAAAAAAAAAAAAAAAAAAAAAAAAAAAAAAAAAAAAAAAAAAAAAAAAAAAAAAAAAAAAAAAAAAAAAAAAAAAAAAAAAAAAAAAAAAAAAAAAAAAAAAAAAAAAAAAAAAAAAAAAAAAAAAAAAAAAAAAAAAAAAAAAAAAAAAAAAAAAAAAAAAAAAAAAAAAAAAAAAAAAAAAAAAAAAAAAAAAAAAAAAAAAAAAAAAAAAAAAAAAAAAAAAAAAAAAAAAAAAAAAAAAAAAAAAAAAAAAAAAAAAAAAAAAAAAAAAAAAAAAAAAAAAAAAAAAAAAAAAAAAAAAAAAAAAAAAAAAAAAAAAAAAAAAAAAAAAAAAAAAAAAAAAAAAAAAAAAAAAAAAAAAAAAAAAAAAAAAAAAAAAAAAAAAAAAAAAAAAAAAAAAAAAAAAAAAAAAAAAAAAAAAAAAAAAAAAAAAAAAAAAAAAAAAAAAAAAAAAAAAAAAAAAAAAAAAAAAAAAAAAAAAAAAAAAAAAAAAAAAAAAAAAAAAAAAAAAAAAAAAAAAAAAAAAAAAAAAAAAAAAAAAAAAAAAAAAAAAAAAAAAAAAAAAAAAAAAAAAAAAAAAAAAAAAAAAAAAAAAAAAAAAAAAAAAAAAAAAAAAAAAAAAAAAAAAAAAAAAAAAAAAAAAAAAAAAAAAAAAAAAAAAAAAAAAAAAAAAAAAAAAAAAAAAAAAAAAAAAAAAAAAAAAAAAAAAAAAAAAAAAAAAAAAAAAAAAAAAAAAAAAAAAAAAAAAAAAAAAAAAAAAAAAAAAAAAAAAAAAAAAAAAAAAAAAAAAAAAAAAAAAAAAAAAAAAAAAAAAAAAAAAAAAAAAAAAAAAAAAAAAAAAAAAAAAAAAAAAAAAAAAAAAAAAAAAAAAAAAAAAAAAAAAAAAAAAAAAAAAAAAAAAAAAAAAAAAAAAAAAAAAAAAAAAAAAAAAAAAAAAAAAAAAAAAAAAAAAAAAAAAAAAAAAAAAAAAAAAAAAAAAAAAAAAAAAAAAAAAAAAAAAAAAAAAAAAAAAAAAAAAAAAAAAAAAAAAAAAAAAAAAAAAAAAAAAAAAAAAAAAAAAAAAAAAAAAAAAAAAAAAAAAAAAAAAAAAAAAAAAAAAAAAAAAAAAAAAAAAAAAAAAAAAAAAAAAAAAAAAAAAAAAAAAAAAAAAAAAAAAAAAAAAAAAAAAAAAAAAAAAAAAAAAAAAAAAAAAAAAAAAAAAAAAAAAAAAAAAAAAAAAAAAAAAAAAAAAAAAAAAAAAAAAAAAAAAAAAAAAAAAAAAAAAAAAAAAAAAAAAAAAAAAAAAAAAAAAAAAAAAAAAAAAAAAAAAAAAAAAAAAAAAAAAAAAAAAAAAAAAAAAAAAAAAAAAAAAAAAAAAAAAAAAAAAAAAAAAAAAAAAAAAAAAAAAAAAAAAAAAAAAAAAAAAAAAAAAAAAAAAAAAAAAAAAAAAAAAAAAAAAAAAAAAAAAAAAAAAAAAAAAAAAAAAAAAAAAAAAAAAAAAAAAAAAAAAAAAAAAAAAAAAAAAAAAAAAAAAAAAAAAAAAAAAAAAAAAAAAAAAAAAAAAAAAAAAAAAAAAAAAAAAAAAAAAAAAAAAAAAAAAAAAAAAAAAAAAAAAAAAAAAAAAAAAAAAAAAAAAAAAAAAAAAAAAAAAAAAAAAAAAAAAAAAAAAAAAAAAAAAAAAAAAAAAAAAAAAAAAAAAAAAAAAAAAAAAAAAAAAAAAAAAAAAAAAAAAAAAAAAAAAAAAAAAAAAAAAAAAAAAAAAAAAAAAAAAAAAAAAAAAAAAAAAAAAAAAAAAAAAAAAAAAAAAAAAAAAAAAAAAAAAAAAAAAAAAAAAAAAAAAAAAAAAAAAAAAAAAAAAAAAAAAAAAAAAAAAAAAAAAAAAAAAAAAAAAAAAAAAAAAAAAAAAAAAAAAAAAAAAAAAAAAAAAAAAAAAAAAAAAAAAAAAAAAAAAAAAAAAAAAAAAAAAAAAAAAAAAAAAAAAAAAAAAAAAAAAAAAAAAAAAAAAAAAAAAAAAAAAAAAAAAAAAAAAAAAAAAAAAAAAAAAAAAAAAAAAAAAAAAAAAAAAAAAAAAAAAAAAAAAAAAAAAAAAAAAAAAAAAAAAAAAAAAAAAAAAAAAAAAAAAAAAAAAAAAAAAAAAAAAAAAAAAAAAAAAAAAAAAAAAAAAAAAAAAAAAAAAAAAAAAAAAAAAAAAAAAAAAAAAAAAAAAAAAAAAAAAAAAAAAAAAAAAAAAAAAAAAAAAAAAAAAAAAAAAAAAAAAAAAAAAAAAAAAAAAAAAAAAAAAAAAAAAAAAAAAAAAAAAAAAAAAAAAAAAAAAAAAAAAAAAAAAAAAAAAAAAAAAAAAAAQAAAAAAAAAAAAAAAAAAAAAAAAAAAAAAAAAAAAAAAAAAAAAAAAAAAAAAAAAAAAAAAAAAAAAAAAAAAAAAAAAAAAAAAAAAAAAAAAAAAAAAAAAAAAAAAAAAAAAAAAAAAAAAAAAAAAAAAAAAAAAAAAAAAAAAAAAAAAAAAAAAAAAAAAAAAAAAAAAAAAAAAAAAAAAAAAAAAAAAAAAAAAAAAAAAAAAAAAAAAAAAAAAAAAAAAAAAAAAAAAAAAAAAAAAAAAAAAAAAAAAAAAAAAAAAAAAAAAAAAAAAAAAAAAAAAAAAAAAAAAAAAAAAAAAAAAAAAAAAAAAAAAAAAAAAAAAAAAAAAAAAAAAAAAAAAAAAAAAAAAAAAAAAAAAAAAAAAAAAAAAAAAAAAAAAAAAAAAAAAAAAAAAAAAAAAAAAAAAAAAAAAAAAAAAAAAAAAAAAAAAAAAAAAAAAAAAAAAAAAAAAAAAAAAAAAAAAAAAAAAAAAAAAAAAAAAAAAAAAAAAAAAAAAAAAAAAAAAAAAAAAAAAAAAAAAAAAAAAAAAAAAAAAAAAAAAAAAAAAAAAAAAAAAAAAAAAAAAAAAAAAAAAAAAAAAAAAAAAAAAAAAAAAAAAAAAAAAAAAAAAAAAAAAAAAAAAAAAAAAAAAAAAAAAAAAAAAAAAAAAAAAAAAAAAAAAAAAAAAAAAAAAAAAAAAAAAAAAAAAAAAAAAAAAAAAAAAAAAAAAAAAAAAAAAAAAAAAAAAAAAAAAAAAAAAAAAAAAAAAAAAAAAAAAAAAAAAAAAAAAAAAAAAAAAAAAAAAAAAAAAAAAAAAAAAAAAAAAAAAAAAAAAAAAAAAAAAAAAAAAAAAAAAAAAAAAAAAAAAAAAAAAAAAAAAAAAAAAAAAAAAAAAAAAAAAAAAAAAAAAAAAAAAAAAAAAAAAAAAAAAAAAAAAAAAAAAAAAAAAAAAAAAAAAAAAAAAAAAAAAAAAAAAAAAAAAAAAAAAAAAAAAAAAAAAAAAAAAAAAAAAAAAAAAAAAAAAAAAAAAAAAAAAAAAAAAAAAAAAAAAAAAAAAAAAAAAAAAAAAAAAAAAAAAAAAAAAAAAAAAAAAAAAAAAAAAAAAAAAAAAAAAAAAAAAAAAAAAAAAAAAAAAAAAAAAAAAAAAAAAAAAAAAAAAAAAAAAAAAAAAAAAAAAAAAAAAAAAAAAAAAAAAAAAAAAAAAAAAAAAAAAAAAAAAAAAAAAAAAAAAAAAAAAAAAAAAAAAAAAAAAAAAAAAAAAAAAAAAAAAAAAAAAAAAAAAAAAAAAAAAAAAAAAAAAAAAAAAAAAAAAAAAAAAAAAAAAAAAAAAAAAAAAAAAAAAAAAAAAAAAAAAAAAAAAAAAAAAAAAAAAAAAAAAAAAAAAAAAAAAAAAAAAAAAAAAAAAAAAAAAAAAAAAAAAAAAAAAAAAAAAAAAAAAAAAAAAAAAAAAAAAAAAAAAAAAAAAAAAAAAAAAAAAAAAAAAAAAAAAAAAAAAAAAAAAAAAAAAAAAAAAAAAAAAAAAAAAAAAAAAAAAAAAAAAAAAAAAAAAAAAAAAAAAAAAAAAAAAAAAAAAAAAAAAAAAAAAAAAAAAAAAAAAAAAAAAAAAAAAAAAAAAAAAAAAAAAAAAAAAAAAAAAAAAAAAAAAAAAAAAAAAAAAAAAAAAAAAAAAAAAAAAAAAAAAAAAAAAAAAAAAAAAAAAAAAAAAAAAAAAAAAAAAAAAAAAAAAAAAAAAAAAAAAAAAAAAAAAAAAAAAAAAAAAAAAAAAAAAAAAAAAAAAAAAAAAAAAAAAAAAAAAAAAAAAAAAAAAAAAAAAAAAAAAAAAAAAAAAAAAAAAAAAAAAAAAAAAAAAAAAAAAAAAAAAAAAAAAAAAAAAAAAAAAAAAAAAAAAAAAAAAAAAAAAAAAAAAAAAAAAAAAAAAAAAAAAAAAAAAAAAAAAAAAAAAAAAAAAAAAAAAAAAAAAAAAAAAAAAAAAAAAAAAAAAAAAAAAAAAAAAAAAAAAAAAAAAAAAAAAAAAAAAAAAAAAAAAAAAAAAAAAAAAAAAAAAAAAAAAAAAAAAAAAAAAAAAAAAAAAAAAAAAAAAAAAAAAAAAAAAAAAAAAAAAAAAAAAAAAAAAAAAAAAAAAAAAAAAAAAAAAAAAAAAAAAAAAAAAAAAAAAAAAAAAAAAAAAAAAAAAAAAAAAAAAAAAAAAAAAAAAAAAAAAAAAAAAAAAAAAAAAAAAAAAAAAAAAAAAAAAAAAAAAAAAAAAAAAAAAAAAAAAAAAAAAAAAAAAAAAAAAAAAAAAAAAAAAAAAAAAAAAAAAAAAAAAAAAAAAAAAAAAAAAAAAAAAAAAAAAAAAAAAAAAAAAAAAAAAAAAAAAAAAAAAAAAAAAAAAAAAAAAAAAAAAAAAAAAAAAAAAAAAAAAAAAAAAAAAAAAAAAAAAAAAAAAAAAAAAAAAAAAAAAAAAAAAAAAAAAAAAAAAAAAAAAAAAAAAAAAAAAAAAAAAAAAAAAAAAAAAAAAAAAAAAAAAAAAAAAAAAAAAAAAAAAAAAAAAAAAAAAAAAAAAAAAAAAAAAAAAAAAAAAAAAAAAAAAAAAAAAAAAAAAAAAAAAAAAAAAAAAAAAAAAAAAAAAAAAAAAAAAAAAAAAAAAAAAAAAAAAAAAAAAAAAAAAAAAAAAAAAAAAAAAAAAAAAAAAAAAAAAAAAAAAAAAAAAAAAAAAAAAAAAAAAAAAAAAAAAAAAAAAAAAAAAAAAAAAAAAAAAAAAAAAAAAAAAAAAAAAAAAAAAAAAAAAAAAAAAAAAAAAAAAAAAAAAAAAAAAAAAAAAAAAAAAAAAAAAAAAAAAAAAAAAAAAAAAAAAAAAAAAAAAAAAAAAAAAAAAAAAAAAAAAAAAAAAAAAAAAAAAAAAAAAAAAAAAAAAAAAAAAAAAAAAAAAAAAAAAAAAAAAAAAAAAAAAAAAAAAAAAAAAAAAAAAAAAAAAAAAAAAAAAAAAAAAAAAAAAAAAAAAAAAAAAAAAAAAAAAAAAAAAAAAAAAAAAAAAAAAAAAAAAAAAAAAAAAAAAAAAAAAAAAAAAAAAAAAAAAAAAAAAAAAAAAAAAAAAAAAAAAAAAAAAAAAAAAAAAAAAAAAAAAAAAAAAAAAAAAAAAAAAAAAAAAAAAAAAAAAAAAAAAAAAAAAAAAAAAAAAAAAAAAAAAAAAAAAAAAAAAAAAAAAAAAAAAAAAAAAAAAAAAAAAAAAAAAAAAAAAAAAAAAAAAAAAAAAAAAAAAAAAAAAAAAAAAAAAAAAAAAAAAAAAAAAAAAAAAAAAAAAAAAAAAAAAAAAAAAAAAAAAAAAAAAAAAAAAAAAAAAAAAAAAAAAAAAAAAAAAAAAAAAAAAAAAAAAAAAAAAAAAAAAAAAAAAAAAAAAAAAAAAAAAAAAAAAAAAAAAAAAAAAAAAAAAAAAAAAAAAAAAAAAAAAAAAAAAAAAAAAAAAAAAAAAAAAAAAAAAAAAAAAAAAAAAAAAAAAAAAAAAAAAAAAAAAAAAAAAAAAAAAAAAAAAAAAAAAAAAAAAAAAAAAAAAAAAAAAAAAAAAAAAAAAAAAAAAAAAAAAAAAAAAAAAAAAAAAAAAAAAAAAAAAAAAAAAAAAAAAAAAAAAAAAAAAAAAAAAAAAAAAAAAAAAAAAAAAAAAAAAAAAAAAAAAAAAAAAAAAAAAAAAAAAAAAAAAAAAAAAAAAAAAAAAAAAAAAAAAAAAAAAAAAAAAAAAAAAAAAAAAAAAAAAAAAAAAAAAAAAAAAAAAAAAAAAAAAAAAAAAAAAAAAAAAAAAAAAAAAAAAAAAAAAAAAAAAAAAAAAAAAAAAAAAAAAAAAAAAAAAAAAAAAAAAAAAAAAAAAAAAAAAAAAAAAAAAAAAAAAAAAAAAAAAAAAAAAAAAAAAAAAAAAAAAAAAAAAAAAAAAAAAAAAAAAAAAAAAAAAAAAAAAAAAAAAAAAAAAAAAAAAAAAAAAAAAAAAAAAAAAAAAAAAAAAAAAAAAAAAAAAAAAAAAAAAAAAAAAAAAAAAAAAAAAAAAAAAAAAAAAAAAAAAAAAAAAAAAAAAAAAAAAAAAAAAAAAAAAAAAAAAAAAAAAAAAAAAAAAAAAAAAAAAAAAAAAAAAAAAAAAAAAAAAAAAAAAAAAAAAAAAAAAAAAAAAAAAAAAAAAAAAAAAAAAAAAAAAAAAAAAAAAAAAAAAAAAAAAAAAAAAAAAAAAAAAAAAAAAAAAAAAAAAAAAAAAAAAAAAAAAAAAAAAAAAAAAAAAAAAAAAAAAAAAAAAAAAAAAAAAAAAAAAAAAAAAAAAAAAAAAAAAAAAAAAAAAAAAAAAAAAAAAAAAAAAAAAAAAAAAAAAAAAAAAAAAAAAAAAAAAAAAAAAAAAAAAAAAAAAAAAAAAAAAAAAAAAAAAAAAAAAAAAAAAAAAAAAAAAAAAAAAAAAAAAAAAAAAAAAAAAAAAAAAAAAAAAAAAAAAAAAAAAAAAAAAAAAAAAAAAAAAAAAAAAAAAAAAAAAAAAAAAAAAAAAAAAAAAAAAAAAAAAAAAAAAAAAAAAAAAAAAAAAAAAAAAAAAAAAAAAAAAAAAAAAAAAAAAAAAAAAAAAAAAAAAAAAAAAAAAAAAAAAAAAAAAAAAAAAAAAAAAAAAAAAAAAAAAAAAAAAAAAAAAAAAAAAAAAAAAAAAAAAAAAAAAAAAAAAAAAAAAAAAAAAAAAAAAAAAAAAAAAAAAAAAAAAAAAAAAAAAAAAAAAAAAAAAAAAAAAAAAAAAAAAAAAAAAAAAAAAAAAAAAAAAAAAAAAAAAAAAAAAAAAAAAAAAAAAAAAAAAAAAAAAAAAAAAAAAAAAAAAAAAAAAAAAAAAAAAAAAAAAAAAAAAAAAAAAAAAAAAAAAAAAAAAAAAAAAAAAAAAAAAAAAAAAAAAAAAAAAAAAAAAAAAAAAAAAAAAAAAAAAAAAAAAAAAAAAAAAAAAAAAAAAAAAAAAAAAAAAAAAAAAAAAAAAAAAAAAAAAAAAAAAAAAAAAAAAAAAAAAAAAAAAAAAAAAAAAAAAAAAAAAAAAAAAAAAAAAAAAAAAAAAAAAAAAAAAAAAAAAAAAAAAAAAAAAAAAAAAAAAAAAAAAAAAAAAAAAAAAAAAAAAAAAAAAAAAAAAAAAAAAAAAAAAAAAAAAAAAAAAAAAAAAAAAAAAAAAAAAAAAAAAAAAAAAAAAAAAAAAAAAAAAAAAAAAAAAAAAAAAAAAAAAAAAAAAAAAAAAAAAAAAAAAAAAAAAAAAAAAAAAAAAAAAAAAAAAAAAAAAAAAAAAAAAAAAAAAAAAAAAAAAAAAAAAAAAAAAAAAAAAAAAAAAAAAAAAAAAAAAAAAAAAAAAAAAAAAAAAAAAAAAAAAAAAAAAAAAAAAAAAAAAAAAAAAAAAAAAAAAAAAAAAAAAAAAAAAAAAAAAAAAAAAAAAAAAAAAAAAAAAAAAAAAAAAAAAAAAAAAAAAAAAAAAAAAAAAAAAAAAAAAAAAAAAAAAAAAAAAAAAAAAAAAAAAAAAAAAAAAAAAAAAAAAAAAAAAAAAAAAAAAAAAAAAAAAAAAAAAAAAAAAAAAAAAAAAAAAAAAAAAAAAAAAAAAAAAAAAAAAAAAAAAAAAAAAAAAAAAAAAAAAAAAAAAAAAAAAAAAAAAAAAAAAAAAAAAAAAAAAAAAAAAAAAAAAAAAAAAAAAAAAAAAAAAAAAAAAAAAAAAAAAAAAAAAAAAAAAAAAAAAAAAAAAAAAAAAAAAAAAAAAAAAAAAAAAAAAAAAAAAAAAAAAAAAAAAAAAAAAAAAAAAAAAAAAAAAAAAAAAAAAAAAAAAAAAAAAAAAAAAAAAAAAAAAAAAAAAAAAAAAAAAAAAAAAAAAAAAAAAAAAAAAAAAAAAAAAAAAAAAAAAAAAAAAAAAAAAAAAAAAAAAAAAAAAAAAAAAAAAAAAAAAAAAAAAAAAAAAAAAAAAAAAAAAAAAAAAAAAAAAAAAAAAAAAAAAAAAAAAAAAAAAAAAAAAAAAAAAAAAAAAAAAAAAAAAAAAAAAAAAAAAAAAAAAAAAAAAAAAAAAAAAAAAAAAAAAAAAAAAAAAAAAAAAAAAAAAAAAAAAAAAAAAAAAAAAAAAAAAAAAAAAAAAAAAAAAAAAAAAAAAAAAAAAAAAAAAAAAAAAAAAAAAAAAAAAAAAAAAAAAAAAAAAAAAAAAAAAAAAAAAAAAAAAAAAAAAAAAAAAAAAAAAAAAAAAAAAAAAAAAAAAAAAAAAAAAAAAAAAAAAAAAAAAAAAAAAAAAAAAAAAAAAAAAAAAAAAAAAAAAAAAAAAAAAAAAAAAAAAAAAAAAAAAAAAAAAAAAAAAAAAAAAAAAAAAAAAAAAAAAAAAAAAAAAAAAAAAAAAAAAAAAAAAAAAAAAAAAAAAAAAAAAAAAAAAAAAAAAAAAAAAAAAAAAAAAAAAAAAAAAAAAAAAAAAAAAAAAAAAAAAAAAAAAAAAAAAAAAAAAAAAAAAAAAAAAAAAAAAAAAAAAAAAAAAAAAAAAAAAAAAAAAAAAAAAAAAAAAAAAAAAAAAAAAAAAAAAAAAAAAAAAAAAAAAAAAAAAAAAAAAAAAAAAAAAAAAAAAAAAAAAAAAAAAAAAAAAAAAAAAAAAAAAAAAAAAAAAAAAAAAAAAAAAAAAAAAAAAAAAAAAAAAAAAAAAAAAAAAAAAAAAAAAAAAAAAAAAAAAAAAAAAAAAAAAAAAAAAAAAAAAAAAAAAAAAAAAAAAAAAAAAAAAAAAAAAAAAAAAAAAAAAAAAAAAAAAAAAAAAAAAAAAAAAAAAAAAAAAAAAAAAAAAAAAAAAAAAAAAAAAAAAAAAAAAAAAAAAAAAAAAAAAAAAAAAAAAAAAAAAAAAAAAAAAAAAAAAAAAAAAAAAAAAAAAAAAAAAAAAAAAAAAAAAEAAQABAAEAAQABAAEAAAAAAAEAAQABAAEAAQABAAEAAQABAAEAAQABAAEAAQABAAEAAQABAAEAAQABAAEAAQABAAEAAQABAAEAAQAAAAAAAQABAAEAAQABAAEAAQAAAAAAAAAAAAAAAAAAAAAAAAAAAAAAAAAAAAAAAAAAAAAAAAAAAAAAAAAAAAAAAAAAAAAAAAAAAAAAAAAAAAAAAAAAAAAAAAAAAAAAAAAAAAAAAAAAAAAAAAAAAAAAAAAAAAAAAAAAAAAAAAAAAAAAAAAAAAAAAAAAAAAAAAAAAAAAAAAAAAAAAAAAAAAAAAAAAAAAAAAAAAAAAAAAAAAAAAAAAAAAAAAAAAAAAAAAAAAAAAAAAAAAAAAAAAAAAAAAAAAAAAAAAAAAAAAAAAAAAAAAAAAAAAAAAAAAAAAAAAAAAAAAAAAAAAAAAAAAAAAAAAAAAAAAAAAAAAAAAAAAAAAAAAAAAAAAAAAAAAAAAAAAAAAAAAAAAAAAAAAAAAAAAAAAAAAAAAAAAAAAAAAAAAAAAAAAAAAAAAAAAAAAAAAAAAAAAAAAAAAAAAAAAAAAAAAAAAAAAAAAAAAAAAAAAAAAAAAAAAAAAAAAAAAAAAAAAAAAAAAAAAAAAAAAAAAAAAAAAAAAAAAAAAAAAAAAAAAAAAAAAAAAAAAAAAAAAAAAAAAAAAAAAAAAAAAAAAAAAAAAAAAAAAAAAAAAAAAAAAAAAAAAAAAAAAAAAAAAAAAAAAAAAAAAAAAAAAAAAAAAAAAAAAAAAAAAAAAAAAAAAAAAAAAAAAAAAAAAAAAAAAAAAAAAAAAAAAAAAAAAAAAAAAAAAAAAAAAAAAAAAAAAAAAAAAAAAAAAAAAAAAAAAAAAAAAAAAAAAAAAAAAAAAAAAAAAAAAAAAAAAAAAAAAAAAAAAAAAAAAAAAAAAAAAAAAAAAAAAAAAAAAAAAAAAAAAAAAAAAAAAAAAAAAAAAAAAAAAAAAAAAAAAAAAAAAAAAAAAAAAAAAAAAAAAAAAAAAAAAAAAAAAAAAAAAAAAAAAAAAAAAAAAAAAAAAAAAAAAAAAAAAAAAAAAAAAAAAAAAAAAAAAAAAAAAAAAAAAAAAAAAAAAAAAAAAAAAAAAAAAAAAAAAAAAAAAAAAAAAAAAAAAAAAAAAAAAAAAAAAAAAAAAAAAAAAAAAAAAAAAAAAAAAAAAAAAAAAAAAAAAAAAAAAAAAAAAAAAAAAAAAAAAAAAAAAAAAAAAAAAAAAAAAAAAAAAAAAAAAAAAAAAAAAAAAAAAAAAAAAAAAAAAAAAAAAAAAAAAAAAAAAAAAAAAAAAAAAAAAAAAAAAAAAAAAAAAAAAAAAAAAAAAAAAAAAAAAAAAAAAAAAAAAAAAAAAAAAAAAAAAAAAAAAAAAAAAAAAAAAAAAAAAAAAAAAAAAAAAAAAAAAAAAAAAAAAAAAAAAAAAAAAAAAAAAAAAAAAAAAAAAAAAAAAAAAAAAAAAAAAAAAAAAAAAAAAAAAAAAAAAAAAAAAAAAAAAAAAAAAAAAAAAAAAAAAAAAAAAAAAAAAAAAAAAAAAAAAAAAAAAAAAAAAAAAAAAAAAAAAAAAAAAAAAAAAAAAAAAAAAAAAAAAAAAAAAAAAAAAAAAAAAAAAAAAAAAAAAAAAAAAAAAAAAAAAAAAAAAAAAAAAAAAAAAAAAAAAAAAAAAAAAAAAAAAAAAAAAAAAAAAAAAAAAAAAAAAAAAAAAAAAAAAAAAAAAAAAAAAAAAAAAAAAAAAAAAAAAAAAAAAAAAAAAAAAAAAAAAAAAAAAAAAAAAAAAAAAAAAAAAAAAAAAAAAAAAAAAAAAAAAAAAAAAAAAAAAAAAAAAAAAAAAAAAAAAAAAAAAAAAAAAAAAAAAAAAAAAAAAAAAAAAAAAAAAAAAAAAAAAAAAAAAAAAAAAAAAAAAAAAAAAAAAAAAAAAAAAAAAAAAAAAAAAAAAAAAAAAAAAAAAAAAAAAAAAAAAAAAAAAAAAAAAAAAAAAAAAAAAAAAAAAAAAAAAAAAAAAAAAAAAAAAAAAAAAAAAAAAAAAAAAAAAAAAAAAAAAAAAAAAAAAAAAAAAAAAAAAQABAAAAAAABAAAAAAAAAAAAAAAAAAEAAgABAAIAAgABAAEAAQABAAEAAQABAAIAAgACAAQABQAEAAQABQAFAAMAAwACAAIAAgACAAMABAAEAAUABQAFAAQABAAGAAUABAAEAAUAAwACAAEAAgAEAAIAAgAFAAYAAwACAAEAAAAAAAAAAAAAAAAAAAAAAAAA/v///wAA/v/+/////v///wAAAAAAAAAA//////7//v/+//3//f///wAAAAAAAAAAAgABAAAAAAAAAAEAAQADAAQAAwADAAMABAAFAAQABQAHAAcABwAGAAUABQAEAAEAAAAAAP//AAADAAUABgAGAAUABAAEAAIAAAAAAAAAAAAAAAAAAAAAAAAAAAAAAAAAAgACAAMAAwACAAIAAwABAAIABAAFAAgACAAJAAoACQAGAAUABAADAAMAAQABAAIAAgADAAMAAwADAAMAAgACAAIAAQAAAP///v/9//7//v///wAAAAABAAQAAwACAAAAAAAAAAAA//8AAAAAAAABAAEAAQACAAIAAAAAAAAAAAAAAAAAAAAAAAAAAAABAAIAAQABAAEAAAAAAAAAAQABAAAAAQACAAEAAAAAAAAAAAAAAAAAAAABAAIAAQABAAEAAQABAAEAAQABAAEAAQABAAEAAAABAAIAAgACAAIAAgABAAEAAQACAAIAAQABAAEAAQABAAIAAQABAAEAAAAAAAAAAAAAAAAAAAAAAAAAAAAAAAAAAAAAAAAAAAAAAAAAAAAAAAAAAAAAAAAAAAAAAAAAAAAAAAAAAAAAAAAAAAAAAAAAAAAAAAAAAAAAAAAAAAAAAAAAAAAAAAAAAAAAAAAAAAAAAAAAAAAAAAAAAAAAAAAAAAAAAAAAAAAAAAAAAAAAAAAAAAAAAAAAAAAAAAAAAAAAAAAAAAAAAAAAAAAAAAAAAAAAAAAAAAAAAAAAAAAAAAAAAAAAAAAAAAAAAAAAAAAAAAAAAAAAAAAAAAAAAAAAAAAAAAAAAAAAAAAAAAAAAAAAAAAAAAAAAAAAAAAAAAAAAAAAAAAAAAAAAAAAAAAAAAAAAAAAAAAAAAAAAAAAAAAAAAAAAAAAAAAAAAAAAAAAAAAAAAAAAAAAAAAAAAAAAAAAAAAAAAAAAAAAAAAAAAAAAAAAAAAAAAAAAAAAAAAAAAAAAAAAAAAAAAAAAAAAAAAAAAAAAAAAAAAAAAAAAAAAAAAAAAAAAAAAAAAAAAAAAAAAAAAAAAAAAAAAAAAAAAAAAAAAAAAAAAAAAAAAAAAAAAAAAAAAAAAAAAAAAAAAAAAAAAAAAAAAAAAAAAAAAAAAAAAAAAAAAAAAAAAAAAAAAAAAAAAAAAAAAAAAAAAAAAAAAAAAAAAAAAAAAAAAAAAAAAAAAAAAAAAAAAAAAAAAAAAAAAAAAAAAAAAAAAAAAAAAAAAAAAAAAAAAAAAAAAAAAAAAAAAAAAAAAAAAAAAAAAAAAAAAAAAAAAAAAAAAAAAAAAAAAAAAAAAAAAAAAAAAAAAAAAAAAAAAAAAAAAAAAAAAAAAAAAAAAAAAAAAAAAAAAAAAAAAAAAAAAAAAAAAAAAAAAAAAAAAAAAAAAAAAAAAAAAAAAAAAAAAAAAAAAAAAAAAAAAAAAAAAAAAAAAAAAAAAAAAAAAAAAAAAAAAAAAAAAAAAAAAAAAAAAAAAAAAAAAAAAAAAAAAAAAAAAAAAAAAAAAAAAAAAAAAAAAAAAAAAAAAAAAAAAAAAAAAAAAAAAAAAAAAAAAAAAAAAAAAAAAAAAAAAAAAAAAAAAAAAAAAAAAAAAAAAAAAAAAAAAAAAAAAAAAAAAAAAAAAAAAAAAAAAAAAAAAAAAAA=\" type=\"audio/wav\" />\n",
       "                    Your browser does not support the audio element.\n",
       "                </audio>\n",
       "              "
      ],
      "text/plain": [
       "<IPython.lib.display.Audio object>"
      ]
     },
     "execution_count": 11,
     "metadata": {},
     "output_type": "execute_result"
    }
   ],
   "source": [
    "tell_me_a_joke(\"ja\", 'joke.mp3')\n",
    "\n",
    "import librosa, IPython\n",
    "x, fs = librosa.load('joke.mp3')\n",
    "IPython.display.Audio(data=x, rate=fs)"
   ]
  },
  {
   "cell_type": "markdown",
   "id": "6e197bdf",
   "metadata": {},
   "source": [
    "<a id='section3'></a>"
   ]
  },
  {
   "cell_type": "markdown",
   "id": "e4b0ffdb",
   "metadata": {},
   "source": [
    "## 3. What day is it today?"
   ]
  },
  {
   "cell_type": "markdown",
   "id": "fb9cba2c",
   "metadata": {},
   "source": [
    "Let's ask our assistant to tell us today's date.  In order to give her something to say, we will also ask her to say what is today's current date, using the python `datetime` package.  \n",
    "`datetime` gives the current date in several different ways.  For example,"
   ]
  },
  {
   "cell_type": "code",
   "execution_count": 12,
   "id": "8dc7fc3a",
   "metadata": {},
   "outputs": [
    {
     "name": "stdout",
     "output_type": "stream",
     "text": [
      "The year is 2023\n",
      "The month is 9\n",
      "The day is 20\n",
      "It is the 3 day of the week\n"
     ]
    }
   ],
   "source": [
    "import datetime\n",
    "print('The year is',datetime.date.today().year)\n",
    "print('The month is',datetime.date.today().month)\n",
    "print('The day is',datetime.date.today().day)\n",
    "print('It is the',datetime.date.today().isoweekday(),'day of the week')"
   ]
  },
  {
   "cell_type": "markdown",
   "id": "a062e576",
   "metadata": {},
   "source": [
    "We can use some dictionaries to make those numbers more friendly."
   ]
  },
  {
   "cell_type": "code",
   "execution_count": 20,
   "id": "0fa35825",
   "metadata": {},
   "outputs": [],
   "source": [
    "def what_day_is_it(lang, audiofile):\n",
    "    '''\n",
    "    Tell me what day it is.\n",
    "\n",
    "    @params:\n",
    "    lang (str) - language in which to record the date\n",
    "    audiofile (str) - filename in which to read the date\n",
    "    \n",
    "    @returns:\n",
    "    url (str) - URL that you can look up in order to see the calendar for this month and year\n",
    "    '''\n",
    "    today = datetime.date.today()\n",
    "    year = today.year\n",
    "    month = today.month\n",
    "    day = today.day\n",
    "    weekday = today.isoweekday()\n",
    "    if lang==\"en\":\n",
    "        weekdays=['','Monday','Tuesday','Wednesday','Thursday','Friday','Saturday','Sunday']\n",
    "        months=['','January','February','March','April','May','June','July','August','September','October','November','December']\n",
    "        text = \"%s, %s %d, %d\"%(weekdays[weekday],months[month],day,year)\n",
    "        gtts.gTTS(\"Today is \"+text,lang=\"en\").save(audiofile)\n",
    "    elif lang==\"ja\":\n",
    "        weekdays=' 月火水木金土日'\n",
    "        text=\"%s曜日,%d月%d日, %d年\"%(weekdays[weekday],month,day,year)\n",
    "        gtts.gTTS(\"今日は\"+text,lang=\"ja\").save(audiofile)\n",
    "    elif lang==\"zh\":\n",
    "        weekdays=['','周一','周二','周三','周四','周五','周六','星期日']\n",
    "        text='%s, %d月%d日, %d年'%(weekdays[weekday],month,day,year)\n",
    "        gtts.gTTS(\"今天是\"+text,lang=\"zh\").save(audiofile)\n"
   ]
  },
  {
   "cell_type": "markdown",
   "id": "0a1565cd",
   "metadata": {},
   "source": [
    "Let's try it:"
   ]
  },
  {
   "cell_type": "code",
   "execution_count": 21,
   "id": "38053c11",
   "metadata": {},
   "outputs": [
    {
     "ename": "ModuleNotFoundError",
     "evalue": "No module named 'librosa'",
     "output_type": "error",
     "traceback": [
      "\u001b[0;31m---------------------------------------------------------------------------\u001b[0m",
      "\u001b[0;31mModuleNotFoundError\u001b[0m                       Traceback (most recent call last)",
      "Cell \u001b[0;32mIn[21], line 3\u001b[0m\n\u001b[1;32m      1\u001b[0m what_day_is_it(\u001b[38;5;124m\"\u001b[39m\u001b[38;5;124mzh\u001b[39m\u001b[38;5;124m\"\u001b[39m,\u001b[38;5;124m\"\u001b[39m\u001b[38;5;124mdate.mp3\u001b[39m\u001b[38;5;124m\"\u001b[39m)\n\u001b[0;32m----> 3\u001b[0m \u001b[38;5;28;01mimport\u001b[39;00m \u001b[38;5;21;01mlibrosa\u001b[39;00m\u001b[38;5;241m,\u001b[39m \u001b[38;5;21;01mIPython\u001b[39;00m\n\u001b[1;32m      4\u001b[0m x, fs \u001b[38;5;241m=\u001b[39m librosa\u001b[38;5;241m.\u001b[39mload(\u001b[38;5;124m'\u001b[39m\u001b[38;5;124mdate.mp3\u001b[39m\u001b[38;5;124m'\u001b[39m)\n\u001b[1;32m      5\u001b[0m IPython\u001b[38;5;241m.\u001b[39mdisplay\u001b[38;5;241m.\u001b[39mAudio(data\u001b[38;5;241m=\u001b[39mx, rate\u001b[38;5;241m=\u001b[39mfs)\n",
      "\u001b[0;31mModuleNotFoundError\u001b[0m: No module named 'librosa'"
     ]
    }
   ],
   "source": [
    "what_day_is_it(\"zh\",\"date.mp3\")\n",
    "\n",
    "import librosa, IPython\n",
    "x, fs = librosa.load('date.mp3')\n",
    "IPython.display.Audio(data=x, rate=fs)"
   ]
  },
  {
   "cell_type": "markdown",
   "id": "32f94ae2",
   "metadata": {},
   "source": [
    "<a id='section4'></a>"
   ]
  },
  {
   "cell_type": "markdown",
   "id": "6e2a4225",
   "metadata": {},
   "source": [
    "## 4. Personal assistant\n",
    "\n",
    "Now let's put it all together in a personal assistant app.  Your personal assistant will listen to you, and respond when you make any of the following four types of requests:\n",
    "\n",
    "* If you say anything containing \"What time,\" it will tell you the time\n",
    "* If you say anythin containing the word \"joke,\" it will tell you a joke\n",
    "* If you say anything containing the word \"calendar,\" it will open your calendar\n",
    "* If you say something else, it will say \"I'm sorry, I didn't understand you!\"\n",
    "\n",
    "First, let's create a convenience function that listens to us:"
   ]
  },
  {
   "cell_type": "code",
   "execution_count": 22,
   "id": "1f7ed6c3",
   "metadata": {},
   "outputs": [],
   "source": [
    "import speech_recognition\n",
    "\n",
    "def personal_assistant(lang, filename):\n",
    "    if lang==\"en\":\n",
    "        keywords = [\"what time\", \"joke\", \"what day\", \"I'm sorry, I didn't understand you\"]\n",
    "    elif lang==\"ja\":\n",
    "        keywords = [\"何時\",\"冗談\",\"何日\",\"すみません、よくわかりませんでした\"]\n",
    "    elif lang==\"zh\":\n",
    "        keywords = [\"几奌\",\"玩笑\",\"什么日子\",\"对不起，我没听懂你的话\"]\n",
    "    else:\n",
    "        speech_package.synthesize(\"I don't know that language!\",\"en\",filename)\n",
    "        return\n",
    "\n",
    "    r = speech_recognition.Recognizer()\n",
    "\n",
    "    while True:\n",
    "        print('Listening...')\n",
    "        with speech_recognition.Microphone() as source:\n",
    "            r.adjust_for_ambient_noise(source)\n",
    "            try:\n",
    "                audio = r.listen(source)\n",
    "                text = r.recognize_google(audio, language=lang)\n",
    "            except speech_recognition.UnknownValueError:\n",
    "                print('I did not understand that, I will try again')\n",
    "                continue\n",
    "            except sr.RequestError:\n",
    "                print('Sorry, I could not reach the internet, I will try again')\n",
    "                continue\n",
    "            except sr.WaitTimeoutError:\n",
    "                continue\n",
    "            \n",
    "        print(\"I heard\",text)\n",
    "        if keywords[0] in text:\n",
    "            what_time_is_it(lang, filename)\n",
    "            break\n",
    "        elif keywords[1] in text:\n",
    "            tell_me_a_joke(lang, filename)\n",
    "            break\n",
    "        elif keywords[2] in text:\n",
    "            what_day_is_it(lang, filename)\n",
    "        else:\n",
    "            print(keywords[3])\n",
    "            print('I will try again')\n",
    "            "
   ]
  },
  {
   "cell_type": "markdown",
   "id": "28a15362",
   "metadata": {},
   "source": [
    "Now let's try running the personal assistant:"
   ]
  },
  {
   "cell_type": "code",
   "execution_count": 23,
   "id": "65feb87e",
   "metadata": {},
   "outputs": [
    {
     "name": "stdout",
     "output_type": "stream",
     "text": [
      "Listening...\n"
     ]
    },
    {
     "ename": "AttributeError",
     "evalue": "Could not find PyAudio; check installation",
     "output_type": "error",
     "traceback": [
      "\u001b[0;31m---------------------------------------------------------------------------\u001b[0m",
      "\u001b[0;31mModuleNotFoundError\u001b[0m                       Traceback (most recent call last)",
      "File \u001b[0;32m/opt/anaconda3/lib/python3.11/site-packages/speech_recognition/__init__.py:108\u001b[0m, in \u001b[0;36mMicrophone.get_pyaudio\u001b[0;34m()\u001b[0m\n\u001b[1;32m    107\u001b[0m \u001b[38;5;28;01mtry\u001b[39;00m:\n\u001b[0;32m--> 108\u001b[0m     \u001b[38;5;28;01mimport\u001b[39;00m \u001b[38;5;21;01mpyaudio\u001b[39;00m\n\u001b[1;32m    109\u001b[0m \u001b[38;5;28;01mexcept\u001b[39;00m \u001b[38;5;167;01mImportError\u001b[39;00m:\n",
      "\u001b[0;31mModuleNotFoundError\u001b[0m: No module named 'pyaudio'",
      "\nDuring handling of the above exception, another exception occurred:\n",
      "\u001b[0;31mAttributeError\u001b[0m                            Traceback (most recent call last)",
      "Cell \u001b[0;32mIn[23], line 1\u001b[0m\n\u001b[0;32m----> 1\u001b[0m personal_assistant(\u001b[38;5;124m\"\u001b[39m\u001b[38;5;124mja\u001b[39m\u001b[38;5;124m\"\u001b[39m, \u001b[38;5;124m\"\u001b[39m\u001b[38;5;124mtest.mp3\u001b[39m\u001b[38;5;124m\"\u001b[39m)\n\u001b[1;32m      3\u001b[0m x, fs \u001b[38;5;241m=\u001b[39m librosa\u001b[38;5;241m.\u001b[39mload(\u001b[38;5;124m\"\u001b[39m\u001b[38;5;124mtest.mp3\u001b[39m\u001b[38;5;124m\"\u001b[39m)\n\u001b[1;32m      4\u001b[0m IPython\u001b[38;5;241m.\u001b[39mdisplay\u001b[38;5;241m.\u001b[39mAudio(data\u001b[38;5;241m=\u001b[39mx, rate\u001b[38;5;241m=\u001b[39mfs)\n",
      "Cell \u001b[0;32mIn[22], line 18\u001b[0m, in \u001b[0;36mpersonal_assistant\u001b[0;34m(lang, filename)\u001b[0m\n\u001b[1;32m     16\u001b[0m \u001b[38;5;28;01mwhile\u001b[39;00m \u001b[38;5;28;01mTrue\u001b[39;00m:\n\u001b[1;32m     17\u001b[0m     \u001b[38;5;28mprint\u001b[39m(\u001b[38;5;124m'\u001b[39m\u001b[38;5;124mListening...\u001b[39m\u001b[38;5;124m'\u001b[39m)\n\u001b[0;32m---> 18\u001b[0m     \u001b[38;5;28;01mwith\u001b[39;00m speech_recognition\u001b[38;5;241m.\u001b[39mMicrophone() \u001b[38;5;28;01mas\u001b[39;00m source:\n\u001b[1;32m     19\u001b[0m         r\u001b[38;5;241m.\u001b[39madjust_for_ambient_noise(source)\n\u001b[1;32m     20\u001b[0m         \u001b[38;5;28;01mtry\u001b[39;00m:\n",
      "File \u001b[0;32m/opt/anaconda3/lib/python3.11/site-packages/speech_recognition/__init__.py:80\u001b[0m, in \u001b[0;36mMicrophone.__init__\u001b[0;34m(self, device_index, sample_rate, chunk_size)\u001b[0m\n\u001b[1;32m     77\u001b[0m \u001b[38;5;28;01massert\u001b[39;00m \u001b[38;5;28misinstance\u001b[39m(chunk_size, \u001b[38;5;28mint\u001b[39m) \u001b[38;5;129;01mand\u001b[39;00m chunk_size \u001b[38;5;241m>\u001b[39m \u001b[38;5;241m0\u001b[39m, \u001b[38;5;124m\"\u001b[39m\u001b[38;5;124mChunk size must be a positive integer\u001b[39m\u001b[38;5;124m\"\u001b[39m\n\u001b[1;32m     79\u001b[0m \u001b[38;5;66;03m# set up PyAudio\u001b[39;00m\n\u001b[0;32m---> 80\u001b[0m \u001b[38;5;28mself\u001b[39m\u001b[38;5;241m.\u001b[39mpyaudio_module \u001b[38;5;241m=\u001b[39m \u001b[38;5;28mself\u001b[39m\u001b[38;5;241m.\u001b[39mget_pyaudio()\n\u001b[1;32m     81\u001b[0m audio \u001b[38;5;241m=\u001b[39m \u001b[38;5;28mself\u001b[39m\u001b[38;5;241m.\u001b[39mpyaudio_module\u001b[38;5;241m.\u001b[39mPyAudio()\n\u001b[1;32m     82\u001b[0m \u001b[38;5;28;01mtry\u001b[39;00m:\n",
      "File \u001b[0;32m/opt/anaconda3/lib/python3.11/site-packages/speech_recognition/__init__.py:110\u001b[0m, in \u001b[0;36mMicrophone.get_pyaudio\u001b[0;34m()\u001b[0m\n\u001b[1;32m    108\u001b[0m     \u001b[38;5;28;01mimport\u001b[39;00m \u001b[38;5;21;01mpyaudio\u001b[39;00m\n\u001b[1;32m    109\u001b[0m \u001b[38;5;28;01mexcept\u001b[39;00m \u001b[38;5;167;01mImportError\u001b[39;00m:\n\u001b[0;32m--> 110\u001b[0m     \u001b[38;5;28;01mraise\u001b[39;00m \u001b[38;5;167;01mAttributeError\u001b[39;00m(\u001b[38;5;124m\"\u001b[39m\u001b[38;5;124mCould not find PyAudio; check installation\u001b[39m\u001b[38;5;124m\"\u001b[39m)\n\u001b[1;32m    111\u001b[0m \u001b[38;5;28;01mfrom\u001b[39;00m \u001b[38;5;21;01mdistutils\u001b[39;00m\u001b[38;5;21;01m.\u001b[39;00m\u001b[38;5;21;01mversion\u001b[39;00m \u001b[38;5;28;01mimport\u001b[39;00m LooseVersion\n\u001b[1;32m    112\u001b[0m \u001b[38;5;28;01mif\u001b[39;00m LooseVersion(pyaudio\u001b[38;5;241m.\u001b[39m__version__) \u001b[38;5;241m<\u001b[39m LooseVersion(\u001b[38;5;124m\"\u001b[39m\u001b[38;5;124m0.2.11\u001b[39m\u001b[38;5;124m\"\u001b[39m):\n",
      "\u001b[0;31mAttributeError\u001b[0m: Could not find PyAudio; check installation"
     ]
    }
   ],
   "source": [
    "personal_assistant(\"ja\", \"test.mp3\")\n",
    "\n",
    "x, fs = librosa.load(\"test.mp3\")\n",
    "IPython.display.Audio(data=x, rate=fs)"
   ]
  },
  {
   "cell_type": "markdown",
   "id": "564707ab",
   "metadata": {},
   "source": [
    "<a id='homework'></a>"
   ]
  },
  {
   "cell_type": "markdown",
   "id": "4e6b32d4",
   "metadata": {},
   "source": [
    "## Homework"
   ]
  },
  {
   "cell_type": "markdown",
   "id": "7a9eeaa5",
   "metadata": {},
   "source": [
    "In the homework file `homework14.py`, please create four functions `what_time_is_it`, `tell_me_a_joke`, `what_day_is_it`, and `personal_assistant` like those above."
   ]
  },
  {
   "cell_type": "code",
   "execution_count": 24,
   "id": "3093e619",
   "metadata": {},
   "outputs": [
    {
     "ename": "IndentationError",
     "evalue": "unindent does not match any outer indentation level (homework14.py, line 86)",
     "output_type": "error",
     "traceback": [
      "Traceback \u001b[0;36m(most recent call last)\u001b[0m:\n",
      "\u001b[0m  File \u001b[1;32m/opt/anaconda3/lib/python3.11/site-packages/IPython/core/interactiveshell.py:3553\u001b[0m in \u001b[1;35mrun_code\u001b[0m\n    exec(code_obj, self.user_global_ns, self.user_ns)\u001b[0m\n",
      "\u001b[0;36m  Cell \u001b[0;32mIn[24], line 1\u001b[0;36m\n\u001b[0;31m    import homework14, importlib\u001b[0;36m\n",
      "\u001b[0;36m  File \u001b[0;32m~/Downloads/intro_speech_understanding/2024_spring/lec14/homework14.py:86\u001b[0;36m\u001b[0m\n\u001b[0;31m    if lang==\"en\":\u001b[0m\n\u001b[0m                  ^\u001b[0m\n\u001b[0;31mIndentationError\u001b[0m\u001b[0;31m:\u001b[0m unindent does not match any outer indentation level\n"
     ]
    }
   ],
   "source": [
    "import homework14, importlib\n",
    "importlib.reload(homework14)\n",
    "help(homework14.what_time_is_it)"
   ]
  },
  {
   "cell_type": "code",
   "execution_count": 25,
   "id": "d188075d",
   "metadata": {},
   "outputs": [
    {
     "ename": "NameError",
     "evalue": "name 'homework14' is not defined",
     "output_type": "error",
     "traceback": [
      "\u001b[0;31m---------------------------------------------------------------------------\u001b[0m",
      "\u001b[0;31mNameError\u001b[0m                                 Traceback (most recent call last)",
      "Cell \u001b[0;32mIn[25], line 1\u001b[0m\n\u001b[0;32m----> 1\u001b[0m help(homework14\u001b[38;5;241m.\u001b[39mtell_me_a_joke)\n",
      "\u001b[0;31mNameError\u001b[0m: name 'homework14' is not defined"
     ]
    }
   ],
   "source": [
    "help(homework14.tell_me_a_joke)"
   ]
  },
  {
   "cell_type": "code",
   "execution_count": 26,
   "id": "50131b91",
   "metadata": {},
   "outputs": [
    {
     "ename": "NameError",
     "evalue": "name 'homework14' is not defined",
     "output_type": "error",
     "traceback": [
      "\u001b[0;31m---------------------------------------------------------------------------\u001b[0m",
      "\u001b[0;31mNameError\u001b[0m                                 Traceback (most recent call last)",
      "Cell \u001b[0;32mIn[26], line 1\u001b[0m\n\u001b[0;32m----> 1\u001b[0m help(homework14\u001b[38;5;241m.\u001b[39mwhat_day_is_it)\n",
      "\u001b[0;31mNameError\u001b[0m: name 'homework14' is not defined"
     ]
    }
   ],
   "source": [
    "help(homework14.what_day_is_it)"
   ]
  },
  {
   "cell_type": "code",
   "execution_count": 27,
   "id": "fe8e6d75",
   "metadata": {},
   "outputs": [
    {
     "ename": "NameError",
     "evalue": "name 'homework14' is not defined",
     "output_type": "error",
     "traceback": [
      "\u001b[0;31m---------------------------------------------------------------------------\u001b[0m",
      "\u001b[0;31mNameError\u001b[0m                                 Traceback (most recent call last)",
      "Cell \u001b[0;32mIn[27], line 1\u001b[0m\n\u001b[0;32m----> 1\u001b[0m help(homework14\u001b[38;5;241m.\u001b[39mpersonal_assistant)\n",
      "\u001b[0;31mNameError\u001b[0m: name 'homework14' is not defined"
     ]
    }
   ],
   "source": [
    "help(homework14.personal_assistant)"
   ]
  },
  {
   "cell_type": "markdown",
   "id": "941ba49c",
   "metadata": {},
   "source": [
    "When everything is working, you should be able to run personal_assistant from your homework file:"
   ]
  },
  {
   "cell_type": "code",
   "execution_count": 28,
   "id": "4fac8c33",
   "metadata": {},
   "outputs": [
    {
     "ename": "NameError",
     "evalue": "name 'homework14' is not defined",
     "output_type": "error",
     "traceback": [
      "\u001b[0;31m---------------------------------------------------------------------------\u001b[0m",
      "\u001b[0;31mNameError\u001b[0m                                 Traceback (most recent call last)",
      "Cell \u001b[0;32mIn[28], line 1\u001b[0m\n\u001b[0;32m----> 1\u001b[0m importlib\u001b[38;5;241m.\u001b[39mreload(homework14)\n\u001b[1;32m      2\u001b[0m homework14\u001b[38;5;241m.\u001b[39mpersonal_assistant(\u001b[38;5;124m'\u001b[39m\u001b[38;5;124mja\u001b[39m\u001b[38;5;124m'\u001b[39m,\u001b[38;5;124m'\u001b[39m\u001b[38;5;124mtest.mp3\u001b[39m\u001b[38;5;124m'\u001b[39m)\n\u001b[1;32m      3\u001b[0m x, fs \u001b[38;5;241m=\u001b[39m librosa\u001b[38;5;241m.\u001b[39mload(\u001b[38;5;124m\"\u001b[39m\u001b[38;5;124mtest.mp3\u001b[39m\u001b[38;5;124m\"\u001b[39m)\n",
      "\u001b[0;31mNameError\u001b[0m: name 'homework14' is not defined"
     ]
    }
   ],
   "source": [
    "importlib.reload(homework14)\n",
    "homework14.personal_assistant('ja','test.mp3')\n",
    "x, fs = librosa.load(\"test.mp3\")\n",
    "IPython.display.Audio(data=x, rate=fs)"
   ]
  },
  {
   "cell_type": "markdown",
   "id": "b1639c43",
   "metadata": {},
   "source": [
    "### Receiving your grade\n",
    "\n",
    "In order to receive a grade for your homework, you need to:\n",
    "\n",
    "1. Run the following code block on your machine.  The result may list some errors, and then in the very last line, it will show a score.  That score (between 0% and 100%) is the grade you have earned so far.  If you want to earn a higher grade, please continue editing `homework3.py`, and then run this code block again.\n",
    "1. When you are happy with your score (e.g., when it reaches 100%), choose `File` $\\Rightarrow$ `Save and Checkpoint`.  Then use `GitHub Desktop` to commit and push your changes.\n",
    "1. Make sure that the 100% shows on your github repo on github.com.  If it doesn't, you will not receive credit."
   ]
  },
  {
   "cell_type": "code",
   "execution_count": 29,
   "id": "6d57efcd",
   "metadata": {},
   "outputs": [
    {
     "name": "stderr",
     "output_type": "stream",
     "text": [
      "FFFFFF\n",
      "======================================================================\n",
      "FAIL: test_tell_me_a_joke_creates_file (grade.Test.test_tell_me_a_joke_creates_file)\n",
      "----------------------------------------------------------------------\n",
      "Traceback (most recent call last):\n",
      "  File \"/Users/yueyiding/Downloads/intro_speech_understanding/2024_spring/lec14/grade.py\", line 17, in import_homework14\n",
      "    import homework14\n",
      "  File \"/Users/yueyiding/Downloads/intro_speech_understanding/2024_spring/lec14/homework14.py\", line 86\n",
      "    if lang==\"en\":\n",
      "                  ^\n",
      "IndentationError: unindent does not match any outer indentation level\n",
      "\n",
      "During handling of the above exception, another exception occurred:\n",
      "\n",
      "Traceback (most recent call last):\n",
      "  File \"/Users/yueyiding/Downloads/intro_speech_understanding/2024_spring/lec14/grade.py\", line 59, in test_tell_me_a_joke_creates_file\n",
      "    self.import_homework14()\n",
      "  File \"/Users/yueyiding/Downloads/intro_speech_understanding/2024_spring/lec14/grade.py\", line 20, in import_homework14\n",
      "    self.fail(\"You did not upload a text file called homework14.py!\")\n",
      "AssertionError: You did not upload a text file called homework14.py!\n",
      "\n",
      "======================================================================\n",
      "FAIL: test_tell_me_a_joke_runs (grade.Test.test_tell_me_a_joke_runs)\n",
      "----------------------------------------------------------------------\n",
      "Traceback (most recent call last):\n",
      "  File \"/Users/yueyiding/Downloads/intro_speech_understanding/2024_spring/lec14/grade.py\", line 17, in import_homework14\n",
      "    import homework14\n",
      "  File \"/Users/yueyiding/Downloads/intro_speech_understanding/2024_spring/lec14/homework14.py\", line 86\n",
      "    if lang==\"en\":\n",
      "                  ^\n",
      "IndentationError: unindent does not match any outer indentation level\n",
      "\n",
      "During handling of the above exception, another exception occurred:\n",
      "\n",
      "Traceback (most recent call last):\n",
      "  File \"/Users/yueyiding/Downloads/intro_speech_understanding/2024_spring/lec14/grade.py\", line 35, in test_tell_me_a_joke_runs\n",
      "    self.import_homework14()\n",
      "  File \"/Users/yueyiding/Downloads/intro_speech_understanding/2024_spring/lec14/grade.py\", line 20, in import_homework14\n",
      "    self.fail(\"You did not upload a text file called homework14.py!\")\n",
      "AssertionError: You did not upload a text file called homework14.py!\n",
      "\n",
      "======================================================================\n",
      "FAIL: test_what_day_is_it_creates_file (grade.Test.test_what_day_is_it_creates_file)\n",
      "----------------------------------------------------------------------\n",
      "Traceback (most recent call last):\n",
      "  File \"/Users/yueyiding/Downloads/intro_speech_understanding/2024_spring/lec14/grade.py\", line 17, in import_homework14\n",
      "    import homework14\n",
      "  File \"/Users/yueyiding/Downloads/intro_speech_understanding/2024_spring/lec14/homework14.py\", line 86\n",
      "    if lang==\"en\":\n",
      "                  ^\n",
      "IndentationError: unindent does not match any outer indentation level\n",
      "\n",
      "During handling of the above exception, another exception occurred:\n",
      "\n",
      "Traceback (most recent call last):\n",
      "  File \"/Users/yueyiding/Downloads/intro_speech_understanding/2024_spring/lec14/grade.py\", line 69, in test_what_day_is_it_creates_file\n",
      "    self.import_homework14()\n",
      "  File \"/Users/yueyiding/Downloads/intro_speech_understanding/2024_spring/lec14/grade.py\", line 20, in import_homework14\n",
      "    self.fail(\"You did not upload a text file called homework14.py!\")\n",
      "AssertionError: You did not upload a text file called homework14.py!\n",
      "\n",
      "======================================================================\n",
      "FAIL: test_what_day_is_it_runs (grade.Test.test_what_day_is_it_runs)\n",
      "----------------------------------------------------------------------\n",
      "Traceback (most recent call last):\n",
      "  File \"/Users/yueyiding/Downloads/intro_speech_understanding/2024_spring/lec14/grade.py\", line 17, in import_homework14\n",
      "    import homework14\n",
      "  File \"/Users/yueyiding/Downloads/intro_speech_understanding/2024_spring/lec14/homework14.py\", line 86\n",
      "    if lang==\"en\":\n",
      "                  ^\n",
      "IndentationError: unindent does not match any outer indentation level\n",
      "\n",
      "During handling of the above exception, another exception occurred:\n",
      "\n",
      "Traceback (most recent call last):\n",
      "  File \"/Users/yueyiding/Downloads/intro_speech_understanding/2024_spring/lec14/grade.py\", line 43, in test_what_day_is_it_runs\n",
      "    self.import_homework14()\n",
      "  File \"/Users/yueyiding/Downloads/intro_speech_understanding/2024_spring/lec14/grade.py\", line 20, in import_homework14\n",
      "    self.fail(\"You did not upload a text file called homework14.py!\")\n",
      "AssertionError: You did not upload a text file called homework14.py!\n",
      "\n",
      "======================================================================\n",
      "FAIL: test_what_time_is_it_creates_file (grade.Test.test_what_time_is_it_creates_file)\n",
      "----------------------------------------------------------------------\n",
      "Traceback (most recent call last):\n",
      "  File \"/Users/yueyiding/Downloads/intro_speech_understanding/2024_spring/lec14/grade.py\", line 17, in import_homework14\n",
      "    import homework14\n",
      "  File \"/Users/yueyiding/Downloads/intro_speech_understanding/2024_spring/lec14/homework14.py\", line 86\n",
      "    if lang==\"en\":\n",
      "                  ^\n",
      "IndentationError: unindent does not match any outer indentation level\n",
      "\n",
      "During handling of the above exception, another exception occurred:\n",
      "\n",
      "Traceback (most recent call last):\n",
      "  File \"/Users/yueyiding/Downloads/intro_speech_understanding/2024_spring/lec14/grade.py\", line 51, in test_what_time_is_it_creates_file\n",
      "    self.import_homework14()\n",
      "  File \"/Users/yueyiding/Downloads/intro_speech_understanding/2024_spring/lec14/grade.py\", line 20, in import_homework14\n",
      "    self.fail(\"You did not upload a text file called homework14.py!\")\n",
      "AssertionError: You did not upload a text file called homework14.py!\n",
      "\n",
      "======================================================================\n",
      "FAIL: test_what_time_is_it_runs (grade.Test.test_what_time_is_it_runs)\n",
      "----------------------------------------------------------------------\n",
      "Traceback (most recent call last):\n",
      "  File \"/Users/yueyiding/Downloads/intro_speech_understanding/2024_spring/lec14/grade.py\", line 17, in import_homework14\n",
      "    import homework14\n",
      "  File \"/Users/yueyiding/Downloads/intro_speech_understanding/2024_spring/lec14/homework14.py\", line 86\n",
      "    if lang==\"en\":\n",
      "                  ^\n",
      "IndentationError: unindent does not match any outer indentation level\n",
      "\n",
      "During handling of the above exception, another exception occurred:\n",
      "\n",
      "Traceback (most recent call last):\n",
      "  File \"/Users/yueyiding/Downloads/intro_speech_understanding/2024_spring/lec14/grade.py\", line 27, in test_what_time_is_it_runs\n",
      "    self.import_homework14()\n",
      "  File \"/Users/yueyiding/Downloads/intro_speech_understanding/2024_spring/lec14/grade.py\", line 20, in import_homework14\n",
      "    self.fail(\"You did not upload a text file called homework14.py!\")\n",
      "AssertionError: You did not upload a text file called homework14.py!\n",
      "\n",
      "----------------------------------------------------------------------\n",
      "Ran 6 tests in 0.017s\n",
      "\n",
      "FAILED (failures=6)\n"
     ]
    },
    {
     "name": "stdout",
     "output_type": "stream",
     "text": [
      "0 successes out of 6 tests run\n",
      "Score: 0%\n"
     ]
    },
    {
     "data": {
      "text/plain": [
       "<module 'grade' from '/Users/yueyiding/Downloads/intro_speech_understanding/2024_spring/lec14/grade.py'>"
      ]
     },
     "execution_count": 29,
     "metadata": {},
     "output_type": "execute_result"
    }
   ],
   "source": [
    "import importlib, grade\n",
    "importlib.reload(grade)"
   ]
  },
  {
   "cell_type": "code",
   "execution_count": null,
   "id": "d9a9c67a",
   "metadata": {},
   "outputs": [],
   "source": []
  },
  {
   "cell_type": "code",
   "execution_count": null,
   "id": "6c19c26a-972a-47e8-a80e-759119720e99",
   "metadata": {},
   "outputs": [],
   "source": []
  }
 ],
 "metadata": {
  "kernelspec": {
   "display_name": "Python 3 (ipykernel)",
   "language": "python",
   "name": "python3"
  },
  "language_info": {
   "codemirror_mode": {
    "name": "ipython",
    "version": 3
   },
   "file_extension": ".py",
   "mimetype": "text/x-python",
   "name": "python",
   "nbconvert_exporter": "python",
   "pygments_lexer": "ipython3",
   "version": "3.11.7"
  }
 },
 "nbformat": 4,
 "nbformat_minor": 5
}
